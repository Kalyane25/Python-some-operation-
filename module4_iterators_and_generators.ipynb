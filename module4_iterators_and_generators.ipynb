{
 "cells": [
  {
   "cell_type": "markdown",
   "id": "fa5df4e6-d959-4092-b8b7-d2ab781d0430",
   "metadata": {},
   "source": [
    "## iterators_and_generators"
   ]
  },
  {
   "cell_type": "code",
   "execution_count": 1,
   "id": "ed507061-2a13-461e-a93c-34d972b3122a",
   "metadata": {},
   "outputs": [
    {
     "name": "stdout",
     "output_type": "stream",
     "text": [
      "p\n",
      "w\n",
      "s\n",
      "k\n",
      "i\n",
      "l\n",
      "l\n",
      "s\n"
     ]
    }
   ],
   "source": [
    "for i in \"pwskills\":\n",
    "    print(i)"
   ]
  },
  {
   "cell_type": "code",
   "execution_count": 5,
   "id": "4b86cb8b-3c7f-4823-a761-0df05806df60",
   "metadata": {},
   "outputs": [
    {
     "name": "stdout",
     "output_type": "stream",
     "text": [
      "niki 12 2 3 kalyan (3+4j) "
     ]
    }
   ],
   "source": [
    "for i in ([\"niki\",12,2,3,\"kalyan\",3+4j]):\n",
    "    print(i,end=\" \")"
   ]
  },
  {
   "cell_type": "code",
   "execution_count": 2,
   "id": "049123b6-dad3-4de7-8ac6-7e30c9482365",
   "metadata": {},
   "outputs": [
    {
     "name": "stdout",
     "output_type": "stream",
     "text": [
      "niki\n",
      "12\n",
      "2\n",
      "3\n",
      "kalyan\n",
      "(3+4j)\n"
     ]
    }
   ],
   "source": [
    "lis=[\"niki\",12,2,3,\"kalyan\",3+4j]\n",
    "for i in lis:\n",
    "    print(i)"
   ]
  },
  {
   "cell_type": "code",
   "execution_count": 3,
   "id": "81270daa-3297-4187-9305-f27570a5741d",
   "metadata": {},
   "outputs": [
    {
     "name": "stdout",
     "output_type": "stream",
     "text": [
      "niki\n",
      "12\n",
      "2\n",
      "3\n",
      "kalyan\n",
      "(3+4j)\n"
     ]
    }
   ],
   "source": [
    "# iterable : an iterable is any python object/sequential structure/data structure that is capable of returning its members one at a time\n",
    "# using for and while loop ,ex: list , tuple ,set\n",
    "lis=[\"niki\",12,2,3,\"kalyan\",3+4j]\n",
    "for i  in lis:\n",
    "    print(i)"
   ]
  },
  {
   "cell_type": "code",
   "execution_count": 4,
   "id": "2dd339f7-053e-4316-8e0e-d71ca16b7f59",
   "metadata": {},
   "outputs": [
    {
     "name": "stdout",
     "output_type": "stream",
     "text": [
      "p\n",
      "w\n",
      "s\n",
      "k\n",
      "l\n",
      "l\n",
      "s\n"
     ]
    }
   ],
   "source": [
    "# iteration: is a process of looping through the element of an iterable will iterate by using loop \n",
    "# the process of returning element one by one through loop (for,while) is called iteration .\n",
    "s=\"pwsklls\" # here s is iterable \n",
    "for i in s:     # we can prepare s for iteration so this line is iterator and the wholw process is called iteration \n",
    "    print(i)"
   ]
  },
  {
   "cell_type": "code",
   "execution_count": 5,
   "id": "c42a672c-9d4f-4cda-bd14-71950b29c497",
   "metadata": {},
   "outputs": [
    {
     "data": {
      "text/plain": [
       "<str_ascii_iterator at 0x19a199a7c10>"
      ]
     },
     "execution_count": 5,
     "metadata": {},
     "output_type": "execute_result"
    }
   ],
   "source": [
    "# we can prepare s for iteration \n",
    "iter(s) # if we see any object by using this prrocess then it can be iterable through iterator"
   ]
  },
  {
   "cell_type": "code",
   "execution_count": 6,
   "id": "ed904f21-ed49-4f0b-8739-db32c2407f57",
   "metadata": {},
   "outputs": [
    {
     "data": {
      "text/plain": [
       "<str_ascii_iterator at 0x19a199a7b50>"
      ]
     },
     "execution_count": 6,
     "metadata": {},
     "output_type": "execute_result"
    }
   ],
   "source": [
    "a=iter(s)\n",
    "a"
   ]
  },
  {
   "cell_type": "code",
   "execution_count": 7,
   "id": "04a9ed7d-b44e-4b98-a814-f54237ca8b28",
   "metadata": {},
   "outputs": [
    {
     "data": {
      "text/plain": [
       "'p'"
      ]
     },
     "execution_count": 7,
     "metadata": {},
     "output_type": "execute_result"
    }
   ],
   "source": [
    "next(a)"
   ]
  },
  {
   "cell_type": "code",
   "execution_count": 8,
   "id": "790c7178-7a9e-4b63-99c5-dbe7d1a02a4f",
   "metadata": {},
   "outputs": [
    {
     "data": {
      "text/plain": [
       "'w'"
      ]
     },
     "execution_count": 8,
     "metadata": {},
     "output_type": "execute_result"
    }
   ],
   "source": [
    "next(a)"
   ]
  },
  {
   "cell_type": "code",
   "execution_count": 9,
   "id": "b940a340-82f0-4dca-8ede-d7a4eebd22e6",
   "metadata": {},
   "outputs": [
    {
     "data": {
      "text/plain": [
       "'s'"
      ]
     },
     "execution_count": 9,
     "metadata": {},
     "output_type": "execute_result"
    }
   ],
   "source": [
    "next(a)"
   ]
  },
  {
   "cell_type": "code",
   "execution_count": 10,
   "id": "0071a84c-d988-48a8-813d-93c259146802",
   "metadata": {},
   "outputs": [
    {
     "data": {
      "text/plain": [
       "'k'"
      ]
     },
     "execution_count": 10,
     "metadata": {},
     "output_type": "execute_result"
    }
   ],
   "source": [
    "next(a)"
   ]
  },
  {
   "cell_type": "code",
   "execution_count": 11,
   "id": "75d2673b-604c-4280-bdde-01066ca2970a",
   "metadata": {},
   "outputs": [
    {
     "data": {
      "text/plain": [
       "'l'"
      ]
     },
     "execution_count": 11,
     "metadata": {},
     "output_type": "execute_result"
    }
   ],
   "source": [
    "next(a)"
   ]
  },
  {
   "cell_type": "code",
   "execution_count": 12,
   "id": "84755e09-32a0-4428-8a40-9ff473009bbe",
   "metadata": {},
   "outputs": [
    {
     "data": {
      "text/plain": [
       "'l'"
      ]
     },
     "execution_count": 12,
     "metadata": {},
     "output_type": "execute_result"
    }
   ],
   "source": [
    "next(a)"
   ]
  },
  {
   "cell_type": "code",
   "execution_count": 13,
   "id": "fb54c78d-cc1f-4258-99e7-98a9a5de9997",
   "metadata": {},
   "outputs": [
    {
     "data": {
      "text/plain": [
       "'s'"
      ]
     },
     "execution_count": 13,
     "metadata": {},
     "output_type": "execute_result"
    }
   ],
   "source": [
    "next(a)"
   ]
  },
  {
   "cell_type": "code",
   "execution_count": 15,
   "id": "ba89576c-f1df-4d32-9a30-e38fa3572693",
   "metadata": {},
   "outputs": [],
   "source": [
    "l=iter([1,2,3.4,\"niki\"])"
   ]
  },
  {
   "cell_type": "code",
   "execution_count": 16,
   "id": "653b4d5d-14e2-4c69-bbf0-5580c22e1788",
   "metadata": {},
   "outputs": [
    {
     "data": {
      "text/plain": [
       "1"
      ]
     },
     "execution_count": 16,
     "metadata": {},
     "output_type": "execute_result"
    }
   ],
   "source": [
    "next(l)"
   ]
  },
  {
   "cell_type": "code",
   "execution_count": 17,
   "id": "00ff298c-d9a5-44dd-a690-22d6f9a5358a",
   "metadata": {},
   "outputs": [
    {
     "data": {
      "text/plain": [
       "2"
      ]
     },
     "execution_count": 17,
     "metadata": {},
     "output_type": "execute_result"
    }
   ],
   "source": [
    "next(l)"
   ]
  },
  {
   "cell_type": "code",
   "execution_count": 18,
   "id": "d3716909-d6d7-4022-9d25-fa82f5e53353",
   "metadata": {},
   "outputs": [
    {
     "data": {
      "text/plain": [
       "3.4"
      ]
     },
     "execution_count": 18,
     "metadata": {},
     "output_type": "execute_result"
    }
   ],
   "source": [
    "next(l)"
   ]
  },
  {
   "cell_type": "code",
   "execution_count": 19,
   "id": "486207d4-f30c-44ad-9387-6d405de0df5a",
   "metadata": {},
   "outputs": [
    {
     "data": {
      "text/plain": [
       "'niki'"
      ]
     },
     "execution_count": 19,
     "metadata": {},
     "output_type": "execute_result"
    }
   ],
   "source": [
    "next(l)"
   ]
  },
  {
   "cell_type": "code",
   "execution_count": 20,
   "id": "80be8f27-f6f7-481f-b30d-35ba0e62b2b3",
   "metadata": {},
   "outputs": [
    {
     "data": {
      "text/plain": [
       "<tuple_iterator at 0x19a199a83a0>"
      ]
     },
     "execution_count": 20,
     "metadata": {},
     "output_type": "execute_result"
    }
   ],
   "source": [
    "t=iter((1,2,3.4,\"niki\",\"kalyan\"))\n",
    "t"
   ]
  },
  {
   "cell_type": "code",
   "execution_count": 21,
   "id": "0c25e0ce-8b01-4c55-975e-9fcb9abbd905",
   "metadata": {},
   "outputs": [
    {
     "data": {
      "text/plain": [
       "1"
      ]
     },
     "execution_count": 21,
     "metadata": {},
     "output_type": "execute_result"
    }
   ],
   "source": [
    "next(t)"
   ]
  },
  {
   "cell_type": "code",
   "execution_count": 22,
   "id": "f66af93a-ff5f-40a4-a289-cdbdd1bfeba4",
   "metadata": {},
   "outputs": [
    {
     "data": {
      "text/plain": [
       "2"
      ]
     },
     "execution_count": 22,
     "metadata": {},
     "output_type": "execute_result"
    }
   ],
   "source": [
    "next(t)"
   ]
  },
  {
   "cell_type": "code",
   "execution_count": 23,
   "id": "4dcaa17b-0ced-41f8-9fbd-624a3876688a",
   "metadata": {},
   "outputs": [
    {
     "data": {
      "text/plain": [
       "3.4"
      ]
     },
     "execution_count": 23,
     "metadata": {},
     "output_type": "execute_result"
    }
   ],
   "source": [
    "next(t)"
   ]
  },
  {
   "cell_type": "code",
   "execution_count": 24,
   "id": "60d5fd99-2a2b-418e-8ec3-b463781e0eb0",
   "metadata": {},
   "outputs": [
    {
     "data": {
      "text/plain": [
       "'niki'"
      ]
     },
     "execution_count": 24,
     "metadata": {},
     "output_type": "execute_result"
    }
   ],
   "source": [
    "next(t)"
   ]
  },
  {
   "cell_type": "code",
   "execution_count": 25,
   "id": "7ac2b0e4-6c40-44dd-af3a-b220afa11dd5",
   "metadata": {},
   "outputs": [
    {
     "data": {
      "text/plain": [
       "'kalyan'"
      ]
     },
     "execution_count": 25,
     "metadata": {},
     "output_type": "execute_result"
    }
   ],
   "source": [
    "next(t)"
   ]
  },
  {
   "cell_type": "code",
   "execution_count": 26,
   "id": "9d957d2d-1953-4078-a5ef-b9cf8dce0dc8",
   "metadata": {},
   "outputs": [],
   "source": [
    "# for set\n",
    "s=iter({1,2,3.4,\"niki\",\"kalyan\"})"
   ]
  },
  {
   "cell_type": "code",
   "execution_count": 27,
   "id": "dc69ec20-15a4-405f-8d4f-5142e495b5d7",
   "metadata": {},
   "outputs": [
    {
     "data": {
      "text/plain": [
       "1"
      ]
     },
     "execution_count": 27,
     "metadata": {},
     "output_type": "execute_result"
    }
   ],
   "source": [
    "next(s)"
   ]
  },
  {
   "cell_type": "code",
   "execution_count": 28,
   "id": "d909daa2-1f7a-44b2-9ff3-74e89d6b70df",
   "metadata": {},
   "outputs": [
    {
     "data": {
      "text/plain": [
       "2"
      ]
     },
     "execution_count": 28,
     "metadata": {},
     "output_type": "execute_result"
    }
   ],
   "source": [
    "next(s)"
   ]
  },
  {
   "cell_type": "code",
   "execution_count": 29,
   "id": "03eaa387-a256-48b4-a367-fcf5dd2fb382",
   "metadata": {},
   "outputs": [
    {
     "data": {
      "text/plain": [
       "3.4"
      ]
     },
     "execution_count": 29,
     "metadata": {},
     "output_type": "execute_result"
    }
   ],
   "source": [
    "next(s)"
   ]
  },
  {
   "cell_type": "code",
   "execution_count": 30,
   "id": "f479d6bf-fd40-44ad-ac9e-0998e10bcf90",
   "metadata": {},
   "outputs": [
    {
     "data": {
      "text/plain": [
       "'niki'"
      ]
     },
     "execution_count": 30,
     "metadata": {},
     "output_type": "execute_result"
    }
   ],
   "source": [
    "next(s)"
   ]
  },
  {
   "cell_type": "code",
   "execution_count": 31,
   "id": "27919be5-2d5b-4a0e-9155-a35aa3c424fa",
   "metadata": {},
   "outputs": [
    {
     "data": {
      "text/plain": [
       "'kalyan'"
      ]
     },
     "execution_count": 31,
     "metadata": {},
     "output_type": "execute_result"
    }
   ],
   "source": [
    "next(s)"
   ]
  },
  {
   "cell_type": "code",
   "execution_count": 32,
   "id": "6d9394db-f1ec-47d5-976e-5596371784d2",
   "metadata": {},
   "outputs": [],
   "source": [
    "# dict\n",
    "d=iter({\"name\":\"niki\"})"
   ]
  },
  {
   "cell_type": "code",
   "execution_count": 33,
   "id": "5a92195e-29b1-4de2-b830-d728f18df0f4",
   "metadata": {},
   "outputs": [
    {
     "data": {
      "text/plain": [
       "<dict_keyiterator at 0x19a1988c1d0>"
      ]
     },
     "execution_count": 33,
     "metadata": {},
     "output_type": "execute_result"
    }
   ],
   "source": [
    "d"
   ]
  },
  {
   "cell_type": "code",
   "execution_count": 34,
   "id": "7f86e906-82d5-46af-bd7f-10f7505dad4e",
   "metadata": {},
   "outputs": [
    {
     "data": {
      "text/plain": [
       "'name'"
      ]
     },
     "execution_count": 34,
     "metadata": {},
     "output_type": "execute_result"
    }
   ],
   "source": [
    "next(d)"
   ]
  },
  {
   "cell_type": "code",
   "execution_count": 5,
   "id": "38097640-7a73-4654-ba7e-7e743923d399",
   "metadata": {},
   "outputs": [],
   "source": [
    "# generator function :\n",
    "# regular function ->>>> about this some notes in copy \n",
    "def square_number(n):  # here n is list \n",
    "    result=[]\n",
    "    for i in n:\n",
    "        result.append(i**2)\n",
    "    return result"
   ]
  },
  {
   "cell_type": "code",
   "execution_count": 6,
   "id": "5e1eced3-0340-41b2-84c2-ad5464e78202",
   "metadata": {},
   "outputs": [
    {
     "data": {
      "text/plain": [
       "[1, 4, 9]"
      ]
     },
     "execution_count": 6,
     "metadata": {},
     "output_type": "execute_result"
    }
   ],
   "source": [
    "square_number([1,2,3])"
   ]
  },
  {
   "cell_type": "code",
   "execution_count": 1,
   "id": "3ecdcc35-97fa-4678-ba9a-e296e5001a36",
   "metadata": {},
   "outputs": [],
   "source": [
    "# regular functio calculates the square of the values and return in one go \n",
    "# since it is returnning one go so more memory will be used and it will taken a lot of execution time if there is a bigger number for calculation time taken more and more memory used \n",
    "def square_number(n):  # here n is the range \n",
    "    result=[]\n",
    "    for i in range(n):\n",
    "        result.append(i**2)\n",
    "    return result"
   ]
  },
  {
   "cell_type": "code",
   "execution_count": 8,
   "id": "fd26aea1-cca4-4e1e-a7ea-ec9bd50c8805",
   "metadata": {},
   "outputs": [
    {
     "data": {
      "text/plain": [
       "[0, 1, 4, 9, 16, 25, 36, 49, 64, 81]"
      ]
     },
     "execution_count": 8,
     "metadata": {},
     "output_type": "execute_result"
    }
   ],
   "source": [
    "square_number(10)"
   ]
  },
  {
   "cell_type": "code",
   "execution_count": 11,
   "id": "bda90c44-5867-45e9-9b77-70cb549edf1e",
   "metadata": {},
   "outputs": [],
   "source": [
    "# can we have something to generate result one by one instead of one go \n",
    "# general function use return statement but generator function use yield statement for returning \n",
    "def square_numbers_generator(n):\n",
    "    for i in range(n):\n",
    "        yield i**2"
   ]
  },
  {
   "cell_type": "code",
   "execution_count": 13,
   "id": "860b16ec-c441-42e2-8213-944e8f80a7d2",
   "metadata": {},
   "outputs": [
    {
     "data": {
      "text/plain": [
       "<generator object square_numbers_generator at 0x0000014F3B704E10>"
      ]
     },
     "execution_count": 13,
     "metadata": {},
     "output_type": "execute_result"
    }
   ],
   "source": [
    "square_numbers_generator(10) # this is grnerator object similar to the iterator object "
   ]
  },
  {
   "cell_type": "code",
   "execution_count": 14,
   "id": "ed9ce1a3-8d46-46c7-9d1c-29b25d63af46",
   "metadata": {},
   "outputs": [],
   "source": [
    "# for iterate one by one \n",
    "gen=square_numbers_generator(10)"
   ]
  },
  {
   "cell_type": "code",
   "execution_count": 15,
   "id": "ba07729c-1de6-44da-82af-c0ed15fdae28",
   "metadata": {},
   "outputs": [
    {
     "data": {
      "text/plain": [
       "0"
      ]
     },
     "execution_count": 15,
     "metadata": {},
     "output_type": "execute_result"
    }
   ],
   "source": [
    "next(gen)"
   ]
  },
  {
   "cell_type": "code",
   "execution_count": 16,
   "id": "15380624-d18d-454f-acf8-f99e2d5de829",
   "metadata": {},
   "outputs": [
    {
     "data": {
      "text/plain": [
       "1"
      ]
     },
     "execution_count": 16,
     "metadata": {},
     "output_type": "execute_result"
    }
   ],
   "source": [
    "next(gen)"
   ]
  },
  {
   "cell_type": "code",
   "execution_count": 17,
   "id": "5b22477d-2b18-4c7e-b4ef-94b32f1dea1b",
   "metadata": {},
   "outputs": [
    {
     "data": {
      "text/plain": [
       "4"
      ]
     },
     "execution_count": 17,
     "metadata": {},
     "output_type": "execute_result"
    }
   ],
   "source": [
    "next(gen)"
   ]
  },
  {
   "cell_type": "code",
   "execution_count": 18,
   "id": "4af23f5a-0be1-4ccc-a891-0e8c60a22d21",
   "metadata": {},
   "outputs": [
    {
     "data": {
      "text/plain": [
       "9"
      ]
     },
     "execution_count": 18,
     "metadata": {},
     "output_type": "execute_result"
    }
   ],
   "source": [
    "next(gen)"
   ]
  },
  {
   "cell_type": "code",
   "execution_count": 19,
   "id": "4183a6d0-13d3-4ffd-9ef9-77ac69e2dce5",
   "metadata": {},
   "outputs": [
    {
     "data": {
      "text/plain": [
       "16"
      ]
     },
     "execution_count": 19,
     "metadata": {},
     "output_type": "execute_result"
    }
   ],
   "source": [
    "next(gen)"
   ]
  },
  {
   "cell_type": "code",
   "execution_count": 20,
   "id": "18bb75d8-1ede-46bd-a088-7df73c3ce271",
   "metadata": {},
   "outputs": [
    {
     "data": {
      "text/plain": [
       "25"
      ]
     },
     "execution_count": 20,
     "metadata": {},
     "output_type": "execute_result"
    }
   ],
   "source": [
    "next(gen)"
   ]
  },
  {
   "cell_type": "code",
   "execution_count": 21,
   "id": "50dad1ed-8097-455f-a109-60952eea1bed",
   "metadata": {},
   "outputs": [
    {
     "data": {
      "text/plain": [
       "36"
      ]
     },
     "execution_count": 21,
     "metadata": {},
     "output_type": "execute_result"
    }
   ],
   "source": [
    "next(gen)"
   ]
  },
  {
   "cell_type": "code",
   "execution_count": 22,
   "id": "2a7e444d-3030-4499-8f90-7f88958b2123",
   "metadata": {},
   "outputs": [
    {
     "data": {
      "text/plain": [
       "49"
      ]
     },
     "execution_count": 22,
     "metadata": {},
     "output_type": "execute_result"
    }
   ],
   "source": [
    "next(gen)"
   ]
  },
  {
   "cell_type": "code",
   "execution_count": 23,
   "id": "869d5c4f-1316-4852-a4af-2ab26625fa5d",
   "metadata": {},
   "outputs": [
    {
     "data": {
      "text/plain": [
       "64"
      ]
     },
     "execution_count": 23,
     "metadata": {},
     "output_type": "execute_result"
    }
   ],
   "source": [
    "next(gen)"
   ]
  },
  {
   "cell_type": "code",
   "execution_count": 24,
   "id": "e4ccf047-53ef-43dc-995e-2993ab363caa",
   "metadata": {},
   "outputs": [
    {
     "data": {
      "text/plain": [
       "81"
      ]
     },
     "execution_count": 24,
     "metadata": {},
     "output_type": "execute_result"
    }
   ],
   "source": [
    "next(gen)"
   ]
  },
  {
   "cell_type": "code",
   "execution_count": 46,
   "id": "5ded61c4-c1e0-4316-92c8-e592ceb8ee28",
   "metadata": {},
   "outputs": [],
   "source": [
    "def fibonacci(n):\n",
    "    a=0\n",
    "    b=1\n",
    "    for i in range(n):\n",
    "        yield a\n",
    "        a,b=b,a+b"
   ]
  },
  {
   "cell_type": "code",
   "execution_count": 47,
   "id": "46b4a587-371b-4196-bc78-c66d06ba629a",
   "metadata": {},
   "outputs": [
    {
     "data": {
      "text/plain": [
       "<generator object fibonacci at 0x0000014F3C066F20>"
      ]
     },
     "execution_count": 47,
     "metadata": {},
     "output_type": "execute_result"
    }
   ],
   "source": [
    "fibonacci(9)"
   ]
  },
  {
   "cell_type": "code",
   "execution_count": 48,
   "id": "a2cc8204-99f3-468e-b0e0-bb57a0cfe018",
   "metadata": {},
   "outputs": [],
   "source": [
    "gen=fibonacci(9)"
   ]
  },
  {
   "cell_type": "code",
   "execution_count": 49,
   "id": "b40f6387-4c2f-42a3-a504-dc22c6410822",
   "metadata": {},
   "outputs": [
    {
     "data": {
      "text/plain": [
       "0"
      ]
     },
     "execution_count": 49,
     "metadata": {},
     "output_type": "execute_result"
    }
   ],
   "source": [
    "next(gen)"
   ]
  },
  {
   "cell_type": "code",
   "execution_count": 50,
   "id": "19457161-d6be-4ab9-840c-677c689ae582",
   "metadata": {},
   "outputs": [
    {
     "data": {
      "text/plain": [
       "1"
      ]
     },
     "execution_count": 50,
     "metadata": {},
     "output_type": "execute_result"
    }
   ],
   "source": [
    "next(gen)"
   ]
  },
  {
   "cell_type": "code",
   "execution_count": 51,
   "id": "30e47962-ec6d-431c-89cf-28c71716ee2e",
   "metadata": {},
   "outputs": [
    {
     "data": {
      "text/plain": [
       "1"
      ]
     },
     "execution_count": 51,
     "metadata": {},
     "output_type": "execute_result"
    }
   ],
   "source": [
    "next(gen)"
   ]
  },
  {
   "cell_type": "code",
   "execution_count": 52,
   "id": "f441f860-d312-4b8c-8dc7-9e44f69aadcb",
   "metadata": {},
   "outputs": [
    {
     "data": {
      "text/plain": [
       "2"
      ]
     },
     "execution_count": 52,
     "metadata": {},
     "output_type": "execute_result"
    }
   ],
   "source": [
    "next(gen)"
   ]
  },
  {
   "cell_type": "code",
   "execution_count": 53,
   "id": "aeffb020-3eee-4204-a235-39a702dbd307",
   "metadata": {},
   "outputs": [
    {
     "data": {
      "text/plain": [
       "3"
      ]
     },
     "execution_count": 53,
     "metadata": {},
     "output_type": "execute_result"
    }
   ],
   "source": [
    "next(gen)"
   ]
  },
  {
   "cell_type": "code",
   "execution_count": 54,
   "id": "e41f71e6-bf3d-4584-995d-49380c0077a2",
   "metadata": {},
   "outputs": [
    {
     "data": {
      "text/plain": [
       "5"
      ]
     },
     "execution_count": 54,
     "metadata": {},
     "output_type": "execute_result"
    }
   ],
   "source": [
    "next(gen)"
   ]
  },
  {
   "cell_type": "code",
   "execution_count": 55,
   "id": "860bf41f-f9eb-444b-b6d8-bcb61e1a79f5",
   "metadata": {},
   "outputs": [
    {
     "data": {
      "text/plain": [
       "8"
      ]
     },
     "execution_count": 55,
     "metadata": {},
     "output_type": "execute_result"
    }
   ],
   "source": [
    "next(gen)"
   ]
  },
  {
   "cell_type": "code",
   "execution_count": 56,
   "id": "d5f4afce-44ee-4d36-8c6c-229401e36e52",
   "metadata": {},
   "outputs": [
    {
     "data": {
      "text/plain": [
       "13"
      ]
     },
     "execution_count": 56,
     "metadata": {},
     "output_type": "execute_result"
    }
   ],
   "source": [
    "next(gen)"
   ]
  },
  {
   "cell_type": "code",
   "execution_count": 57,
   "id": "96f78ecc-151b-427a-8ebd-f966967a6fc2",
   "metadata": {},
   "outputs": [
    {
     "data": {
      "text/plain": [
       "21"
      ]
     },
     "execution_count": 57,
     "metadata": {},
     "output_type": "execute_result"
    }
   ],
   "source": [
    "next(gen)"
   ]
  },
  {
   "cell_type": "code",
   "execution_count": 62,
   "id": "9df2cf62-a80d-4d57-997e-f9827a11f1a4",
   "metadata": {},
   "outputs": [],
   "source": [
    "# regular or general function of fibinacc number \n",
    "def fibonacci(n):\n",
    "    \n",
    "    for i in range(n):\n",
    "        return (n-1)+(n-2)\n",
    "        "
   ]
  },
  {
   "cell_type": "code",
   "execution_count": 63,
   "id": "2d4423ec-43bd-4548-a5f9-dd8c6ef677ae",
   "metadata": {},
   "outputs": [
    {
     "data": {
      "text/plain": [
       "13"
      ]
     },
     "execution_count": 63,
     "metadata": {},
     "output_type": "execute_result"
    }
   ],
   "source": [
    "fibonacci(8)"
   ]
  },
  {
   "cell_type": "code",
   "execution_count": null,
   "id": "1412a6dd-b8c6-401a-b9e8-3cc18a9f68bf",
   "metadata": {},
   "outputs": [],
   "source": []
  }
 ],
 "metadata": {
  "kernelspec": {
   "display_name": "Python 3 (ipykernel)",
   "language": "python",
   "name": "python3"
  },
  "language_info": {
   "codemirror_mode": {
    "name": "ipython",
    "version": 3
   },
   "file_extension": ".py",
   "mimetype": "text/x-python",
   "name": "python",
   "nbconvert_exporter": "python",
   "pygments_lexer": "ipython3",
   "version": "3.11.7"
  }
 },
 "nbformat": 4,
 "nbformat_minor": 5
}
