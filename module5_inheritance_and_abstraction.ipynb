{
 "cells": [
  {
   "cell_type": "markdown",
   "id": "ce690269-ccb7-4ee8-bd1b-fea4946cb0c7",
   "metadata": {},
   "source": [
    "# Inheritance and Abstraction "
   ]
  },
  {
   "cell_type": "code",
   "execution_count": 2,
   "id": "9814757a-4de6-4fb8-8737-ba3519ff3b52",
   "metadata": {},
   "outputs": [
    {
     "data": {
      "text/plain": [
       "'\\nclass BaseClass:\\n    #body\\nclass DerivedClass(BaseClass):\\n    # body\\n    '"
      ]
     },
     "execution_count": 2,
     "metadata": {},
     "output_type": "execute_result"
    }
   ],
   "source": [
    "# what is in heritance?\n",
    "\"\"\"\n",
    "In Python, inheritance is a mechanism that allows a class to inherit properties and methods from another class:\n",
    "Parent class: The class that is being inherited from, also known as the base class\n",
    "Child class: The class that inherits from another class, also known as the derived class\n",
    "\"\"\"\n",
    "# syntax:\n",
    "\"\"\"\n",
    "class BaseClass:\n",
    "    #body\n",
    "class DerivedClass(BaseClass):\n",
    "    # body\n",
    "    \"\"\""
   ]
  },
  {
   "cell_type": "code",
   "execution_count": 3,
   "id": "784d623e-7e40-49d2-8214-36d427522762",
   "metadata": {},
   "outputs": [],
   "source": [
    "# types:\n",
    "\"\"\" \n",
    "# single Inheritance:Single inheritance enables a derived class to inherit properties from a single parent class,\n",
    "thus enabling code reusability and the addition of new features to existing code. means one parent class and one child class\n",
    "\n",
    "\"\"\"\n",
    "# ex:\n",
    "class Father:\n",
    "    def father_property(self):\n",
    "        print(\"this is father's property\")"
   ]
  },
  {
   "cell_type": "code",
   "execution_count": 4,
   "id": "49cdb31a-de41-4ec3-978c-952b0e3ca7d1",
   "metadata": {},
   "outputs": [],
   "source": [
    "class Son(Father):\n",
    "    def son_property(self):\n",
    "        print(\"this is son property\")"
   ]
  },
  {
   "cell_type": "code",
   "execution_count": 8,
   "id": "f9b215c9-b0c7-4261-8d20-4e787630bae9",
   "metadata": {},
   "outputs": [
    {
     "name": "stdout",
     "output_type": "stream",
     "text": [
      "this is father's property\n"
     ]
    }
   ],
   "source": [
    "obj=Son()\n",
    "obj.father_property() # son property ->> son property+father property"
   ]
  },
  {
   "cell_type": "code",
   "execution_count": 9,
   "id": "fb9be11a-ae62-4d6f-8499-c7f800d0b52b",
   "metadata": {},
   "outputs": [
    {
     "name": "stdout",
     "output_type": "stream",
     "text": [
      "this is son property\n"
     ]
    }
   ],
   "source": [
    "obj.son_property()"
   ]
  },
  {
   "cell_type": "code",
   "execution_count": 10,
   "id": "f499e4d5-d739-4182-91ab-19b1890b1872",
   "metadata": {},
   "outputs": [
    {
     "name": "stdout",
     "output_type": "stream",
     "text": [
      "this is father's property\n"
     ]
    }
   ],
   "source": [
    "# here son can access father proerty but father ca not access son's property \n",
    "father_obj=Father()\n",
    "father_obj.father_property()"
   ]
  },
  {
   "cell_type": "code",
   "execution_count": 11,
   "id": "1a5a555e-1863-4f21-b43e-f4486b01c036",
   "metadata": {},
   "outputs": [
    {
     "ename": "AttributeError",
     "evalue": "'Father' object has no attribute 'son_propertyt'",
     "output_type": "error",
     "traceback": [
      "\u001b[1;31m---------------------------------------------------------------------------\u001b[0m",
      "\u001b[1;31mAttributeError\u001b[0m                            Traceback (most recent call last)",
      "Cell \u001b[1;32mIn[11], line 1\u001b[0m\n\u001b[1;32m----> 1\u001b[0m father_obj\u001b[38;5;241m.\u001b[39mson_propertyt()\n",
      "\u001b[1;31mAttributeError\u001b[0m: 'Father' object has no attribute 'son_propertyt'"
     ]
    }
   ],
   "source": [
    "father_obj.son_propertyt() # here it will through the error "
   ]
  },
  {
   "cell_type": "code",
   "execution_count": 12,
   "id": "08202ce4-4b65-4eda-afa3-0c19e283c2b4",
   "metadata": {},
   "outputs": [],
   "source": [
    "class Fruit:\n",
    "    def fruit_Info(self):\n",
    "        print(\"this is the fruit list ,here various type of fruit is present\")\n",
    "class Apple(Fruit):\n",
    "    def Apple_Info(Fruit):\n",
    "        print(\"this is apple Info here\")\n"
   ]
  },
  {
   "cell_type": "code",
   "execution_count": 13,
   "id": "b0199691-61f5-4355-9c15-c11971488b07",
   "metadata": {},
   "outputs": [
    {
     "name": "stdout",
     "output_type": "stream",
     "text": [
      "this is the fruit list ,here various type of fruit is present\n"
     ]
    }
   ],
   "source": [
    "obj1=Apple()\n",
    "obj1.fruit_Info()"
   ]
  },
  {
   "cell_type": "code",
   "execution_count": 14,
   "id": "91d60d43-392f-4ee5-87a3-e16e0a2ead1f",
   "metadata": {},
   "outputs": [
    {
     "name": "stdout",
     "output_type": "stream",
     "text": [
      "this is apple Info here\n"
     ]
    }
   ],
   "source": [
    "obj1.Apple_Info()"
   ]
  },
  {
   "cell_type": "code",
   "execution_count": 21,
   "id": "616bf4a7-c1f5-4810-bb9e-0cac5c04c468",
   "metadata": {},
   "outputs": [],
   "source": [
    "# method overriding->> rewriting /redefining the same method of parent class inside the derived class\n",
    "# it happend betweens two different classes \n",
    "class Fruit:\n",
    "    def fruit_Info(self):\n",
    "        print(\"this is the fruit list ,here various type of fruit is present\")\n",
    "class Apple(Fruit):\n",
    "    def fruit_Info(self):\n",
    "        print(\"this is for child class\")\n",
    "    def Apple_Info(Fruit):\n",
    "        print(\"this is apple Info here\")"
   ]
  },
  {
   "cell_type": "code",
   "execution_count": 20,
   "id": "fdb5ee03-97f0-4ff4-94d7-94a77872f9ad",
   "metadata": {},
   "outputs": [
    {
     "name": "stdout",
     "output_type": "stream",
     "text": [
      "this is for child class\n"
     ]
    }
   ],
   "source": [
    "obj1=Apple()\n",
    "obj1.fruit_Info()"
   ]
  },
  {
   "attachments": {},
   "cell_type": "markdown",
   "id": "ccf892bf-29f9-445f-9532-567f2d54f2b2",
   "metadata": {},
   "source": [
    "### multilevel"
   ]
  },
  {
   "attachments": {
    "22b211fd-c378-4a6a-be4e-05ed7dc2bfff.png": {
     "image/png": "[encoded data removed]"
    }
   },
   "cell_type": "markdown",
   "id": "c7a89c75-66f9-4fb1-9f83-f2d87a974b82",
   "metadata": {},
   "source": [
    "![image.png](attachment:22b211fd-c378-4a6a-be4e-05ed7dc2bfff.png)"
   ]
  },
  {
   "cell_type": "code",
   "execution_count": 22,
   "id": "7e330e75-974b-484b-b793-b5821c998912",
   "metadata": {},
   "outputs": [],
   "source": [
    "# defi:In multilevel inheritance, features of the base class and the derived class are further inherited into the new derived class. This is similar to a relationship representing a child  and a grandfather. \n",
    "class Grandfather:\n",
    "    def grandfather_property(self):\n",
    "        print(\"this is grandfather's property\")\n",
    "class Father(Grandfather):\n",
    "    def father_property(self):\n",
    "        print(\"this is father's property\")\n",
    "class Son(Father):\n",
    "    def son_property(self):\n",
    "        print(\"this is son property\")"
   ]
  },
  {
   "cell_type": "code",
   "execution_count": 23,
   "id": "b238219c-dc0c-41f0-9b8b-47e3451f9674",
   "metadata": {},
   "outputs": [
    {
     "name": "stdout",
     "output_type": "stream",
     "text": [
      "this is grandfather's property\n"
     ]
    }
   ],
   "source": [
    "obj=Son()\n",
    "obj.grandfather_property()"
   ]
  },
  {
   "cell_type": "code",
   "execution_count": 24,
   "id": "60e42100-3560-4652-b1fc-4c36841ffe09",
   "metadata": {},
   "outputs": [
    {
     "name": "stdout",
     "output_type": "stream",
     "text": [
      "this is grandfather's property\n"
     ]
    }
   ],
   "source": [
    "obj.grandfather_property()"
   ]
  },
  {
   "cell_type": "code",
   "execution_count": 25,
   "id": "dae7e283-4747-42e7-a612-12303a188cda",
   "metadata": {},
   "outputs": [
    {
     "name": "stdout",
     "output_type": "stream",
     "text": [
      "this is son property\n"
     ]
    }
   ],
   "source": [
    "obj.son_property()"
   ]
  },
  {
   "cell_type": "code",
   "execution_count": 26,
   "id": "0b30f78d-e5da-4c5b-8207-5347a4d8a957",
   "metadata": {},
   "outputs": [],
   "source": [
    "# udecase:\n",
    "class Vehicle:\n",
    "    def vehicle_all(self):\n",
    "        print(\"here all vehicles are  included\")\n",
    "class Car(Vehicle):\n",
    "    def car_vehicle(self):\n",
    "        print(\"here only car are there\")\n",
    "class Bike(Car):\n",
    "    def bike(self):\n",
    "        print(\"here only bike\")"
   ]
  },
  {
   "cell_type": "code",
   "execution_count": 27,
   "id": "bb457e6f-21b3-4ca6-a4d2-0666136f18b5",
   "metadata": {},
   "outputs": [],
   "source": [
    "obj=Bike()"
   ]
  },
  {
   "cell_type": "code",
   "execution_count": 28,
   "id": "54c26576-6265-4d21-9db3-128a38e183e7",
   "metadata": {},
   "outputs": [
    {
     "name": "stdout",
     "output_type": "stream",
     "text": [
      "here all vehicles are  included\n"
     ]
    }
   ],
   "source": [
    "obj.vehicle_all()"
   ]
  },
  {
   "cell_type": "code",
   "execution_count": 29,
   "id": "55d5b1bc-5038-49f0-a8fc-4971b94bb542",
   "metadata": {},
   "outputs": [
    {
     "name": "stdout",
     "output_type": "stream",
     "text": [
      "here only car are there\n"
     ]
    }
   ],
   "source": [
    "obj.car_vehicle()"
   ]
  },
  {
   "cell_type": "code",
   "execution_count": 30,
   "id": "33ab83df-e205-4338-902a-5e04db614fa1",
   "metadata": {},
   "outputs": [
    {
     "name": "stdout",
     "output_type": "stream",
     "text": [
      "here only bike\n"
     ]
    }
   ],
   "source": [
    "obj.bike()"
   ]
  },
  {
   "cell_type": "code",
   "execution_count": 31,
   "id": "08ac3785-ff32-4620-9cb4-30216a8e9e3e",
   "metadata": {},
   "outputs": [],
   "source": [
    "# another ex of method overriding\n",
    "class Vehicle:\n",
    "    def vehicle_all(self):\n",
    "        print(\"here all vehicles are  included\")\n",
    "class Car(Vehicle):\n",
    "    def car_vehicle(self):\n",
    "        print(\"here only car are there\")\n",
    "class Bike(Car):\n",
    "    def vehicle_all(self):\n",
    "        print(\"here all vehicles are  included\")"
   ]
  },
  {
   "cell_type": "code",
   "execution_count": 32,
   "id": "bab376d7-8a2b-4eff-a235-33b733e78d5b",
   "metadata": {},
   "outputs": [
    {
     "name": "stdout",
     "output_type": "stream",
     "text": [
      "here all vehicles are  included\n"
     ]
    }
   ],
   "source": [
    "v=Bike()\n",
    "v.vehicle_all()"
   ]
  },
  {
   "cell_type": "markdown",
   "id": "086c079e-2807-4bc5-9e05-d271be74d264",
   "metadata": {},
   "source": [
    "### multiple"
   ]
  },
  {
   "attachments": {
    "12062d24-a084-4a48-a809-f1506ee5b062.png": {
     "image/png": "[encoded data removed]"
    }
   },
   "cell_type": "markdown",
   "id": "63d07da3-9e3c-4691-a0e4-e6cde0ffd846",
   "metadata": {},
   "source": [
    "![image.png](attachment:12062d24-a084-4a48-a809-f1506ee5b062.png)"
   ]
  },
  {
   "cell_type": "code",
   "execution_count": 34,
   "id": "092915fa-d902-478d-80a6-eb5c48bfec0a",
   "metadata": {},
   "outputs": [],
   "source": [
    "#defi:When a class can be derived from more than one base class this type of inheritance is called multiple inheritances. In multiple inheritances, all the features of the base classes are inherited into the derived class.\n",
    "# means one child class may inherit the property of multiple parent class \n",
    "# ex:\n",
    "class Parentclass:\n",
    "    def parent1(self):\n",
    "        print(\"this is the first parent class\")\n",
    "class Parentclass1:\n",
    "    def parent2(self):\n",
    "        print(\"this is the second parent class\")\n",
    "class Childclass(Parentclass,Parentclass1):\n",
    "    def child1(self):\n",
    "        print(\"this is for child class\")"
   ]
  },
  {
   "cell_type": "code",
   "execution_count": 35,
   "id": "7adb9df2-9b7f-4010-8921-e86335f92d60",
   "metadata": {},
   "outputs": [],
   "source": [
    "obj=Childclass()"
   ]
  },
  {
   "cell_type": "code",
   "execution_count": 36,
   "id": "feabfcb1-69fb-4a7d-8916-31c7bf6068b1",
   "metadata": {},
   "outputs": [
    {
     "name": "stdout",
     "output_type": "stream",
     "text": [
      "this is the second parent class\n"
     ]
    }
   ],
   "source": [
    "obj.parent2()"
   ]
  },
  {
   "cell_type": "code",
   "execution_count": 37,
   "id": "af97b1c9-d115-44a3-9136-72b27452b985",
   "metadata": {},
   "outputs": [
    {
     "name": "stdout",
     "output_type": "stream",
     "text": [
      "this is the first parent class\n"
     ]
    }
   ],
   "source": [
    "obj.parent1()"
   ]
  },
  {
   "cell_type": "code",
   "execution_count": 38,
   "id": "13f24b82-ecd2-43e5-a545-15060ff2aa31",
   "metadata": {},
   "outputs": [
    {
     "name": "stdout",
     "output_type": "stream",
     "text": [
      "this is for child class\n"
     ]
    }
   ],
   "source": [
    "obj.child1()"
   ]
  },
  {
   "cell_type": "code",
   "execution_count": 39,
   "id": "1f2828b5-be38-4a2c-ad31-334faf471781",
   "metadata": {},
   "outputs": [],
   "source": [
    "# dimond problem: here ambiguite occurs because ,when two or more class have same method name ,that's why when parent class will be inherited by child class this time child class object can not understand which method it will call,ambiguie occurs.\n",
    "# to remove this type of ambiguite python use METHOD RESOLUTION ORDER(MRO)algorithm called c3 linearization .This algo says that which class is inherited first by the derived class those class method will be called .\n",
    "\n",
    "class Parentclass:\n",
    "    def parent1(self):\n",
    "        print(\"this is the first parent class\")\n",
    "class Parentclass1:\n",
    "    def parent1(self):\n",
    "        print(\"this is inside the second parent class\")\n",
    "class Childclass(Parentclass,Parentclass1):\n",
    "    def child1(self):\n",
    "        print(\"this is for child class\")"
   ]
  },
  {
   "cell_type": "code",
   "execution_count": 40,
   "id": "1d1a3b09-20af-4cab-a724-55ed42bab387",
   "metadata": {},
   "outputs": [
    {
     "name": "stdout",
     "output_type": "stream",
     "text": [
      "this is the first parent class\n"
     ]
    }
   ],
   "source": [
    "c1=Childclass() \n",
    "c1.parent1() # here inside child class first parent class will be inherit first "
   ]
  },
  {
   "cell_type": "code",
   "execution_count": 44,
   "id": "31e058c2-bbfd-4a80-97d1-c975e04a3465",
   "metadata": {},
   "outputs": [],
   "source": [
    "# another dimond problem\n",
    "class A:\n",
    "    def a1(self):\n",
    "        print(\"from class A\")\n",
    "class B(A):\n",
    "    def a1(self):\n",
    "        print(\"from class B\")\n",
    "class C(A):\n",
    "    def a1(self):\n",
    "        print(\"from class C\")\n",
    "class D(B,C):\n",
    "    pass\n",
    "    "
   ]
  },
  {
   "cell_type": "code",
   "execution_count": 45,
   "id": "bf185fa1-6d1f-41da-82a5-95672bd05144",
   "metadata": {},
   "outputs": [],
   "source": [
    "d1=D()"
   ]
  },
  {
   "cell_type": "code",
   "execution_count": 47,
   "id": "59d08559-8786-4339-baff-8d9db687f739",
   "metadata": {},
   "outputs": [
    {
     "name": "stdout",
     "output_type": "stream",
     "text": [
      "from class B\n"
     ]
    }
   ],
   "source": [
    "d1.a1() # here all method name are same  but in D class class B will inherit first so class B output will be printed\n"
   ]
  },
  {
   "cell_type": "markdown",
   "id": "1d7b8abf-55af-409a-b01e-024b1abd44e6",
   "metadata": {},
   "source": [
    "# # # hierarchial Inheritance:"
   ]
  },
  {
   "attachments": {
    "e59cfad1-f9e3-4e69-ab96-655e302cbba2.png": {
     "image/png": "[encoded data removed]"
    }
   },
   "cell_type": "markdown",
   "id": "63adee29-0b8e-4899-b325-75ad54d7f9b7",
   "metadata": {},
   "source": [
    "![image.png](attachment:e59cfad1-f9e3-4e69-ab96-655e302cbba2.png)"
   ]
  },
  {
   "cell_type": "code",
   "execution_count": 48,
   "id": "2065ab1a-6625-4eee-a013-16f28798fccc",
   "metadata": {},
   "outputs": [],
   "source": [
    "# hierarchial inheritance:When more than one derived class are created from a single base this type of inheritance is called hierarchical inheritance.\n",
    "# ex:\n",
    "class A:\n",
    "    def a1(self):\n",
    "        print(\"from class A\")\n",
    "class B(A):\n",
    "    def b1(self):\n",
    "        print(\"from class B\")\n",
    "class C(A):\n",
    "    def c1(self):\n",
    "        print(\"from class C\")"
   ]
  },
  {
   "cell_type": "code",
   "execution_count": 49,
   "id": "fbbd1948-b89d-4d31-bcd3-01811588d136",
   "metadata": {},
   "outputs": [],
   "source": [
    "b=B()\n",
    "c=C()"
   ]
  },
  {
   "cell_type": "code",
   "execution_count": 50,
   "id": "c8cd547c-640c-4371-a2ec-84ce25fa1799",
   "metadata": {},
   "outputs": [
    {
     "name": "stdout",
     "output_type": "stream",
     "text": [
      "from class A\n"
     ]
    }
   ],
   "source": [
    "b.a1()"
   ]
  },
  {
   "cell_type": "code",
   "execution_count": 51,
   "id": "e1ccf92d-4337-4a3b-9452-79837f957e4e",
   "metadata": {},
   "outputs": [
    {
     "name": "stdout",
     "output_type": "stream",
     "text": [
      "from class B\n"
     ]
    }
   ],
   "source": [
    "b.b1()"
   ]
  },
  {
   "cell_type": "code",
   "execution_count": 52,
   "id": "544061fa-38a7-4b8d-be99-7e517c98293a",
   "metadata": {},
   "outputs": [
    {
     "name": "stdout",
     "output_type": "stream",
     "text": [
      "from class A\n"
     ]
    }
   ],
   "source": [
    "c.a1()"
   ]
  },
  {
   "cell_type": "code",
   "execution_count": 53,
   "id": "f90955e9-f1cf-4a7e-82f6-553225517693",
   "metadata": {},
   "outputs": [
    {
     "name": "stdout",
     "output_type": "stream",
     "text": [
      "from class C\n"
     ]
    }
   ],
   "source": [
    "c.c1()"
   ]
  },
  {
   "cell_type": "markdown",
   "id": "7807f485-c89c-46b4-a9e0-ff04ae04d231",
   "metadata": {},
   "source": [
    "## Hybrid Inheritance"
   ]
  },
  {
   "attachments": {
    "21225ca7-9456-4442-b654-dea120465e2a.png": {
     "image/png": "[encoded data removed]"
    }
   },
   "cell_type": "markdown",
   "id": "a11caebb-5cdb-4326-8e4b-790727cd32fe",
   "metadata": {},
   "source": [
    "![image.png](attachment:21225ca7-9456-4442-b654-dea120465e2a.png)"
   ]
  },
  {
   "cell_type": "code",
   "execution_count": 54,
   "id": "c4fe7a41-ba98-4080-9219-e27f45d8dfb3",
   "metadata": {},
   "outputs": [
    {
     "name": "stdout",
     "output_type": "stream",
     "text": [
      "This function is in school.\n",
      "This function is in student 1. \n"
     ]
    }
   ],
   "source": [
    "# hybrid:Inheritance consisting of multiple types of inheritance is called hybrid inheritance.\n",
    "# Python program to demonstrate\n",
    "# hybrid inheritance\n",
    "\n",
    "\n",
    "class School:\n",
    "\tdef func1(self):\n",
    "\t\tprint(\"This function is in school.\")\n",
    "\n",
    "\n",
    "class Student1(School):\n",
    "\tdef func2(self):\n",
    "\t\tprint(\"This function is in student 1. \")\n",
    "\n",
    "\n",
    "class Student2(School):\n",
    "\tdef func3(self):\n",
    "\t\tprint(\"This function is in student 2.\")\n",
    "\n",
    "\n",
    "class Student3(Student1, School):\n",
    "\tdef func4(self):\n",
    "\t\tprint(\"This function is in student 3.\")\n",
    "\n",
    "\n",
    "# Driver's code\n",
    "object = Student3()\n",
    "object.func1()\n",
    "object.func2()\n"
   ]
  },
  {
   "cell_type": "markdown",
   "id": "09e54e37-748d-4fa8-a0d8-e63e6a0cb221",
   "metadata": {},
   "source": [
    "## Abstraction"
   ]
  },
  {
   "cell_type": "code",
   "execution_count": 1,
   "id": "ec0af643-ff49-4d67-a71d-3c07c95a526a",
   "metadata": {},
   "outputs": [],
   "source": [
    "# abstraction : concept of hiding complex implementation \n",
    "# hiding unneeded details and exposing the required\n",
    "# abstract class can not be instantiated(means can not make object)\n",
    "# abstract class should always be subclassed \n",
    "# abstract methods are only declared not defined inside the abstract class\n",
    "# ex:if you use pwskills to attend the class then do you see the backend code or just an interface to attend the class .\n",
    "# abstraction can be achieved using abstract class-->>> import abc\n"
   ]
  },
  {
   "cell_type": "code",
   "execution_count": 2,
   "id": "09c338a0-4d83-40d5-b916-9e4c5932afdf",
   "metadata": {},
   "outputs": [],
   "source": [
    "# usecase\n",
    "# if any class of pwskills->> dataScience/frontend/backend the following three function are common for all those case we simple make the class as a abstracrt class by using @abc.abstractmethod \n",
    "import abc # here abc is module\n",
    "class Pwskills:\n",
    "    @abc.abstractmethod    \n",
    "    def student_roll(self):\n",
    "        pass\n",
    "    @abc.abstractmethod    \n",
    "    def student_marks(self):\n",
    "        pass\n",
    "    @abc.abstractmethod    \n",
    "    def student_assignment(self):\n",
    "        pass\n"
   ]
  },
  {
   "cell_type": "code",
   "execution_count": 3,
   "id": "f4534006-d8b4-4776-ab12-21be56e3e3ab",
   "metadata": {},
   "outputs": [],
   "source": [
    "class Datascience(Pwskills):\n",
    "    def student_roll(self):\n",
    "        return \"student roll no is 007\"\n",
    "    def student_marks(self):\n",
    "        return \"student marks is 99\""
   ]
  },
  {
   "cell_type": "code",
   "execution_count": 4,
   "id": "84d009be-7a27-4f9d-a7e9-678177ad677d",
   "metadata": {},
   "outputs": [],
   "source": [
    "class Frontend(Pwskills):\n",
    "    def student_assignment(self):\n",
    "        return \"student assignment sunmitted successfully\"\n",
    "    def student_marks(self):\n",
    "        return \"student marks for frontend developer is 95\""
   ]
  },
  {
   "cell_type": "code",
   "execution_count": 6,
   "id": "77b7fdb4-e429-4dad-9990-b51d6fc76850",
   "metadata": {},
   "outputs": [],
   "source": [
    "d1=Datascience()\n",
    "d1.student_assignment() # here it will not through the error because here student assignment is in Pwskills class "
   ]
  },
  {
   "cell_type": "code",
   "execution_count": 7,
   "id": "9f20cf78-2fa5-48ae-8c2d-c864c113c34c",
   "metadata": {},
   "outputs": [
    {
     "data": {
      "text/plain": [
       "'student marks is 99'"
      ]
     },
     "execution_count": 7,
     "metadata": {},
     "output_type": "execute_result"
    }
   ],
   "source": [
    "d1.student_marks()"
   ]
  },
  {
   "cell_type": "code",
   "execution_count": 8,
   "id": "bd1c8b2f-e6ab-4e43-81d5-13b9498ab8a0",
   "metadata": {},
   "outputs": [
    {
     "data": {
      "text/plain": [
       "'student roll no is 007'"
      ]
     },
     "execution_count": 8,
     "metadata": {},
     "output_type": "execute_result"
    }
   ],
   "source": [
    "d1.student_roll()"
   ]
  },
  {
   "cell_type": "code",
   "execution_count": 9,
   "id": "67565781-ce08-4d74-934f-409856249480",
   "metadata": {},
   "outputs": [
    {
     "data": {
      "text/plain": [
       "'student assignment sunmitted successfully'"
      ]
     },
     "execution_count": 9,
     "metadata": {},
     "output_type": "execute_result"
    }
   ],
   "source": [
    "f1=Frontend()\n",
    "f1.student_assignment()"
   ]
  },
  {
   "cell_type": "code",
   "execution_count": 10,
   "id": "eff8a243-9ce3-4b0c-8d13-aa951a76a418",
   "metadata": {},
   "outputs": [
    {
     "data": {
      "text/plain": [
       "'student marks for frontend developer is 95'"
      ]
     },
     "execution_count": 10,
     "metadata": {},
     "output_type": "execute_result"
    }
   ],
   "source": [
    "f1.student_marks()"
   ]
  },
  {
   "cell_type": "code",
   "execution_count": 12,
   "id": "099ce8f2-4871-43b9-b34c-7f80be51335d",
   "metadata": {},
   "outputs": [],
   "source": [
    "f1.student_roll() # inside Frontend class roll no not define so output is not showable for the codder but student_roll is in Pwskills class so does not show any error "
   ]
  },
  {
   "cell_type": "code",
   "execution_count": 15,
   "id": "4aaaaf03-30c3-4b2e-8ddb-96e3cc3928e7",
   "metadata": {},
   "outputs": [],
   "source": [
    "# another usecase \n",
    "import abc\n",
    "class Shape:\n",
    "    @abc.abstractmethod\n",
    "    def calculate_area(self):\n",
    "        pass\n",
    "class Rectancle(Shape):\n",
    "    def calculate_area(self):\n",
    "        return \"area of rectangle is length*breadth\"\n",
    "    "
   ]
  },
  {
   "cell_type": "code",
   "execution_count": 16,
   "id": "4baf29f7-e3e0-427a-8bde-80186bfdf259",
   "metadata": {},
   "outputs": [
    {
     "data": {
      "text/plain": [
       "'area of rectangle is length*breadth'"
      ]
     },
     "execution_count": 16,
     "metadata": {},
     "output_type": "execute_result"
    }
   ],
   "source": [
    "rec=Rectancle()\n",
    "rec.calculate_area()"
   ]
  },
  {
   "cell_type": "code",
   "execution_count": null,
   "id": "039b6978-f06e-48f8-a16a-7c879dce8f5e",
   "metadata": {},
   "outputs": [],
   "source": []
  }
 ],
 "metadata": {
  "kernelspec": {
   "display_name": "Python 3 (ipykernel)",
   "language": "python",
   "name": "python3"
  },
  "language_info": {
   "codemirror_mode": {
    "name": "ipython",
    "version": 3
   },
   "file_extension": ".py",
   "mimetype": "text/x-python",
   "name": "python",
   "nbconvert_exporter": "python",
   "pygments_lexer": "ipython3",
   "version": "3.11.7"
  }
 },
 "nbformat": 4,
 "nbformat_minor": 5
}
