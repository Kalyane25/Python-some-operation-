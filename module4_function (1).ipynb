{
 "cells": [
  {
   "cell_type": "code",
   "execution_count": 1,
   "id": "7dc0c1f1-2c2f-4a8c-9965-e12761472f0b",
   "metadata": {},
   "outputs": [
    {
     "name": "stdout",
     "output_type": "stream",
     "text": [
      "hello world\n"
     ]
    }
   ],
   "source": [
    "print(\"hello world\")"
   ]
  },
  {
   "cell_type": "code",
   "execution_count": 2,
   "id": "3c3d4b8b-cc3e-4e81-ba75-394e6f53ddfc",
   "metadata": {},
   "outputs": [
    {
     "data": {
      "text/plain": [
       "9"
      ]
     },
     "execution_count": 2,
     "metadata": {},
     "output_type": "execute_result"
    }
   ],
   "source": [
    "len(\"pw slills\")"
   ]
  },
  {
   "cell_type": "code",
   "execution_count": 3,
   "id": "db73b6bc-bc36-43ad-824c-c580a87978e2",
   "metadata": {},
   "outputs": [
    {
     "data": {
      "text/plain": [
       "int"
      ]
     },
     "execution_count": 3,
     "metadata": {},
     "output_type": "execute_result"
    }
   ],
   "source": [
    "type(5)"
   ]
  },
  {
   "cell_type": "code",
   "execution_count": 1,
   "id": "fe6408bf-16fc-4930-826b-91ad0c68a40c",
   "metadata": {},
   "outputs": [
    {
     "data": {
      "text/plain": [
       "3"
      ]
     },
     "execution_count": 1,
     "metadata": {},
     "output_type": "execute_result"
    }
   ],
   "source": [
    "# here print ,len ,type are predefined function \n",
    "# some more built_in function \n",
    "# ceil is a pre defined function ->>> it gives the nearest highest whole no value \n",
    "import math as m # here as is alice \n",
    "m.ceil(2.2)"
   ]
  },
  {
   "cell_type": "code",
   "execution_count": 2,
   "id": "b565ba9f-7668-46a6-92d1-4388e2b9e7cb",
   "metadata": {},
   "outputs": [
    {
     "data": {
      "text/plain": [
       "8"
      ]
     },
     "execution_count": 2,
     "metadata": {},
     "output_type": "execute_result"
    }
   ],
   "source": [
    "m. floor(8.6) # floor means nearest lowest whole number "
   ]
  },
  {
   "cell_type": "code",
   "execution_count": 3,
   "id": "f1f9e8d4-bbb8-4f42-97e1-cab062c8331e",
   "metadata": {},
   "outputs": [
    {
     "data": {
      "text/plain": [
       "8.0"
      ]
     },
     "execution_count": 3,
     "metadata": {},
     "output_type": "execute_result"
    }
   ],
   "source": [
    "m.pow(2,3)"
   ]
  },
  {
   "cell_type": "code",
   "execution_count": 4,
   "id": "7432e5f9-bafa-40ca-a12e-4e84d68a321c",
   "metadata": {},
   "outputs": [],
   "source": [
    "# user define function "
   ]
  },
  {
   "cell_type": "code",
   "execution_count": 9,
   "id": "254b66f7-1140-49ca-a8c7-698960936c69",
   "metadata": {},
   "outputs": [],
   "source": [
    "#syntax\n",
    "# def function_name:\n",
    "    # body\n",
    "# function is a block of code that perform some specific task \n",
    "# why function ?\n",
    "# function are reuseable,neat ,clean and organised and it saves the time \n",
    "# ex:\n",
    "def greeting():\n",
    "    print(\"welcome to adamas\")\n"
   ]
  },
  {
   "cell_type": "code",
   "execution_count": 10,
   "id": "de39a919-c97e-4891-b571-b45f377160c7",
   "metadata": {},
   "outputs": [
    {
     "name": "stdout",
     "output_type": "stream",
     "text": [
      "welcome to adamas\n"
     ]
    }
   ],
   "source": [
    "greeting()"
   ]
  },
  {
   "cell_type": "code",
   "execution_count": 15,
   "id": "5f24eaa3-4bfb-4db1-ba4c-a18ece6aa09f",
   "metadata": {},
   "outputs": [],
   "source": [
    "def greeting(name): # passing a variable inside a function means parameter or positional argument \n",
    "    print(\"welcome to adamas\",name)"
   ]
  },
  {
   "cell_type": "code",
   "execution_count": 16,
   "id": "cb2e7b36-02f5-4993-b914-073d3a49cd19",
   "metadata": {},
   "outputs": [
    {
     "name": "stdout",
     "output_type": "stream",
     "text": [
      "welcome to adamas niki\n"
     ]
    }
   ],
   "source": [
    "greeting(\"niki\")# here also you have to pass the value "
   ]
  },
  {
   "cell_type": "code",
   "execution_count": 17,
   "id": "05ceabf3-2e69-4dfd-a817-f7bac8a4d853",
   "metadata": {},
   "outputs": [
    {
     "name": "stdout",
     "output_type": "stream",
     "text": [
      "welcome to adamas Kalyan\n"
     ]
    }
   ],
   "source": [
    "greeting(\"Kalyan\")"
   ]
  },
  {
   "cell_type": "code",
   "execution_count": 18,
   "id": "9de444e7-827f-4dbd-ae8c-97d99e8c06be",
   "metadata": {},
   "outputs": [
    {
     "ename": "TypeError",
     "evalue": "greeting() missing 1 required positional argument: 'name'",
     "output_type": "error",
     "traceback": [
      "\u001b[1;31m---------------------------------------------------------------------------\u001b[0m",
      "\u001b[1;31mTypeError\u001b[0m                                 Traceback (most recent call last)",
      "Cell \u001b[1;32mIn[18], line 4\u001b[0m\n\u001b[0;32m      1\u001b[0m \u001b[38;5;66;03m# if you did not give the value then it gives the error \u001b[39;00m\n\u001b[0;32m      2\u001b[0m \u001b[38;5;66;03m# error is missing the positional argument \"name\" value means \u001b[39;00m\n\u001b[0;32m      3\u001b[0m \u001b[38;5;66;03m# ex:\u001b[39;00m\n\u001b[1;32m----> 4\u001b[0m greeting()\n",
      "\u001b[1;31mTypeError\u001b[0m: greeting() missing 1 required positional argument: 'name'"
     ]
    }
   ],
   "source": [
    "# if you did not give the value then it gives the error \n",
    "# error is missing the positional argument \"name\" value means \n",
    "# ex:\n",
    "greeting()"
   ]
  },
  {
   "cell_type": "code",
   "execution_count": 19,
   "id": "efd649c8-1032-4e5d-a780-fb99aa919cf9",
   "metadata": {},
   "outputs": [],
   "source": [
    "def greeting(ajay): # passing a variable inside a function ,here ajay works as a veriable \n",
    "    print(\"welcome to adamas\",ajay)"
   ]
  },
  {
   "cell_type": "code",
   "execution_count": 20,
   "id": "596d531f-c6b3-457e-8b5a-fea7a5ff150c",
   "metadata": {},
   "outputs": [
    {
     "name": "stdout",
     "output_type": "stream",
     "text": [
      "welcome to adamas love\n"
     ]
    }
   ],
   "source": [
    "greeting(\"love\")"
   ]
  },
  {
   "cell_type": "code",
   "execution_count": 22,
   "id": "d85e7ac3-d0c2-42a8-aa08-1569e16a74c7",
   "metadata": {},
   "outputs": [
    {
     "name": "stdout",
     "output_type": "stream",
     "text": [
      "this is my first function \n"
     ]
    }
   ],
   "source": [
    "# another ex:\n",
    "def func():\n",
    "    print(\"this is my first function \")\n",
    "func()"
   ]
  },
  {
   "cell_type": "code",
   "execution_count": 23,
   "id": "28e10a52-3949-48a5-9b77-ff881b330fa3",
   "metadata": {},
   "outputs": [
    {
     "data": {
      "text/plain": [
       "'this is my first function in python '"
      ]
     },
     "execution_count": 23,
     "metadata": {},
     "output_type": "execute_result"
    }
   ],
   "source": [
    "\"this is my first function \" + \"in python \""
   ]
  },
  {
   "cell_type": "code",
   "execution_count": 24,
   "id": "e6c4f3c9-8a67-4d0a-b821-229c0904c1fb",
   "metadata": {},
   "outputs": [
    {
     "name": "stdout",
     "output_type": "stream",
     "text": [
      "this is my first function \n"
     ]
    },
    {
     "ename": "TypeError",
     "evalue": "unsupported operand type(s) for +: 'NoneType' and 'str'",
     "output_type": "error",
     "traceback": [
      "\u001b[1;31m---------------------------------------------------------------------------\u001b[0m",
      "\u001b[1;31mTypeError\u001b[0m                                 Traceback (most recent call last)",
      "Cell \u001b[1;32mIn[24], line 2\u001b[0m\n\u001b[0;32m      1\u001b[0m \u001b[38;5;66;03m# if we concatenate func and string then error \u001b[39;00m\n\u001b[1;32m----> 2\u001b[0m func()\u001b[38;5;241m+\u001b[39m  \u001b[38;5;124m\"\u001b[39m\u001b[38;5;124min python \u001b[39m\u001b[38;5;124m\"\u001b[39m\n",
      "\u001b[1;31mTypeError\u001b[0m: unsupported operand type(s) for +: 'NoneType' and 'str'"
     ]
    }
   ],
   "source": [
    "# if we concatenate func and string then error \n",
    "func()+  \"in python \" # here error because function is none type data types and another is str type "
   ]
  },
  {
   "cell_type": "code",
   "execution_count": 25,
   "id": "295bd90f-d6ea-4b93-86f9-3df1599686e5",
   "metadata": {},
   "outputs": [
    {
     "data": {
      "text/plain": [
       "'this is my first function in Python'"
      ]
     },
     "execution_count": 25,
     "metadata": {},
     "output_type": "execute_result"
    }
   ],
   "source": [
    "# ex :\n",
    "def func():\n",
    "    return \"this is my first function \"\n",
    "func() + \"in Python\" # now no error because when we printing the statements this time if we notice we can see that print statement is in 'NoneType' and another is str type but this case both are str type "
   ]
  },
  {
   "cell_type": "code",
   "execution_count": 26,
   "id": "f4643525-f05e-4ba5-805c-4b80f6e70152",
   "metadata": {},
   "outputs": [
    {
     "data": {
      "text/plain": [
       "('this is my first function ', 1, 2.3, True, (3+4j))"
      ]
     },
     "execution_count": 26,
     "metadata": {},
     "output_type": "execute_result"
    }
   ],
   "source": [
    "# returning many thing \n",
    "def func():\n",
    "     return \"this is my first function \",1,2.3,True,3+4j  \n",
    "   # here all are returned inside a tuple \n",
    "func()"
   ]
  },
  {
   "cell_type": "code",
   "execution_count": 27,
   "id": "800e5c58-a6f2-40bb-97e2-ede9e55a5dda",
   "metadata": {},
   "outputs": [
    {
     "data": {
      "text/plain": [
       "tuple"
      ]
     },
     "execution_count": 27,
     "metadata": {},
     "output_type": "execute_result"
    }
   ],
   "source": [
    "a=func()\n",
    "type(a)"
   ]
  },
  {
   "cell_type": "code",
   "execution_count": 28,
   "id": "258989fa-c4c6-4744-9956-e5262d24c0bb",
   "metadata": {},
   "outputs": [],
   "source": [
    "b,c,d,e,f=func()"
   ]
  },
  {
   "cell_type": "code",
   "execution_count": 29,
   "id": "fd7159d2-b615-49c0-8f7d-698fb2875861",
   "metadata": {},
   "outputs": [
    {
     "data": {
      "text/plain": [
       "'this is my first function '"
      ]
     },
     "execution_count": 29,
     "metadata": {},
     "output_type": "execute_result"
    }
   ],
   "source": [
    "b"
   ]
  },
  {
   "cell_type": "code",
   "execution_count": 30,
   "id": "e288604b-d58b-4eae-a313-415177bfbc95",
   "metadata": {},
   "outputs": [
    {
     "data": {
      "text/plain": [
       "1"
      ]
     },
     "execution_count": 30,
     "metadata": {},
     "output_type": "execute_result"
    }
   ],
   "source": [
    "c"
   ]
  },
  {
   "cell_type": "code",
   "execution_count": 31,
   "id": "6bc95f64-5e8b-414a-8a2b-0f718ebbd374",
   "metadata": {},
   "outputs": [
    {
     "data": {
      "text/plain": [
       "2.3"
      ]
     },
     "execution_count": 31,
     "metadata": {},
     "output_type": "execute_result"
    }
   ],
   "source": [
    "d"
   ]
  },
  {
   "cell_type": "code",
   "execution_count": 32,
   "id": "37c3857c-d5c7-4c52-af04-2b058c7facb9",
   "metadata": {},
   "outputs": [
    {
     "data": {
      "text/plain": [
       "True"
      ]
     },
     "execution_count": 32,
     "metadata": {},
     "output_type": "execute_result"
    }
   ],
   "source": [
    "e"
   ]
  },
  {
   "cell_type": "code",
   "execution_count": 33,
   "id": "c4b867d0-3c05-4391-ab4d-92805c3eb253",
   "metadata": {},
   "outputs": [
    {
     "data": {
      "text/plain": [
       "(3+4j)"
      ]
     },
     "execution_count": 33,
     "metadata": {},
     "output_type": "execute_result"
    }
   ],
   "source": [
    "f"
   ]
  },
  {
   "cell_type": "code",
   "execution_count": 34,
   "id": "1144646d-f13f-4f14-b110-7da6bf511636",
   "metadata": {},
   "outputs": [
    {
     "data": {
      "text/plain": [
       "'this is my first function '"
      ]
     },
     "execution_count": 34,
     "metadata": {},
     "output_type": "execute_result"
    }
   ],
   "source": [
    "# another way of this \n",
    "a=func()\n",
    "a[0]"
   ]
  },
  {
   "cell_type": "code",
   "execution_count": 35,
   "id": "b4b7511f-1207-4f3a-ae60-36174606a916",
   "metadata": {},
   "outputs": [
    {
     "data": {
      "text/plain": [
       "1"
      ]
     },
     "execution_count": 35,
     "metadata": {},
     "output_type": "execute_result"
    }
   ],
   "source": [
    "a[1]"
   ]
  },
  {
   "cell_type": "code",
   "execution_count": 36,
   "id": "79d352e8-4f7a-4518-9cbd-ecd3d8b3ac58",
   "metadata": {},
   "outputs": [
    {
     "data": {
      "text/plain": [
       "2.3"
      ]
     },
     "execution_count": 36,
     "metadata": {},
     "output_type": "execute_result"
    }
   ],
   "source": [
    "a[2]"
   ]
  },
  {
   "cell_type": "code",
   "execution_count": 37,
   "id": "91be1059-4317-48c2-a17e-05e1dd3b3d00",
   "metadata": {},
   "outputs": [
    {
     "data": {
      "text/plain": [
       "True"
      ]
     },
     "execution_count": 37,
     "metadata": {},
     "output_type": "execute_result"
    }
   ],
   "source": [
    "a[3]"
   ]
  },
  {
   "cell_type": "code",
   "execution_count": 38,
   "id": "7ed1641b-2cae-4f54-9d68-7d6580d6c0f4",
   "metadata": {},
   "outputs": [
    {
     "data": {
      "text/plain": [
       "(3+4j)"
      ]
     },
     "execution_count": 38,
     "metadata": {},
     "output_type": "execute_result"
    }
   ],
   "source": [
    "a[4]"
   ]
  },
  {
   "cell_type": "code",
   "execution_count": 39,
   "id": "28eff57c-1d29-45e9-982a-35a2114c6738",
   "metadata": {},
   "outputs": [
    {
     "data": {
      "text/plain": [
       "25"
      ]
     },
     "execution_count": 39,
     "metadata": {},
     "output_type": "execute_result"
    }
   ],
   "source": [
    " # ex\n",
    "def fun():\n",
    "    cal=5+5*5-5\n",
    "    return cal\n",
    "fun()"
   ]
  },
  {
   "cell_type": "code",
   "execution_count": 41,
   "id": "aef55b2a-7b77-48a4-b977-5e803d8706b7",
   "metadata": {},
   "outputs": [
    {
     "data": {
      "text/plain": [
       "int"
      ]
     },
     "execution_count": 41,
     "metadata": {},
     "output_type": "execute_result"
    }
   ],
   "source": [
    "type(fun())"
   ]
  },
  {
   "cell_type": "code",
   "execution_count": 42,
   "id": "d0ddb803-6f84-48c7-a216-6d4193c2282d",
   "metadata": {},
   "outputs": [],
   "source": [
    "def square(a):\n",
    "    return a*a\n"
   ]
  },
  {
   "cell_type": "code",
   "execution_count": 43,
   "id": "ded21c5e-0623-45a6-895b-4f1ce90cd74d",
   "metadata": {},
   "outputs": [
    {
     "data": {
      "text/plain": [
       "25"
      ]
     },
     "execution_count": 43,
     "metadata": {},
     "output_type": "execute_result"
    }
   ],
   "source": [
    "square(5)"
   ]
  },
  {
   "cell_type": "code",
   "execution_count": 1,
   "id": "bb1e84eb-8bc7-460e-baef-d6c04d830d52",
   "metadata": {},
   "outputs": [],
   "source": [
    " def funct(args):\n",
    "     return args*args\n",
    "\n"
   ]
  },
  {
   "cell_type": "code",
   "execution_count": 2,
   "id": "dd692365-7e01-4128-816b-ecd8ae59d816",
   "metadata": {},
   "outputs": [
    {
     "data": {
      "text/plain": [
       "10000"
      ]
     },
     "execution_count": 2,
     "metadata": {},
     "output_type": "execute_result"
    }
   ],
   "source": [
    "funct(100)"
   ]
  },
  {
   "cell_type": "code",
   "execution_count": 19,
   "id": "31b94483-29a2-4551-a325-0692ba1e2f01",
   "metadata": {},
   "outputs": [],
   "source": [
    "# addition \n",
    "def addition(num1,num2):\n",
    "    cal=num1+num2\n",
    "    return cal;"
   ]
  },
  {
   "cell_type": "code",
   "execution_count": 20,
   "id": "13a7e002-64dc-4b8e-b0b6-81af5c9703e7",
   "metadata": {},
   "outputs": [
    {
     "data": {
      "text/plain": [
       "5"
      ]
     },
     "execution_count": 20,
     "metadata": {},
     "output_type": "execute_result"
    }
   ],
   "source": [
    "addition(2,3)"
   ]
  },
  {
   "cell_type": "code",
   "execution_count": 21,
   "id": "4608bc3c-9715-415c-a4e8-e9ab66b6b6fe",
   "metadata": {},
   "outputs": [
    {
     "data": {
      "text/plain": [
       "600"
      ]
     },
     "execution_count": 21,
     "metadata": {},
     "output_type": "execute_result"
    }
   ],
   "source": [
    "addition(100,500)"
   ]
  },
  {
   "cell_type": "code",
   "execution_count": 22,
   "id": "5324ad03-3d24-4da9-b414-8c8a4ce9ee1d",
   "metadata": {},
   "outputs": [
    {
     "data": {
      "text/plain": [
       "'pwskills'"
      ]
     },
     "execution_count": 22,
     "metadata": {},
     "output_type": "execute_result"
    }
   ],
   "source": [
    "addition(\"pw\",\"skills\")"
   ]
  },
  {
   "cell_type": "code",
   "execution_count": 23,
   "id": "4b839585-6419-43f7-a882-1519b153b24d",
   "metadata": {},
   "outputs": [
    {
     "data": {
      "text/plain": [
       "[1, 2, 3, 4, 5, 6]"
      ]
     },
     "execution_count": 23,
     "metadata": {},
     "output_type": "execute_result"
    }
   ],
   "source": [
    "# here two list combinE\n",
    "addition([1,2,3],[4,5,6])"
   ]
  },
  {
   "cell_type": "code",
   "execution_count": 24,
   "id": "7a41698f-b228-4af9-9a43-441f1b136205",
   "metadata": {},
   "outputs": [
    {
     "data": {
      "text/plain": [
       "'skillspw'"
      ]
     },
     "execution_count": 24,
     "metadata": {},
     "output_type": "execute_result"
    }
   ],
   "source": [
    "addition(\"skills\",\"pw\")"
   ]
  },
  {
   "cell_type": "code",
   "execution_count": 25,
   "id": "a7ef518e-c231-4385-af4d-678c088c3a63",
   "metadata": {},
   "outputs": [
    {
     "data": {
      "text/plain": [
       "'pwskills'"
      ]
     },
     "execution_count": 25,
     "metadata": {},
     "output_type": "execute_result"
    }
   ],
   "source": [
    "# but you want to print as pwskills \n",
    "addition(num2=\"skills\",num1=\"pw\")"
   ]
  },
  {
   "cell_type": "code",
   "execution_count": 26,
   "id": "8d2d1f41-c65d-4a7e-a9dd-cf265818d8dc",
   "metadata": {},
   "outputs": [],
   "source": [
    "# sum of three numbers\n",
    "def addition(num1,num2,num3):\n",
    "    cal=num1+num2+num3\n",
    "    return cal"
   ]
  },
  {
   "cell_type": "code",
   "execution_count": 12,
   "id": "19df1d61-72e1-45f6-8150-0c1161fcc958",
   "metadata": {},
   "outputs": [
    {
     "data": {
      "text/plain": [
       "6"
      ]
     },
     "execution_count": 12,
     "metadata": {},
     "output_type": "execute_result"
    }
   ],
   "source": [
    "addition(1,2,3)"
   ]
  },
  {
   "cell_type": "code",
   "execution_count": 15,
   "id": "51aee281-5e58-4204-9376-d78cfe57532d",
   "metadata": {},
   "outputs": [],
   "source": [
    "# default argument \n",
    "def addition(num1,num2,num3=0):    # here num3 is default argument ,default argument sitted at the last position ,otherwise it throws error \n",
    "    cal=num1+num2+num3\n",
    "    return cal;"
   ]
  },
  {
   "cell_type": "code",
   "execution_count": 17,
   "id": "2782e42c-edcb-40b0-8cf6-b35ac016cb56",
   "metadata": {},
   "outputs": [
    {
     "data": {
      "text/plain": [
       "11"
      ]
     },
     "execution_count": 17,
     "metadata": {},
     "output_type": "execute_result"
    }
   ],
   "source": [
    "addition(5,6) # by default num3 =0 added "
   ]
  },
  {
   "cell_type": "code",
   "execution_count": 27,
   "id": "f48c5485-12f8-4d42-ba94-59ccb93933f8",
   "metadata": {},
   "outputs": [],
   "source": [
    "# three are default argument\n",
    "def addition(num1=0,num2=0,num3=0):\n",
    "    cal=num1+num2+num3\n",
    "    return cal;"
   ]
  },
  {
   "cell_type": "code",
   "execution_count": 28,
   "id": "8d2e71f2-7093-4b6f-b9bd-96fd4f17dfbd",
   "metadata": {},
   "outputs": [
    {
     "data": {
      "text/plain": [
       "1"
      ]
     },
     "execution_count": 28,
     "metadata": {},
     "output_type": "execute_result"
    }
   ],
   "source": [
    "addition(1)"
   ]
  },
  {
   "cell_type": "code",
   "execution_count": 29,
   "id": "db9a0125-15d5-47b8-a704-fef29478040b",
   "metadata": {},
   "outputs": [],
   "source": [
    "# you can also put default argument value as anything\n",
    "def addition(num1=10,num2=0,num3=0):    # herer we put num1=10 \n",
    "    cal=num1+num2+num3\n",
    "    return cal;"
   ]
  },
  {
   "cell_type": "code",
   "execution_count": 30,
   "id": "5f3f2a31-a2e1-44ab-9522-195eb1b5cd83",
   "metadata": {},
   "outputs": [
    {
     "data": {
      "text/plain": [
       "10"
      ]
     },
     "execution_count": 30,
     "metadata": {},
     "output_type": "execute_result"
    }
   ],
   "source": [
    "addition()"
   ]
  },
  {
   "cell_type": "code",
   "execution_count": 31,
   "id": "80f6d944-2faf-41d3-a510-6ca91c0271c6",
   "metadata": {},
   "outputs": [
    {
     "data": {
      "text/plain": [
       "12"
      ]
     },
     "execution_count": 31,
     "metadata": {},
     "output_type": "execute_result"
    }
   ],
   "source": [
    "# if you write like as addition(12),means argument in any value then this case num1=10 is replace by 12 and ans is 12\n",
    "addition(12)"
   ]
  },
  {
   "cell_type": "code",
   "execution_count": 35,
   "id": "df859f60-3acc-483d-90b8-423cb78a0db5",
   "metadata": {},
   "outputs": [
    {
     "data": {
      "text/plain": [
       "121"
      ]
     },
     "execution_count": 35,
     "metadata": {},
     "output_type": "execute_result"
    }
   ],
   "source": [
    "# but if we remove this type of problem then \n",
    "addition(num2=111) # here ans is 111+10"
   ]
  },
  {
   "cell_type": "code",
   "execution_count": 37,
   "id": "7ccd466e-5c7e-4d1f-9b7b-dc3f7aad1bad",
   "metadata": {},
   "outputs": [],
   "source": [
    "# add by using user input \n",
    "def addition():\n",
    "    a=int(input(\"enter the first number\"))\n",
    "    b=int(input(\"enter the second number\"))     \n",
    "    cal=a+b\n",
    "    return cal;"
   ]
  },
  {
   "cell_type": "code",
   "execution_count": 38,
   "id": "7ec6e7f4-1825-4abb-ab49-85dd27f94e83",
   "metadata": {},
   "outputs": [
    {
     "name": "stdin",
     "output_type": "stream",
     "text": [
      "enter the first number 12\n",
      "enter the second number 12\n"
     ]
    },
    {
     "data": {
      "text/plain": [
       "24"
      ]
     },
     "execution_count": 38,
     "metadata": {},
     "output_type": "execute_result"
    }
   ],
   "source": [
    "addition()"
   ]
  },
  {
   "cell_type": "code",
   "execution_count": 40,
   "id": "a38a942f-bb42-4a14-8f0f-fbc43536ecf8",
   "metadata": {},
   "outputs": [],
   "source": [
    "# write a function that takes list as a input and return all neumaric values \n",
    "def print_only_neumaric(a):\n",
    "    n=[]\n",
    "    for i in a:\n",
    "        if type(i)==int or type(i)==float:\n",
    "            n.append(i)\n",
    "    return n\n",
    "      \n"
   ]
  },
  {
   "cell_type": "code",
   "execution_count": 41,
   "id": "b9c1c949-2184-41bf-9ba6-f5d310b67080",
   "metadata": {},
   "outputs": [
    {
     "data": {
      "text/plain": [
       "[1, 2, 3.3, 4.4]"
      ]
     },
     "execution_count": 41,
     "metadata": {},
     "output_type": "execute_result"
    }
   ],
   "source": [
    "print_only_neumaric([1,2,3.3,4.4,\"ajay\",True,3+4j])"
   ]
  },
  {
   "cell_type": "code",
   "execution_count": 7,
   "id": "ae835fba-1361-48b9-aa7c-34b8e1b3cc7f",
   "metadata": {},
   "outputs": [],
   "source": [
    "# input as nested list \n",
    "def print_only_neumaric(a):\n",
    "    n=[]\n",
    "    for i in a:\n",
    "        if type(i)==list:\n",
    "             for j in i:\n",
    "                 if type(j)==int or type(j)==float:\n",
    "                     n.append(j)\n",
    "        else:\n",
    "            if type(i)==int or type(i)==float:\n",
    "                n.append(i)\n",
    "    return n"
   ]
  },
  {
   "cell_type": "code",
   "execution_count": 8,
   "id": "fe92a055-b669-4a63-b039-d63ceb9dcf20",
   "metadata": {},
   "outputs": [
    {
     "data": {
      "text/plain": [
       "[12, 13, 1.5, 1, 2, 3.33]"
      ]
     },
     "execution_count": 8,
     "metadata": {},
     "output_type": "execute_result"
    }
   ],
   "source": [
    "print_only_neumaric([12,13,1.5,\"pw\",[1,2,3.33,\"skills\"]])"
   ]
  },
  {
   "cell_type": "code",
   "execution_count": 9,
   "id": "82191025-de96-495a-baaf-5feab34bbde2",
   "metadata": {},
   "outputs": [],
   "source": [
    "# write a function that takes list as a input and return all string  values \n",
    "def fun(a):\n",
    "    n=[]\n",
    "    for i in a:\n",
    "        if type(i)==str:\n",
    "            n.append(i)\n",
    "    return n;"
   ]
  },
  {
   "cell_type": "code",
   "execution_count": 10,
   "id": "bff70f7f-2365-47ce-a15e-cb4ed63fae5e",
   "metadata": {},
   "outputs": [
    {
     "data": {
      "text/plain": [
       "['pw', 'skills', 'niki']"
      ]
     },
     "execution_count": 10,
     "metadata": {},
     "output_type": "execute_result"
    }
   ],
   "source": [
    "fun([1,2,3,\"pw\",1.1,\"skills\",\"niki\"])"
   ]
  },
  {
   "cell_type": "code",
   "execution_count": 12,
   "id": "d66a335b-da6b-49c6-837d-9f8bf3697def",
   "metadata": {},
   "outputs": [],
   "source": [
    "# input as nested list  and output all string that are present in the list\n",
    "def fun(a):\n",
    "    n=[]\n",
    "    for i in a:\n",
    "        if type(i)==list:\n",
    "            for j in i:\n",
    "                if type(j)==str:\n",
    "                    n.append(j)\n",
    "        else:\n",
    "            if type(i)==str:\n",
    "                n.append(i)\n",
    "    return n;"
   ]
  },
  {
   "cell_type": "code",
   "execution_count": 13,
   "id": "54fce786-38ab-41d8-a456-9295919f3bca",
   "metadata": {},
   "outputs": [
    {
     "data": {
      "text/plain": [
       "['pw', 'skills']"
      ]
     },
     "execution_count": 13,
     "metadata": {},
     "output_type": "execute_result"
    }
   ],
   "source": [
    "fun([12,13,1.5,\"pw\",[1,2,3.33,\"skills\"]])"
   ]
  },
  {
   "cell_type": "code",
   "execution_count": 14,
   "id": "8571ad03-d7fe-42b2-ba92-e8092e3865f6",
   "metadata": {},
   "outputs": [],
   "source": [
    "# when you do no know that what is the no of arguments inside the function then syntax\n",
    "# def fun(*args):\n",
    "# ex\n",
    "def fun(*args):\n",
    "    return args"
   ]
  },
  {
   "cell_type": "code",
   "execution_count": 16,
   "id": "8cd748fd-1aad-4242-9c71-80d0cf93a1d2",
   "metadata": {},
   "outputs": [
    {
     "data": {
      "text/plain": [
       "(1, 2, 3, 4, 5, 6, 67, 78, 8, 9)"
      ]
     },
     "execution_count": 16,
     "metadata": {},
     "output_type": "execute_result"
    }
   ],
   "source": [
    "fun(1,2,3,4,5,6,67,78,8,9,)"
   ]
  },
  {
   "cell_type": "code",
   "execution_count": 17,
   "id": "43f6b486-202f-42dd-b223-196216aa4a19",
   "metadata": {},
   "outputs": [],
   "source": [
    "# addition through this process\n",
    "def sum1(*args):\n",
    "    s=0\n",
    "    for i in args:\n",
    "        s=s+i\n",
    "    return s\n",
    "    "
   ]
  },
  {
   "cell_type": "code",
   "execution_count": 19,
   "id": "d05d6d70-79b8-4787-b498-77ed0a59f4d3",
   "metadata": {},
   "outputs": [
    {
     "data": {
      "text/plain": [
       "45"
      ]
     },
     "execution_count": 19,
     "metadata": {},
     "output_type": "execute_result"
    }
   ],
   "source": [
    "sum1(1,2,3,4,5,6,7,8,9)"
   ]
  },
  {
   "cell_type": "code",
   "execution_count": 20,
   "id": "f6485c53-d27d-4869-b6b8-2f58245ce51d",
   "metadata": {},
   "outputs": [],
   "source": [
    "# variable argument ->> takes any no of argument\n",
    "# positional argument->> fixed value \n",
    "# ex : variable argument with default aggument \n",
    "def test(*args,a):\n",
    "    return args,a"
   ]
  },
  {
   "cell_type": "code",
   "execution_count": 21,
   "id": "3c6b18b2-9236-4afd-967f-1a4d46d7e597",
   "metadata": {},
   "outputs": [
    {
     "data": {
      "text/plain": [
       "((1, 2, 3, 4), 'pw')"
      ]
     },
     "execution_count": 21,
     "metadata": {},
     "output_type": "execute_result"
    }
   ],
   "source": [
    "test(1,2,3,4,a=\"pw\")"
   ]
  },
  {
   "cell_type": "code",
   "execution_count": 22,
   "id": "631831f2-16fe-432b-bd51-a35b4bc83270",
   "metadata": {},
   "outputs": [],
   "source": [
    "# write a function that can take any no of value but return the list\n",
    "def return_list(*args):\n",
    "    l=[]\n",
    "    for i in args:\n",
    "        l.append(i)\n",
    "    return l"
   ]
  },
  {
   "cell_type": "code",
   "execution_count": 23,
   "id": "3889ff0c-09f1-48e4-8ee5-8971dcdcbcbe",
   "metadata": {},
   "outputs": [
    {
     "data": {
      "text/plain": [
       "[1, 2, 3, 4]"
      ]
     },
     "execution_count": 23,
     "metadata": {},
     "output_type": "execute_result"
    }
   ],
   "source": [
    "return_list(1,2,3,4)"
   ]
  },
  {
   "cell_type": "code",
   "execution_count": 24,
   "id": "131c11b3-a88c-46e1-9fee-8c0ed32bb265",
   "metadata": {},
   "outputs": [],
   "source": [
    "# write a function that can take many data structure and values  but return the list\n",
    "def return_list(*args):\n",
    "    l=[]\n",
    "    for i in args:\n",
    "        if type(i)==list:\n",
    "            l.append(i)\n",
    "    return l"
   ]
  },
  {
   "cell_type": "code",
   "execution_count": 25,
   "id": "29a13a8a-f16e-4fd6-abfe-486bd99b9a76",
   "metadata": {},
   "outputs": [
    {
     "data": {
      "text/plain": [
       "[['niki', 'niki', 'niki']]"
      ]
     },
     "execution_count": 25,
     "metadata": {},
     "output_type": "execute_result"
    }
   ],
   "source": [
    "return_list(1,2,{22,2.3,\"pw\"},(12,True,\"skills\"),[\"niki\",\"niki\",\"niki\"])"
   ]
  },
  {
   "cell_type": "code",
   "execution_count": 26,
   "id": "6605fe74-d8ac-45aa-a72e-41a3c7c1e5a1",
   "metadata": {},
   "outputs": [],
   "source": [
    "# ex\n",
    "def test1(*args,**args1):\n",
    "    return args,args1"
   ]
  },
  {
   "cell_type": "code",
   "execution_count": 27,
   "id": "a646faff-6c07-4554-aa25-95d941a3ab22",
   "metadata": {},
   "outputs": [
    {
     "data": {
      "text/plain": [
       "((1, 2, 3, 4), {'a': 'pw', 'b': 100})"
      ]
     },
     "execution_count": 27,
     "metadata": {},
     "output_type": "execute_result"
    }
   ],
   "source": [
    "test1(1,2,3,4,a=\"pw\",b=100)"
   ]
  },
  {
   "cell_type": "code",
   "execution_count": 28,
   "id": "6418a8d0-667b-4f63-bc91-caf1cb4689e8",
   "metadata": {},
   "outputs": [],
   "source": [
    "# python namespace\n",
    "def fun():\n",
    "    message=\"hello,welcome!\"  # here message variable is local variable you cannot call outside the function \n",
    "    print(message)"
   ]
  },
  {
   "cell_type": "code",
   "execution_count": 29,
   "id": "269fa3fe-466c-4f1a-af05-cfb84dc6ff3d",
   "metadata": {},
   "outputs": [
    {
     "name": "stdout",
     "output_type": "stream",
     "text": [
      "hello,welcome!\n"
     ]
    }
   ],
   "source": [
    "fun()"
   ]
  },
  {
   "cell_type": "code",
   "execution_count": 30,
   "id": "853feb2e-4ac2-45c7-9460-f01400fe0e25",
   "metadata": {},
   "outputs": [
    {
     "ename": "NameError",
     "evalue": "name 'message' is not defined",
     "output_type": "error",
     "traceback": [
      "\u001b[1;31m---------------------------------------------------------------------------\u001b[0m",
      "\u001b[1;31mNameError\u001b[0m                                 Traceback (most recent call last)",
      "Cell \u001b[1;32mIn[30], line 2\u001b[0m\n\u001b[0;32m      1\u001b[0m \u001b[38;5;66;03m# but here if you call message the errors occurs\u001b[39;00m\n\u001b[1;32m----> 2\u001b[0m \u001b[38;5;28mprint\u001b[39m(message)\n",
      "\u001b[1;31mNameError\u001b[0m: name 'message' is not defined"
     ]
    }
   ],
   "source": [
    "# but here if you call message the errors occurs\n",
    "print(message)"
   ]
  },
  {
   "cell_type": "code",
   "execution_count": 31,
   "id": "05d0ed78-07c9-4a07-a268-7d3fd080622e",
   "metadata": {},
   "outputs": [],
   "source": [
    "# global var\n",
    "subpart=\"to the course\" # global var \n",
    "def fun():\n",
    "    message=\"hello,welcome!\" + subpart  # here message variable is local variable you cannot call outside the function \n",
    "    print(message)"
   ]
  },
  {
   "cell_type": "code",
   "execution_count": 32,
   "id": "70feadbe-6f42-44c7-87ec-0ddd6fd04700",
   "metadata": {},
   "outputs": [
    {
     "name": "stdout",
     "output_type": "stream",
     "text": [
      "hello,welcome!to the course\n"
     ]
    }
   ],
   "source": [
    "fun()"
   ]
  },
  {
   "cell_type": "code",
   "execution_count": 34,
   "id": "e2414d4d-596d-4bd1-82bf-b0a502ac861c",
   "metadata": {},
   "outputs": [
    {
     "name": "stdout",
     "output_type": "stream",
     "text": [
      "to the course\n"
     ]
    }
   ],
   "source": [
    "print(subpart)"
   ]
  },
  {
   "cell_type": "code",
   "execution_count": 35,
   "id": "46f5b68a-dc18-4d8c-a9dc-cefb6690dca8",
   "metadata": {},
   "outputs": [],
   "source": [
    "# namespace ->>scope of variable \n",
    "# global variable:variables that are declared outside of a function are known as global variables. You can access global variables in Python both inside and outside the function.\n",
    "# local variable: those variables that are declared inside the function. Alternatively, they are said to defined within a local scope. A user can only access a local variable inside the function but never outside it."
   ]
  },
  {
   "cell_type": "code",
   "execution_count": 48,
   "id": "0396f665-a05c-4a69-8495-e0f7c994244c",
   "metadata": {},
   "outputs": [],
   "source": [
    "# function  \n",
    "def function1(**kwargs):\n",
    "    sub_marks=[]\n",
    "    for sub,marks in kwargs.items():\n",
    "        sub_marks.append(marks)\n",
    "    return sub_marks\n",
    "     \n",
    "     "
   ]
  },
  {
   "cell_type": "code",
   "execution_count": 49,
   "id": "759d331e-8d60-4b6f-8420-d5cb84bbd1e4",
   "metadata": {},
   "outputs": [
    {
     "data": {
      "text/plain": [
       "[90, 20]"
      ]
     },
     "execution_count": 49,
     "metadata": {},
     "output_type": "execute_result"
    }
   ],
   "source": [
    "function1(a=90, b=20)"
   ]
  },
  {
   "cell_type": "code",
   "execution_count": 52,
   "id": "b4f197f9-46e0-4f99-a280-f458e93a92a1",
   "metadata": {},
   "outputs": [],
   "source": [
    "# fuction inside function \n",
    "def function1(**kwargs):\n",
    "    def total_marks(sub_marks):\n",
    "        return sum(sub_marks)\n",
    "    sub_marks=[]\n",
    "    for sub,marks in kwargs.items():\n",
    "        sub_marks.append(marks)\n",
    "    return total_marks(sub_marks)"
   ]
  },
  {
   "cell_type": "code",
   "execution_count": 53,
   "id": "d2a9f6f2-2f70-43aa-a9ba-a72b01f614d7",
   "metadata": {},
   "outputs": [
    {
     "data": {
      "text/plain": [
       "110"
      ]
     },
     "execution_count": 53,
     "metadata": {},
     "output_type": "execute_result"
    }
   ],
   "source": [
    "function1(a=90,b=20)"
   ]
  },
  {
   "cell_type": "code",
   "execution_count": 54,
   "id": "aa7de006-2807-494c-8e44-3d02eec692aa",
   "metadata": {},
   "outputs": [],
   "source": [
    "# calling from outside\n",
    "def total_marks(sub_marks):\n",
    "    return sum(sub_marks)    # this is global function \n",
    "    \n",
    "def function1(**kwargs):\n",
    "    sub_marks=[]\n",
    "    for sub,marks in kwargs.items():\n",
    "        sub_marks.append(marks)\n",
    "    return total_marks(sub_marks)"
   ]
  },
  {
   "cell_type": "code",
   "execution_count": 55,
   "id": "3ea28fe4-0668-4d02-9a71-5912a7525793",
   "metadata": {},
   "outputs": [
    {
     "data": {
      "text/plain": [
       "310"
      ]
     },
     "execution_count": 55,
     "metadata": {},
     "output_type": "execute_result"
    }
   ],
   "source": [
    "function1(a=90,b=20,c=100,d=100)"
   ]
  },
  {
   "cell_type": "code",
   "execution_count": 56,
   "id": "6d31cb73-dcd5-4dd5-8d97-22260b77a3a3",
   "metadata": {},
   "outputs": [],
   "source": [
    "# find power\n",
    "import math as m\n",
    "def function2(num,pow):\n",
    "    \"\"\" at first line we import the math library \n",
    "    then define a function with positional arguments num and pow \n",
    "    then declare a variable ans and calculate the power with predefine function pow \n",
    "    \"\"\"\n",
    "    ans=m.pow(num,pow)\n",
    "    return ans"
   ]
  },
  {
   "cell_type": "code",
   "execution_count": 57,
   "id": "b190ac2c-e83c-4a2d-a629-fe6796c54ca6",
   "metadata": {},
   "outputs": [
    {
     "data": {
      "text/plain": [
       "32.0"
      ]
     },
     "execution_count": 57,
     "metadata": {},
     "output_type": "execute_result"
    }
   ],
   "source": [
    "function2(2,5)"
   ]
  },
  {
   "cell_type": "code",
   "execution_count": 63,
   "id": "ea5c79ea-9907-492c-86e5-81e7bdc50e90",
   "metadata": {},
   "outputs": [
    {
     "name": "stdout",
     "output_type": "stream",
     "text": [
      "Help on function function2 in module __main__:\n",
      "\n",
      "function2(num, pow)\n",
      "\n"
     ]
    }
   ],
   "source": [
    "help(function2)"
   ]
  },
  {
   "cell_type": "code",
   "execution_count": null,
   "id": "59eb11bf-fe44-4502-93b7-9ef0872a0b8c",
   "metadata": {},
   "outputs": [],
   "source": []
  }
 ],
 "metadata": {
  "kernelspec": {
   "display_name": "Python 3 (ipykernel)",
   "language": "python",
   "name": "python3"
  },
  "language_info": {
   "codemirror_mode": {
    "name": "ipython",
    "version": 3
   },
   "file_extension": ".py",
   "mimetype": "text/x-python",
   "name": "python",
   "nbconvert_exporter": "python",
   "pygments_lexer": "ipython3",
   "version": "3.11.7"
  }
 },
 "nbformat": 4,
 "nbformat_minor": 5
}
