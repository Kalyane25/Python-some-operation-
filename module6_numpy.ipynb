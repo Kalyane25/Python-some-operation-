{
 "cells": [
  {
   "cell_type": "code",
   "execution_count": 3,
   "id": "83a3d8af-ff96-45bd-955c-ca493dc91962",
   "metadata": {},
   "outputs": [],
   "source": [
    "# numpy stands fot neumarical python >>>>>> The fundamental package for scientific computing with Python\n",
    "# 2005 by travis oliphant\n",
    "# before 2005 there were special mathmatical tools (similar to tora , linga)"
   ]
  },
  {
   "cell_type": "code",
   "execution_count": 1,
   "id": "41704923-c53f-447e-bc85-b97396e7c74c",
   "metadata": {},
   "outputs": [],
   "source": [
    "import numpy as np  # here as is alias ( means we call the numpy library as np)"
   ]
  },
  {
   "cell_type": "code",
   "execution_count": 2,
   "id": "4eabcabd-d59c-472c-ab8f-325d78824a6e",
   "metadata": {},
   "outputs": [
    {
     "data": {
      "text/plain": [
       "'1.26.4'"
      ]
     },
     "execution_count": 2,
     "metadata": {},
     "output_type": "execute_result"
    }
   ],
   "source": [
    "np.__version__"
   ]
  },
  {
   "cell_type": "code",
   "execution_count": 6,
   "id": "86212940-4bbe-494c-b71f-72810fb50fe5",
   "metadata": {},
   "outputs": [
    {
     "name": "stdout",
     "output_type": "stream",
     "text": [
      "\n",
      "NumPy\n",
      "=====\n",
      "\n",
      "Provides\n",
      "  1. An array object of arbitrary homogeneous items\n",
      "  2. Fast mathematical operations over arrays\n",
      "  3. Linear Algebra, Fourier Transforms, Random Number Generation\n",
      "\n",
      "How to use the documentation\n",
      "----------------------------\n",
      "Documentation is available in two forms: docstrings provided\n",
      "with the code, and a loose standing reference guide, available from\n",
      "`the NumPy homepage <https://numpy.org>`_.\n",
      "\n",
      "We recommend exploring the docstrings using\n",
      "`IPython <https://ipython.org>`_, an advanced Python shell with\n",
      "TAB-completion and introspection capabilities.  See below for further\n",
      "instructions.\n",
      "\n",
      "The docstring examples assume that `numpy` has been imported as ``np``::\n",
      "\n",
      "  >>> import numpy as np\n",
      "\n",
      "Code snippets are indicated by three greater-than signs::\n",
      "\n",
      "  >>> x = 42\n",
      "  >>> x = x + 1\n",
      "\n",
      "Use the built-in ``help`` function to view a function's docstring::\n",
      "\n",
      "  >>> help(np.sort)\n",
      "  ... # doctest: +SKIP\n",
      "\n",
      "For some objects, ``np.info(obj)`` may provide additional help.  This is\n",
      "particularly true if you see the line \"Help on ufunc object:\" at the top\n",
      "of the help() page.  Ufuncs are implemented in C, not Python, for speed.\n",
      "The native Python help() does not know how to view their help, but our\n",
      "np.info() function does.\n",
      "\n",
      "To search for documents containing a keyword, do::\n",
      "\n",
      "  >>> np.lookfor('keyword')\n",
      "  ... # doctest: +SKIP\n",
      "\n",
      "General-purpose documents like a glossary and help on the basic concepts\n",
      "of numpy are available under the ``doc`` sub-module::\n",
      "\n",
      "  >>> from numpy import doc\n",
      "  >>> help(doc)\n",
      "  ... # doctest: +SKIP\n",
      "\n",
      "Available subpackages\n",
      "---------------------\n",
      "lib\n",
      "    Basic functions used by several sub-packages.\n",
      "random\n",
      "    Core Random Tools\n",
      "linalg\n",
      "    Core Linear Algebra Tools\n",
      "fft\n",
      "    Core FFT routines\n",
      "polynomial\n",
      "    Polynomial tools\n",
      "testing\n",
      "    NumPy testing tools\n",
      "distutils\n",
      "    Enhancements to distutils with support for\n",
      "    Fortran compilers support and more  (for Python <= 3.11).\n",
      "\n",
      "Utilities\n",
      "---------\n",
      "test\n",
      "    Run numpy unittests\n",
      "show_config\n",
      "    Show numpy build configuration\n",
      "matlib\n",
      "    Make everything matrices.\n",
      "__version__\n",
      "    NumPy version string\n",
      "\n",
      "Viewing documentation using IPython\n",
      "-----------------------------------\n",
      "\n",
      "Start IPython and import `numpy` usually under the alias ``np``: `import\n",
      "numpy as np`.  Then, directly past or use the ``%cpaste`` magic to paste\n",
      "examples into the shell.  To see which functions are available in `numpy`,\n",
      "type ``np.<TAB>`` (where ``<TAB>`` refers to the TAB key), or use\n",
      "``np.*cos*?<ENTER>`` (where ``<ENTER>`` refers to the ENTER key) to narrow\n",
      "down the list.  To view the docstring for a function, use\n",
      "``np.cos?<ENTER>`` (to view the docstring) and ``np.cos??<ENTER>`` (to view\n",
      "the source code).\n",
      "\n",
      "Copies vs. in-place operation\n",
      "-----------------------------\n",
      "Most of the functions in `numpy` return a copy of the array argument\n",
      "(e.g., `np.sort`).  In-place versions of these functions are often\n",
      "available as array methods, i.e. ``x = np.array([1,2,3]); x.sort()``.\n",
      "Exceptions to this rule are documented.\n",
      "\n",
      "\n"
     ]
    }
   ],
   "source": [
    "print(np.__doc__)"
   ]
  },
  {
   "cell_type": "code",
   "execution_count": 7,
   "id": "1e2ce96c-5251-4745-adf2-b89f11b88c1d",
   "metadata": {},
   "outputs": [],
   "source": [
    "# numpy store the data in a numpy array >>> means it store the data in a homogeneous way \n",
    "# already we have list but why numpy ?\n",
    "# ->> numpy is bulit using c and c is one of the faster language thats why numpy computation is fast \n",
    "# why fast ?\n",
    "# because it store homogeneous data "
   ]
  },
  {
   "cell_type": "code",
   "execution_count": 8,
   "id": "f0cb3d67-e427-4b2a-aa1c-471b71f1f84e",
   "metadata": {},
   "outputs": [],
   "source": [
    "l=[1,2,3,4,5]"
   ]
  },
  {
   "cell_type": "code",
   "execution_count": 9,
   "id": "7d6f70a2-0955-445f-8d87-0420852ed435",
   "metadata": {},
   "outputs": [],
   "source": [
    "arr=np.array(l)"
   ]
  },
  {
   "cell_type": "code",
   "execution_count": 10,
   "id": "4016bc69-6e4c-495c-b43f-2765cde3edbb",
   "metadata": {},
   "outputs": [
    {
     "data": {
      "text/plain": [
       "array([1, 2, 3, 4, 5])"
      ]
     },
     "execution_count": 10,
     "metadata": {},
     "output_type": "execute_result"
    }
   ],
   "source": [
    "arr"
   ]
  },
  {
   "cell_type": "code",
   "execution_count": 11,
   "id": "a10f91d8-7d0a-4e05-a2a6-c6f3b4d4fe48",
   "metadata": {},
   "outputs": [
    {
     "data": {
      "text/plain": [
       "numpy.ndarray"
      ]
     },
     "execution_count": 11,
     "metadata": {},
     "output_type": "execute_result"
    }
   ],
   "source": [
    "type(arr)"
   ]
  },
  {
   "cell_type": "code",
   "execution_count": 14,
   "id": "e406b287-f723-42e4-ba95-600632c40733",
   "metadata": {},
   "outputs": [],
   "source": [
    "l=[1,2,3,4,5,\"ajay\"]  \n",
    "arr1=np.array(l)  # here no error occurs because numpy array store all value as string "
   ]
  },
  {
   "cell_type": "code",
   "execution_count": 13,
   "id": "085a7233-1757-4b38-bb99-676d040f8bab",
   "metadata": {},
   "outputs": [
    {
     "data": {
      "text/plain": [
       "array(['1', '2', '3', '4', '5', 'ajay'], dtype='<U11')"
      ]
     },
     "execution_count": 13,
     "metadata": {},
     "output_type": "execute_result"
    }
   ],
   "source": [
    "arr1"
   ]
  },
  {
   "cell_type": "code",
   "execution_count": 15,
   "id": "f4b023a4-122f-4d79-9e82-d8bdaa97f5f1",
   "metadata": {},
   "outputs": [],
   "source": [
    "l=[1,2,3,4.2,5,\"ajay\"]\n",
    "arr2=np.array(l) "
   ]
  },
  {
   "cell_type": "code",
   "execution_count": 16,
   "id": "b47fdbe0-4104-4109-913b-abd4d2ac31b0",
   "metadata": {},
   "outputs": [
    {
     "data": {
      "text/plain": [
       "array(['1', '2', '3', '4.2', '5', 'ajay'], dtype='<U32')"
      ]
     },
     "execution_count": 16,
     "metadata": {},
     "output_type": "execute_result"
    }
   ],
   "source": [
    "arr2"
   ]
  },
  {
   "cell_type": "code",
   "execution_count": 17,
   "id": "5229020f-7e60-480b-9149-ec0f0af7d296",
   "metadata": {},
   "outputs": [],
   "source": [
    "l=[1,2,3,4.2,5,\"ajay\",True]\n",
    "arr3=np.array(l) "
   ]
  },
  {
   "cell_type": "code",
   "execution_count": 18,
   "id": "2ed040b9-a4ae-4751-a908-d11ee015913e",
   "metadata": {},
   "outputs": [
    {
     "data": {
      "text/plain": [
       "array(['1', '2', '3', '4.2', '5', 'ajay', 'True'], dtype='<U32')"
      ]
     },
     "execution_count": 18,
     "metadata": {},
     "output_type": "execute_result"
    }
   ],
   "source": [
    "arr3"
   ]
  },
  {
   "cell_type": "code",
   "execution_count": 21,
   "id": "68d32550-c96c-4c4a-a2d7-3ead597d1a98",
   "metadata": {},
   "outputs": [
    {
     "data": {
      "text/plain": [
       "1"
      ]
     },
     "execution_count": 21,
     "metadata": {},
     "output_type": "execute_result"
    }
   ],
   "source": [
    "arr3.ndim   # ndim calculate the dimenssion "
   ]
  },
  {
   "cell_type": "code",
   "execution_count": 22,
   "id": "26e30267-a43b-4088-ac5d-586d22867d09",
   "metadata": {},
   "outputs": [
    {
     "data": {
      "text/plain": [
       "2"
      ]
     },
     "execution_count": 22,
     "metadata": {},
     "output_type": "execute_result"
    }
   ],
   "source": [
    "arr=np.array([[1,2,3],[4,5,6]])\n",
    "arr.ndim"
   ]
  },
  {
   "cell_type": "code",
   "execution_count": 23,
   "id": "fee986b9-8e0e-4be9-af75-2e1e332fb13c",
   "metadata": {},
   "outputs": [
    {
     "data": {
      "text/plain": [
       "array([[1, 2, 3],\n",
       "       [4, 5, 6]])"
      ]
     },
     "execution_count": 23,
     "metadata": {},
     "output_type": "execute_result"
    }
   ],
   "source": [
    "arr"
   ]
  },
  {
   "cell_type": "code",
   "execution_count": 9,
   "id": "d229434c-548e-4cd7-9d36-58ab07ed660a",
   "metadata": {},
   "outputs": [],
   "source": [
    "# matrix : matrix is a specialised array of two dimenssion  \n",
    "mat=np.matrix([1,2,3,4.2,5,\"ajay\"])"
   ]
  },
  {
   "cell_type": "code",
   "execution_count": 5,
   "id": "2a43ddd4-9042-4ea9-95b0-7b8ca60ea000",
   "metadata": {},
   "outputs": [
    {
     "data": {
      "text/plain": [
       "matrix([['1', '2', '3', '4.2', '5', 'ajay']], dtype='<U32')"
      ]
     },
     "execution_count": 5,
     "metadata": {},
     "output_type": "execute_result"
    }
   ],
   "source": [
    "mat"
   ]
  },
  {
   "cell_type": "code",
   "execution_count": 6,
   "id": "b697b945-d9b4-491e-8adc-5ff2c4be4569",
   "metadata": {},
   "outputs": [
    {
     "data": {
      "text/plain": [
       "numpy.matrix"
      ]
     },
     "execution_count": 6,
     "metadata": {},
     "output_type": "execute_result"
    }
   ],
   "source": [
    "type(mat)"
   ]
  },
  {
   "cell_type": "code",
   "execution_count": 7,
   "id": "3364b7ad-598a-4794-846b-c00af70cc097",
   "metadata": {},
   "outputs": [],
   "source": [
    "mat2=np.matrix([[1,2,3],[4,5,6]])"
   ]
  },
  {
   "cell_type": "code",
   "execution_count": 8,
   "id": "5237ce95-86cf-431f-a630-497a94bab138",
   "metadata": {},
   "outputs": [
    {
     "data": {
      "text/plain": [
       "matrix([[1, 2, 3],\n",
       "        [4, 5, 6]])"
      ]
     },
     "execution_count": 8,
     "metadata": {},
     "output_type": "execute_result"
    }
   ],
   "source": [
    "mat2"
   ]
  },
  {
   "cell_type": "code",
   "execution_count": 11,
   "id": "bbb4f909-cab4-4758-bc19-00e12bfb3f73",
   "metadata": {},
   "outputs": [
    {
     "ename": "ValueError",
     "evalue": "matrix must be 2-dimensional",
     "output_type": "error",
     "traceback": [
      "\u001b[1;31m---------------------------------------------------------------------------\u001b[0m",
      "\u001b[1;31mValueError\u001b[0m                                Traceback (most recent call last)",
      "Cell \u001b[1;32mIn[11], line 2\u001b[0m\n\u001b[0;32m      1\u001b[0m \u001b[38;5;66;03m# we cannot write the matrix as three dimenssion \u001b[39;00m\n\u001b[1;32m----> 2\u001b[0m mat3\u001b[38;5;241m=\u001b[39mnp\u001b[38;5;241m.\u001b[39mmatrix([[[\u001b[38;5;241m1\u001b[39m,\u001b[38;5;241m2\u001b[39m,\u001b[38;5;241m3\u001b[39m],[\u001b[38;5;241m4\u001b[39m,\u001b[38;5;241m5\u001b[39m,\u001b[38;5;241m6\u001b[39m],[\u001b[38;5;241m7\u001b[39m,\u001b[38;5;241m8\u001b[39m,\u001b[38;5;241m9\u001b[39m]]])\n",
      "File \u001b[1;32m~\\anaconda3\\Lib\\site-packages\\numpy\\matrixlib\\defmatrix.py:150\u001b[0m, in \u001b[0;36mmatrix.__new__\u001b[1;34m(subtype, data, dtype, copy)\u001b[0m\n\u001b[0;32m    148\u001b[0m shape \u001b[38;5;241m=\u001b[39m arr\u001b[38;5;241m.\u001b[39mshape\n\u001b[0;32m    149\u001b[0m \u001b[38;5;28;01mif\u001b[39;00m (ndim \u001b[38;5;241m>\u001b[39m \u001b[38;5;241m2\u001b[39m):\n\u001b[1;32m--> 150\u001b[0m     \u001b[38;5;28;01mraise\u001b[39;00m \u001b[38;5;167;01mValueError\u001b[39;00m(\u001b[38;5;124m\"\u001b[39m\u001b[38;5;124mmatrix must be 2-dimensional\u001b[39m\u001b[38;5;124m\"\u001b[39m)\n\u001b[0;32m    151\u001b[0m \u001b[38;5;28;01melif\u001b[39;00m ndim \u001b[38;5;241m==\u001b[39m \u001b[38;5;241m0\u001b[39m:\n\u001b[0;32m    152\u001b[0m     shape \u001b[38;5;241m=\u001b[39m (\u001b[38;5;241m1\u001b[39m, \u001b[38;5;241m1\u001b[39m)\n",
      "\u001b[1;31mValueError\u001b[0m: matrix must be 2-dimensional"
     ]
    }
   ],
   "source": [
    "# we cannot write the matrix as three dimenssion \n",
    "mat3=np.matrix([[[1,2,3],[4,5,6],[7,8,9]]])  # it will throw error because matrix must be 2-dimensional"
   ]
  },
  {
   "cell_type": "code",
   "execution_count": 12,
   "id": "77dbcfb6-5f49-4824-b5b7-908f171d2255",
   "metadata": {},
   "outputs": [],
   "source": [
    "# if we put the three dimenssion inside the array then no error occurs \n",
    "arr3=np.array([[[1,2,3],[4,5,6],[7,8,9]]])  "
   ]
  },
  {
   "cell_type": "code",
   "execution_count": 13,
   "id": "15d667a3-a13f-4ca4-bd79-9a5b3d342eb7",
   "metadata": {},
   "outputs": [
    {
     "data": {
      "text/plain": [
       "array([[[1, 2, 3],\n",
       "        [4, 5, 6],\n",
       "        [7, 8, 9]]])"
      ]
     },
     "execution_count": 13,
     "metadata": {},
     "output_type": "execute_result"
    }
   ],
   "source": [
    "arr3  # array can be multi_dimensional "
   ]
  },
  {
   "cell_type": "code",
   "execution_count": 15,
   "id": "84acac61-f861-423d-ad8e-e0e18bc14b3a",
   "metadata": {},
   "outputs": [
    {
     "data": {
      "text/plain": [
       "3"
      ]
     },
     "execution_count": 15,
     "metadata": {},
     "output_type": "execute_result"
    }
   ],
   "source": [
    "arr3.ndim"
   ]
  },
  {
   "cell_type": "code",
   "execution_count": 16,
   "id": "6b5e88a9-8da2-4ae6-aa70-232bd4165907",
   "metadata": {},
   "outputs": [
    {
     "data": {
      "text/plain": [
       "array([1, 2, 3, 4])"
      ]
     },
     "execution_count": 16,
     "metadata": {},
     "output_type": "execute_result"
    }
   ],
   "source": [
    "# more ways to convert in array \n",
    "l=[1,2,3,4]\n",
    "np.asarray(l)  # this is the initial function to convert into an array then np.arry come "
   ]
  },
  {
   "cell_type": "code",
   "execution_count": 17,
   "id": "dd914f13-23e2-41b9-8ce0-b691b6c1f231",
   "metadata": {},
   "outputs": [
    {
     "data": {
      "text/plain": [
       "array([1, 2, 3, 4])"
      ]
     },
     "execution_count": 17,
     "metadata": {},
     "output_type": "execute_result"
    }
   ],
   "source": [
    "# another way \n",
    "np.asanyarray(l) "
   ]
  },
  {
   "cell_type": "code",
   "execution_count": 18,
   "id": "c27958d3-7f05-4392-b6cd-250f93b07a55",
   "metadata": {},
   "outputs": [
    {
     "data": {
      "text/plain": [
       "matrix([['1', '2', '3', '4.2', '5', 'ajay']], dtype='<U32')"
      ]
     },
     "execution_count": 18,
     "metadata": {},
     "output_type": "execute_result"
    }
   ],
   "source": [
    "# asanyarray will convert the input to an ndarray ,but pass ndarray subclasses through.\n",
    "mat"
   ]
  },
  {
   "cell_type": "code",
   "execution_count": 20,
   "id": "fe4f1604-e251-4c23-bd9c-670f38939209",
   "metadata": {},
   "outputs": [
    {
     "data": {
      "text/plain": [
       "matrix([['1', '2', '3', '4.2', '5', 'ajay']], dtype='<U32')"
      ]
     },
     "execution_count": 20,
     "metadata": {},
     "output_type": "execute_result"
    }
   ],
   "source": [
    "np.asanyarray(mat) # same no change matrix can not change into an array "
   ]
  },
  {
   "cell_type": "code",
   "execution_count": 21,
   "id": "0653c9ab-0ac3-4185-994d-53a7fbd3cd7d",
   "metadata": {},
   "outputs": [
    {
     "data": {
      "text/plain": [
       "tuple"
      ]
     },
     "execution_count": 21,
     "metadata": {},
     "output_type": "execute_result"
    }
   ],
   "source": [
    "# tuple->> array\n",
    "tup=(1,2,3)\n",
    "type(tup)"
   ]
  },
  {
   "cell_type": "code",
   "execution_count": 22,
   "id": "0e65999c-6e04-4053-9962-298101119d49",
   "metadata": {},
   "outputs": [
    {
     "data": {
      "text/plain": [
       "array([1, 2, 3])"
      ]
     },
     "execution_count": 22,
     "metadata": {},
     "output_type": "execute_result"
    }
   ],
   "source": [
    "np.array(tup)"
   ]
  },
  {
   "cell_type": "code",
   "execution_count": 23,
   "id": "8b9a2ddb-de7d-48ac-b886-5c212e3d8daa",
   "metadata": {},
   "outputs": [],
   "source": [
    "tup=([[1,2,3],[4,5,6]])"
   ]
  },
  {
   "cell_type": "code",
   "execution_count": 28,
   "id": "3f9b7718-3146-4ec2-a28c-b41b1d416ae3",
   "metadata": {},
   "outputs": [],
   "source": [
    "arr=np.array(tup)"
   ]
  },
  {
   "cell_type": "code",
   "execution_count": 29,
   "id": "3201f052-d209-4c98-913a-694dd6c985ae",
   "metadata": {},
   "outputs": [
    {
     "data": {
      "text/plain": [
       "array([[1, 2, 3],\n",
       "       [4, 5, 6]])"
      ]
     },
     "execution_count": 29,
     "metadata": {},
     "output_type": "execute_result"
    }
   ],
   "source": [
    "arr"
   ]
  },
  {
   "cell_type": "code",
   "execution_count": 30,
   "id": "d344ceb3-da87-4999-8aef-c01c7f7442ed",
   "metadata": {},
   "outputs": [
    {
     "data": {
      "text/plain": [
       "1"
      ]
     },
     "execution_count": 30,
     "metadata": {},
     "output_type": "execute_result"
    }
   ],
   "source": [
    "arr[0][0]"
   ]
  },
  {
   "cell_type": "code",
   "execution_count": 34,
   "id": "7570137c-7c79-4062-b5cf-887fce0e4d81",
   "metadata": {},
   "outputs": [
    {
     "data": {
      "text/plain": [
       "6"
      ]
     },
     "execution_count": 34,
     "metadata": {},
     "output_type": "execute_result"
    }
   ],
   "source": [
    "arr[1][2]"
   ]
  },
  {
   "cell_type": "code",
   "execution_count": 38,
   "id": "4fcdffc4-7b8f-4475-b205-f0dd6c66ee61",
   "metadata": {},
   "outputs": [],
   "source": [
    "# shallow copy and deep copy \n",
    "l=[1,2,3,4,5,6]\n",
    "arr=np.array(l)"
   ]
  },
  {
   "cell_type": "code",
   "execution_count": 39,
   "id": "c1935621-3316-4079-9564-615a5685dcdf",
   "metadata": {},
   "outputs": [
    {
     "data": {
      "text/plain": [
       "array([1, 2, 3, 4, 5, 6])"
      ]
     },
     "execution_count": 39,
     "metadata": {},
     "output_type": "execute_result"
    }
   ],
   "source": [
    "arr"
   ]
  },
  {
   "cell_type": "code",
   "execution_count": 40,
   "id": "60c42939-eced-448c-beb9-25c202145456",
   "metadata": {},
   "outputs": [],
   "source": [
    "arr[0]=1000"
   ]
  },
  {
   "cell_type": "code",
   "execution_count": 41,
   "id": "d5d55b1c-3e13-44af-a6a3-74fc12213b5e",
   "metadata": {},
   "outputs": [
    {
     "data": {
      "text/plain": [
       "array([1000,    2,    3,    4,    5,    6])"
      ]
     },
     "execution_count": 41,
     "metadata": {},
     "output_type": "execute_result"
    }
   ],
   "source": [
    "arr"
   ]
  },
  {
   "cell_type": "code",
   "execution_count": 42,
   "id": "54cca96e-1c68-434f-bbe2-6a26bb86f3d3",
   "metadata": {},
   "outputs": [],
   "source": [
    "a=arr # shallow "
   ]
  },
  {
   "cell_type": "code",
   "execution_count": 43,
   "id": "345cd6de-4459-41ce-b135-4686e2669a1f",
   "metadata": {},
   "outputs": [
    {
     "data": {
      "text/plain": [
       "array([1000,    2,    3,    4,    5,    6])"
      ]
     },
     "execution_count": 43,
     "metadata": {},
     "output_type": "execute_result"
    }
   ],
   "source": [
    "a"
   ]
  },
  {
   "cell_type": "code",
   "execution_count": 44,
   "id": "bb00fdc2-1669-4752-aee1-14227a786598",
   "metadata": {},
   "outputs": [
    {
     "data": {
      "text/plain": [
       "array([1000,    2,    3,    4,    5,    6])"
      ]
     },
     "execution_count": 44,
     "metadata": {},
     "output_type": "execute_result"
    }
   ],
   "source": [
    "arr"
   ]
  },
  {
   "cell_type": "code",
   "execution_count": 45,
   "id": "d9e17cdb-0802-4499-92d3-689cf60ec4e3",
   "metadata": {},
   "outputs": [],
   "source": [
    "arr[0]=500"
   ]
  },
  {
   "cell_type": "code",
   "execution_count": 46,
   "id": "69cd660e-2333-48d4-b399-29c1739c076f",
   "metadata": {},
   "outputs": [
    {
     "data": {
      "text/plain": [
       "array([500,   2,   3,   4,   5,   6])"
      ]
     },
     "execution_count": 46,
     "metadata": {},
     "output_type": "execute_result"
    }
   ],
   "source": [
    "arr"
   ]
  },
  {
   "cell_type": "code",
   "execution_count": 47,
   "id": "49b8ea10-af1e-499d-9b3d-540cd906b72a",
   "metadata": {},
   "outputs": [
    {
     "data": {
      "text/plain": [
       "array([500,   2,   3,   4,   5,   6])"
      ]
     },
     "execution_count": 47,
     "metadata": {},
     "output_type": "execute_result"
    }
   ],
   "source": [
    "a"
   ]
  },
  {
   "cell_type": "code",
   "execution_count": 48,
   "id": "77a81b6f-ac7d-48ff-9147-54f4dc4d8182",
   "metadata": {},
   "outputs": [],
   "source": [
    "# deepcopy\n",
    "# create a copy \n",
    "b= arr.copy()"
   ]
  },
  {
   "cell_type": "code",
   "execution_count": 49,
   "id": "a083d06c-78c5-4bbb-b534-0aca1d286c79",
   "metadata": {},
   "outputs": [
    {
     "data": {
      "text/plain": [
       "array([500,   2,   3,   4,   5,   6])"
      ]
     },
     "execution_count": 49,
     "metadata": {},
     "output_type": "execute_result"
    }
   ],
   "source": [
    "b"
   ]
  },
  {
   "cell_type": "code",
   "execution_count": 50,
   "id": "4d052fb4-294c-4a82-8339-ba40d71f3dc3",
   "metadata": {},
   "outputs": [],
   "source": [
    "b[0]=100"
   ]
  },
  {
   "cell_type": "code",
   "execution_count": 51,
   "id": "5a91c3d6-79c7-4d6b-a963-c939c8103fcf",
   "metadata": {},
   "outputs": [
    {
     "data": {
      "text/plain": [
       "array([100,   2,   3,   4,   5,   6])"
      ]
     },
     "execution_count": 51,
     "metadata": {},
     "output_type": "execute_result"
    }
   ],
   "source": [
    "b"
   ]
  },
  {
   "cell_type": "code",
   "execution_count": 52,
   "id": "ae7f3a32-2492-4fa5-a8ce-2902df4eab2c",
   "metadata": {},
   "outputs": [
    {
     "data": {
      "text/plain": [
       "array([500,   2,   3,   4,   5,   6])"
      ]
     },
     "execution_count": 52,
     "metadata": {},
     "output_type": "execute_result"
    }
   ],
   "source": [
    "arr"
   ]
  },
  {
   "cell_type": "code",
   "execution_count": 54,
   "id": "67ae5048-9041-448d-8bd1-7769c5927240",
   "metadata": {},
   "outputs": [],
   "source": [
    "# multiple approach to generate any array \n",
    "arr1=np.fromfunction(lambda i,j:i==j,(3,3)) # constract a array by executing a function over each co-ordinate "
   ]
  },
  {
   "cell_type": "code",
   "execution_count": 55,
   "id": "287a2415-d5b3-405c-881b-274090704825",
   "metadata": {},
   "outputs": [
    {
     "data": {
      "text/plain": [
       "array([[ True, False, False],\n",
       "       [False,  True, False],\n",
       "       [False, False,  True]])"
      ]
     },
     "execution_count": 55,
     "metadata": {},
     "output_type": "execute_result"
    }
   ],
   "source": [
    "arr1"
   ]
  },
  {
   "cell_type": "code",
   "execution_count": 56,
   "id": "fdc95452-1d39-4a0f-8f61-64386de6bd39",
   "metadata": {},
   "outputs": [
    {
     "data": {
      "text/plain": [
       "2"
      ]
     },
     "execution_count": 56,
     "metadata": {},
     "output_type": "execute_result"
    }
   ],
   "source": [
    "arr1.ndim"
   ]
  },
  {
   "cell_type": "code",
   "execution_count": 60,
   "id": "dea26234-2ffa-495e-9aec-fd8e9c911e4d",
   "metadata": {},
   "outputs": [
    {
     "data": {
      "text/plain": [
       "(3, 3)"
      ]
     },
     "execution_count": 60,
     "metadata": {},
     "output_type": "execute_result"
    }
   ],
   "source": [
    "arr1.shape # shape of the matrix"
   ]
  },
  {
   "cell_type": "code",
   "execution_count": 61,
   "id": "c65915b0-f7f4-4714-9378-0fa2c586389d",
   "metadata": {},
   "outputs": [
    {
     "data": {
      "text/plain": [
       "9"
      ]
     },
     "execution_count": 61,
     "metadata": {},
     "output_type": "execute_result"
    }
   ],
   "source": [
    "arr1.size # total no "
   ]
  },
  {
   "cell_type": "code",
   "execution_count": 62,
   "id": "8960d775-c2db-4323-9ff0-01aabdfa3650",
   "metadata": {},
   "outputs": [],
   "source": [
    "# another function \n",
    "arr2=np.fromfunction(lambda i,j:i*j,(3,3))"
   ]
  },
  {
   "cell_type": "code",
   "execution_count": 63,
   "id": "5763c245-286a-4f8f-933a-55bcc2f48218",
   "metadata": {},
   "outputs": [
    {
     "data": {
      "text/plain": [
       "array([[0., 0., 0.],\n",
       "       [0., 1., 2.],\n",
       "       [0., 2., 4.]])"
      ]
     },
     "execution_count": 63,
     "metadata": {},
     "output_type": "execute_result"
    }
   ],
   "source": [
    "arr2"
   ]
  },
  {
   "cell_type": "code",
   "execution_count": 64,
   "id": "376a82a1-a0a9-4741-9d18-8835afa56717",
   "metadata": {},
   "outputs": [
    {
     "data": {
      "text/plain": [
       "(3, 3)"
      ]
     },
     "execution_count": 64,
     "metadata": {},
     "output_type": "execute_result"
    }
   ],
   "source": [
    "arr2.shape"
   ]
  },
  {
   "cell_type": "code",
   "execution_count": 65,
   "id": "10e33f1f-3d79-41ec-9593-da16b9003f67",
   "metadata": {},
   "outputs": [
    {
     "data": {
      "text/plain": [
       "9"
      ]
     },
     "execution_count": 65,
     "metadata": {},
     "output_type": "execute_result"
    }
   ],
   "source": [
    "arr2.size"
   ]
  },
  {
   "cell_type": "code",
   "execution_count": 66,
   "id": "7d183d90-5dde-4d65-bb39-8d8bf4f42332",
   "metadata": {},
   "outputs": [
    {
     "data": {
      "text/plain": [
       "2"
      ]
     },
     "execution_count": 66,
     "metadata": {},
     "output_type": "execute_result"
    }
   ],
   "source": [
    "arr2.ndim"
   ]
  },
  {
   "cell_type": "code",
   "execution_count": 67,
   "id": "3a4410e4-7f37-45fe-bb53-bbbb448bb4be",
   "metadata": {},
   "outputs": [
    {
     "name": "stdout",
     "output_type": "stream",
     "text": [
      "0\n",
      "1\n",
      "2\n",
      "3\n",
      "4\n"
     ]
    }
   ],
   "source": [
    "for i in range(5):\n",
    "    print(i)"
   ]
  },
  {
   "cell_type": "code",
   "execution_count": 72,
   "id": "8c4c77df-7aaa-4628-81fb-d9c96409d8ee",
   "metadata": {},
   "outputs": [
    {
     "data": {
      "text/plain": [
       "[0, 1, 2, 3, 4]"
      ]
     },
     "execution_count": 72,
     "metadata": {},
     "output_type": "execute_result"
    }
   ],
   "source": [
    "[ i for i in range(5)]"
   ]
  },
  {
   "cell_type": "code",
   "execution_count": 93,
   "id": "a2057867-c719-414e-a719-3509a6d74e2e",
   "metadata": {},
   "outputs": [
    {
     "data": {
      "text/plain": [
       "[0, 1, 2, 3, 4]"
      ]
     },
     "execution_count": 93,
     "metadata": {},
     "output_type": "execute_result"
    }
   ],
   "source": [
    "list((i for i in range(5)))"
   ]
  },
  {
   "cell_type": "code",
   "execution_count": 94,
   "id": "b4674217-0806-4a90-90b3-22f68ef2e6c1",
   "metadata": {},
   "outputs": [],
   "source": [
    "iterator=(i for i in range (5))"
   ]
  },
  {
   "cell_type": "code",
   "execution_count": 95,
   "id": "da238561-f2ac-491c-99bf-b2dfb9845dc1",
   "metadata": {},
   "outputs": [
    {
     "data": {
      "text/plain": [
       "<generator object <genexpr> at 0x0000021E41C2ECF0>"
      ]
     },
     "execution_count": 95,
     "metadata": {},
     "output_type": "execute_result"
    }
   ],
   "source": [
    "iterator"
   ]
  },
  {
   "cell_type": "code",
   "execution_count": 96,
   "id": "f6d10c18-83a1-41dd-9d2d-c1518fa2f86a",
   "metadata": {},
   "outputs": [],
   "source": [
    "ans=np.fromiter(iterator,int) \n"
   ]
  },
  {
   "cell_type": "code",
   "execution_count": 98,
   "id": "8595ab94-374f-4c4e-8535-b7384dabf635",
   "metadata": {},
   "outputs": [
    {
     "data": {
      "text/plain": [
       "array([0, 1, 2, 3, 4])"
      ]
     },
     "execution_count": 98,
     "metadata": {},
     "output_type": "execute_result"
    }
   ],
   "source": [
    "ans   # # Create a new 1-dimensional array from an iterable object."
   ]
  },
  {
   "cell_type": "code",
   "execution_count": 100,
   "id": "0cc003f6-f81d-4090-98d7-c0e7365c8a12",
   "metadata": {},
   "outputs": [
    {
     "data": {
      "text/plain": [
       "array([22, 23, 25])"
      ]
     },
     "execution_count": 100,
     "metadata": {},
     "output_type": "execute_result"
    }
   ],
   "source": [
    "# another ex:\n",
    "np.fromstring(\" 22 23 25\",sep=\" \",dtype=int)    # A new 1-D array initialized from text data in a string.\n"
   ]
  },
  {
   "cell_type": "code",
   "execution_count": 101,
   "id": "b877f002-dabe-41fc-ac20-4dec3d1459a7",
   "metadata": {},
   "outputs": [
    {
     "data": {
      "text/plain": [
       "['ajay', 'bijoy', 'sanjay']"
      ]
     },
     "execution_count": 101,
     "metadata": {},
     "output_type": "execute_result"
    }
   ],
   "source": [
    "# now work in string \n",
    "str=\"ajay,bijoy,sanjay\"\n",
    "str.split(\",\")"
   ]
  },
  {
   "cell_type": "code",
   "execution_count": 103,
   "id": "cf5b488e-1dcf-43a8-9f7e-faf18f919d37",
   "metadata": {},
   "outputs": [
    {
     "data": {
      "text/plain": [
       "array(['ajay', 'bijoy', 'sanjay'], dtype='<U6')"
      ]
     },
     "execution_count": 103,
     "metadata": {},
     "output_type": "execute_result"
    }
   ],
   "source": [
    "np.array(str.split(\",\"))"
   ]
  },
  {
   "cell_type": "code",
   "execution_count": 105,
   "id": "3ea7571b-6e4e-4d4e-9d1b-2d29c0c87672",
   "metadata": {},
   "outputs": [
    {
     "data": {
      "text/plain": [
       "[0, 1, 2, 3, 4, 5, 6, 7, 8, 9]"
      ]
     },
     "execution_count": 105,
     "metadata": {},
     "output_type": "execute_result"
    }
   ],
   "source": [
    "list(range(10))"
   ]
  },
  {
   "cell_type": "code",
   "execution_count": 108,
   "id": "d2474ee6-f117-459b-b9e3-86e0386f9b43",
   "metadata": {},
   "outputs": [
    {
     "data": {
      "text/plain": [
       "array([1, 2, 3, 4, 5, 6, 7, 8, 9])"
      ]
     },
     "execution_count": 108,
     "metadata": {},
     "output_type": "execute_result"
    }
   ],
   "source": [
    "# to do the above work numpy has \n",
    "np.arange(1,10) # arange returns evenly specified value within a given interval\n",
    "# syntax :arange([start, stop, step] stop=range-1"
   ]
  },
  {
   "cell_type": "code",
   "execution_count": 109,
   "id": "4a3918cd-73c8-4450-b9b8-e54f13ca8e61",
   "metadata": {},
   "outputs": [
    {
     "data": {
      "text/plain": [
       "array([1. , 1.1, 1.2, 1.3, 1.4, 1.5, 1.6, 1.7, 1.8, 1.9, 2. , 2.1, 2.2,\n",
       "       2.3, 2.4, 2.5, 2.6, 2.7, 2.8, 2.9, 3. , 3.1, 3.2, 3.3, 3.4, 3.5,\n",
       "       3.6, 3.7, 3.8, 3.9, 4. , 4.1, 4.2, 4.3, 4.4, 4.5, 4.6, 4.7, 4.8,\n",
       "       4.9, 5. , 5.1, 5.2, 5.3, 5.4, 5.5, 5.6, 5.7, 5.8, 5.9, 6. , 6.1,\n",
       "       6.2, 6.3, 6.4, 6.5, 6.6, 6.7, 6.8, 6.9, 7. , 7.1, 7.2, 7.3, 7.4,\n",
       "       7.5, 7.6, 7.7, 7.8, 7.9, 8. , 8.1, 8.2, 8.3, 8.4, 8.5, 8.6, 8.7,\n",
       "       8.8, 8.9, 9. , 9.1, 9.2, 9.3, 9.4, 9.5, 9.6, 9.7, 9.8, 9.9])"
      ]
     },
     "execution_count": 109,
     "metadata": {},
     "output_type": "execute_result"
    }
   ],
   "source": [
    "np.arange(1,10,0.1)"
   ]
  },
  {
   "cell_type": "code",
   "execution_count": 111,
   "id": "f2827fb9-f6cc-4833-ba7e-5954a2b71b26",
   "metadata": {},
   "outputs": [
    {
     "data": {
      "text/plain": [
       "array([1. , 1.4, 1.8, 2.2, 2.6, 3. , 3.4, 3.8, 4.2, 4.6, 5. , 5.4, 5.8,\n",
       "       6.2, 6.6, 7. , 7.4, 7.8, 8.2, 8.6, 9. , 9.4, 9.8])"
      ]
     },
     "execution_count": 111,
     "metadata": {},
     "output_type": "execute_result"
    }
   ],
   "source": [
    "np.arange(1,10,0.4)"
   ]
  },
  {
   "cell_type": "code",
   "execution_count": 112,
   "id": "25241f1d-7dfe-429a-b663-7a46b9e8f850",
   "metadata": {},
   "outputs": [
    {
     "data": {
      "text/plain": [
       "array([1, 3, 5, 7, 9])"
      ]
     },
     "execution_count": 112,
     "metadata": {},
     "output_type": "execute_result"
    }
   ],
   "source": [
    "np.arange(1,10,2)"
   ]
  },
  {
   "cell_type": "code",
   "execution_count": 115,
   "id": "57224a98-e035-4573-9b1d-5a2d0e718dc5",
   "metadata": {},
   "outputs": [
    {
     "data": {
      "text/plain": [
       "array([1.        , 1.44444444, 1.88888889, 2.33333333, 2.77777778,\n",
       "       3.22222222, 3.66666667, 4.11111111, 4.55555556, 5.        ])"
      ]
     },
     "execution_count": 115,
     "metadata": {},
     "output_type": "execute_result"
    }
   ],
   "source": [
    "# another method \n",
    "np.linspace(1,5,10) # this method returns specific times  of number (here you given 10) into the given range means in this example this method returns 10 numbers of range 1 to 5 "
   ]
  },
  {
   "cell_type": "code",
   "execution_count": null,
   "id": "a28b9936-483e-4cda-9328-751f0111c120",
   "metadata": {},
   "outputs": [],
   "source": []
  }
 ],
 "metadata": {
  "kernelspec": {
   "display_name": "Python 3 (ipykernel)",
   "language": "python",
   "name": "python3"
  },
  "language_info": {
   "codemirror_mode": {
    "name": "ipython",
    "version": 3
   },
   "file_extension": ".py",
   "mimetype": "text/x-python",
   "name": "python",
   "nbconvert_exporter": "python",
   "pygments_lexer": "ipython3",
   "version": "3.11.7"
  }
 },
 "nbformat": 4,
 "nbformat_minor": 5
}
