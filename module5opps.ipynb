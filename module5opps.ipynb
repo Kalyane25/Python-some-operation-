{
 "cells": [
  {
   "cell_type": "markdown",
   "id": "b87a2981-f667-4fd3-934c-eb571e7b812e",
   "metadata": {},
   "source": [
    "# opps"
   ]
  },
  {
   "cell_type": "code",
   "execution_count": 1,
   "id": "f4cfe0af-df3f-4010-b92f-3a19e47ca23c",
   "metadata": {},
   "outputs": [
    {
     "name": "stdout",
     "output_type": "stream",
     "text": [
      "<class 'int'>\n"
     ]
    }
   ],
   "source": [
    "a=5\n",
    "print(type(a))"
   ]
  },
  {
   "cell_type": "code",
   "execution_count": 2,
   "id": "561a4a23-dd6b-4bfd-ab10-c1d0f5660cf7",
   "metadata": {},
   "outputs": [
    {
     "name": "stdout",
     "output_type": "stream",
     "text": [
      "<class 'str'>\n"
     ]
    }
   ],
   "source": [
    "s=\"ajay\"\n",
    "print(type(s))"
   ]
  },
  {
   "cell_type": "code",
   "execution_count": 3,
   "id": "a67278ca-90c7-49ad-8f21-c91f61f8badf",
   "metadata": {},
   "outputs": [
    {
     "name": "stdout",
     "output_type": "stream",
     "text": [
      "<class 'str'>\n"
     ]
    }
   ],
   "source": [
    "a=\"bijay\"\n",
    "print(type(a))"
   ]
  },
  {
   "cell_type": "code",
   "execution_count": 4,
   "id": "cc334516-bcdf-4452-9c96-043b7f43cc7d",
   "metadata": {},
   "outputs": [],
   "source": [
    "# here <class str> is a class and a and s is object\n",
    "# class are blueprint /template for creating an object\n",
    "# we all are the differnet object of class human being "
   ]
  },
  {
   "cell_type": "code",
   "execution_count": 5,
   "id": "a614d624-2bc5-4597-84c4-87776c29a130",
   "metadata": {},
   "outputs": [],
   "source": [
    "# how to define a class\n",
    "# class car is nothing but a template\n",
    "class Car:   # name conversion : upper camel case\n",
    "    pass\n",
    "    "
   ]
  },
  {
   "cell_type": "code",
   "execution_count": 6,
   "id": "22bde7b7-37bc-44fe-84be-982f7c1f22b5",
   "metadata": {},
   "outputs": [],
   "source": [
    "c1=Car() # instanse/object "
   ]
  },
  {
   "cell_type": "code",
   "execution_count": 7,
   "id": "87baf41c-39f1-477f-9584-f5fa930efd88",
   "metadata": {},
   "outputs": [
    {
     "name": "stdout",
     "output_type": "stream",
     "text": [
      "<class '__main__.Car'>\n"
     ]
    }
   ],
   "source": [
    "print(type(c1))"
   ]
  },
  {
   "cell_type": "code",
   "execution_count": 1,
   "id": "39cd1afa-d419-4ca1-a40c-1658a1da78c4",
   "metadata": {},
   "outputs": [],
   "source": [
    "# why opps ?\n",
    "# a project can have many components , say backend(f1,f2),frontend(f3,f4),data pipeline(f5,f6)\n",
    "# def f1():\n",
    "#     pass\n",
    "# def f6():\n",
    "#     pass\n",
    "# def f4():\n",
    "#     pass\n",
    "# def f2():\n",
    "#     pass\n",
    "# def f5():\n",
    "#     pass\n",
    "# def f3():\n",
    "#     pass\n",
    "\n",
    "# if a backend developer wants to work or change some backend function this time he or she saw that  all the functions are at one place means not arrenged then he or she does not work on this project \n",
    "# main funda:opps helps you to arrange the required function in respective classes "
   ]
  },
  {
   "cell_type": "code",
   "execution_count": 2,
   "id": "16a236ad-e821-4b87-9717-9294ae0ab8dc",
   "metadata": {},
   "outputs": [],
   "source": [
    "class Car:\n",
    "    pass"
   ]
  },
  {
   "cell_type": "code",
   "execution_count": 3,
   "id": "88c35219-f27c-47e3-94f8-97432d280853",
   "metadata": {},
   "outputs": [
    {
     "name": "stdout",
     "output_type": "stream",
     "text": [
      "<class '__main__.Car'>\n"
     ]
    }
   ],
   "source": [
    "c1=Car();\n",
    "print(type(c1))"
   ]
  },
  {
   "cell_type": "code",
   "execution_count": 4,
   "id": "9f547aa3-fe06-4de6-af77-8fa142817185",
   "metadata": {},
   "outputs": [],
   "source": [
    "class Car:\n",
    "    def running():\n",
    "        print(\"car is running \")\n",
    "        "
   ]
  },
  {
   "cell_type": "code",
   "execution_count": 5,
   "id": "5964af5d-1425-42dc-86b7-02dc289636b2",
   "metadata": {},
   "outputs": [
    {
     "ename": "TypeError",
     "evalue": "Car.running() takes 0 positional arguments but 1 was given",
     "output_type": "error",
     "traceback": [
      "\u001b[1;31m---------------------------------------------------------------------------\u001b[0m",
      "\u001b[1;31mTypeError\u001b[0m                                 Traceback (most recent call last)",
      "Cell \u001b[1;32mIn[5], line 2\u001b[0m\n\u001b[0;32m      1\u001b[0m c1\u001b[38;5;241m=\u001b[39mCar()\n\u001b[1;32m----> 2\u001b[0m c1\u001b[38;5;241m.\u001b[39mrunning()\n",
      "\u001b[1;31mTypeError\u001b[0m: Car.running() takes 0 positional arguments but 1 was given"
     ]
    }
   ],
   "source": [
    "c1=Car()\n",
    "c1.running() # here error occurs to avoid this error we have to use the self"
   ]
  },
  {
   "cell_type": "code",
   "execution_count": 6,
   "id": "73806f77-f344-41cf-8352-3aec070c8a93",
   "metadata": {},
   "outputs": [],
   "source": [
    "class Car:\n",
    "    def running(self):\n",
    "        print(\"car is running \")"
   ]
  },
  {
   "cell_type": "code",
   "execution_count": 7,
   "id": "0a051324-3310-498e-95ce-10e578a458c8",
   "metadata": {},
   "outputs": [
    {
     "name": "stdout",
     "output_type": "stream",
     "text": [
      "car is running \n"
     ]
    }
   ],
   "source": [
    "c1=Car()\n",
    "c1.running()"
   ]
  },
  {
   "cell_type": "code",
   "execution_count": 9,
   "id": "f8868d12-29b1-4805-916d-bc262220e177",
   "metadata": {},
   "outputs": [],
   "source": [
    "# self:When working with classes in Python, the term “self” refers to the instance of the class that is currently being used. It is customary to use “self” as the first parameter in instance methods of a class. Whenever you call a method of an object created from a class, the object is automatically passed as the first argument using the “self” parameter. This enables you to modify the object’s properties and execute tasks unique to that particular instance.\n",
    "class Car:\n",
    "    def running(self):\n",
    "        print(\"car is running \")\n",
    "    def brake(self):\n",
    "        print(\"car will be stopped when you press the break\")"
   ]
  },
  {
   "cell_type": "code",
   "execution_count": 10,
   "id": "8b4c5a3c-db91-4805-a5cf-d4a3fc3041b3",
   "metadata": {},
   "outputs": [
    {
     "name": "stdout",
     "output_type": "stream",
     "text": [
      "car will be stopped when you press the break\n"
     ]
    }
   ],
   "source": [
    "c1=Car()\n",
    "c1.brake()"
   ]
  },
  {
   "cell_type": "code",
   "execution_count": 11,
   "id": "be6664db-1e03-48a1-8a28-85a59f758e92",
   "metadata": {},
   "outputs": [
    {
     "name": "stdout",
     "output_type": "stream",
     "text": [
      "car is running \n"
     ]
    }
   ],
   "source": [
    "c1.running()"
   ]
  },
  {
   "cell_type": "code",
   "execution_count": 21,
   "id": "cb33757c-73f4-4aee-92e1-90173741131d",
   "metadata": {},
   "outputs": [],
   "source": [
    "# self is not a python keywords you can use any variable name  but best practice is use self \n",
    "class Bank:\n",
    "    def deposite(self):\n",
    "        print(\"I want to deposite the money\")\n",
    "    def withdraw(self):\n",
    "        print(\"I want to withdraw the money\")"
   ]
  },
  {
   "cell_type": "code",
   "execution_count": 22,
   "id": "448aac44-ba58-453d-8ae3-e15d9e29454f",
   "metadata": {},
   "outputs": [
    {
     "name": "stdout",
     "output_type": "stream",
     "text": [
      "I want to deposite the money\n"
     ]
    }
   ],
   "source": [
    "b1=Bank()\n",
    "b1.deposite()\n"
   ]
  },
  {
   "cell_type": "code",
   "execution_count": 23,
   "id": "8c261c8b-2e27-4165-aa1f-8260861f1364",
   "metadata": {},
   "outputs": [
    {
     "name": "stdout",
     "output_type": "stream",
     "text": [
      "I want to withdraw the money\n"
     ]
    }
   ],
   "source": [
    "b1.withdraw()"
   ]
  },
  {
   "cell_type": "code",
   "execution_count": 10,
   "id": "4efcadba-aa7e-48be-9d51-6a59adf3760e",
   "metadata": {},
   "outputs": [],
   "source": [
    "# passing data in the class\n",
    "class Bank:\n",
    "    def deposite(self,deposite_amount):\n",
    "        print(\"I want to deposite the money\",deposite_amount)\n",
    "    def withdraw(self,withdraw_amount):\n",
    "        print(\"I want to withdraw the money\",withdraw_amount)\n",
    "    def previous(self,previous_money):\n",
    "        print(\"previous money was\",previous_money)"
   ]
  },
  {
   "cell_type": "code",
   "execution_count": 11,
   "id": "9c587dc6-fbde-41fa-b2d1-c9e9acb0211b",
   "metadata": {},
   "outputs": [
    {
     "name": "stdout",
     "output_type": "stream",
     "text": [
      "I want to deposite the money 1000\n"
     ]
    }
   ],
   "source": [
    "b1=Bank()\n",
    "b1.deposite(1000)"
   ]
  },
  {
   "cell_type": "code",
   "execution_count": 15,
   "id": "ea0ed026-8b6b-41bd-be04-89192505df17",
   "metadata": {},
   "outputs": [
    {
     "name": "stdout",
     "output_type": "stream",
     "text": [
      "I want to withdraw the money 2000\n"
     ]
    }
   ],
   "source": [
    "b1.withdraw(2000)"
   ]
  },
  {
   "cell_type": "code",
   "execution_count": 14,
   "id": "f30ead3a-1165-4098-ab17-be5119e16650",
   "metadata": {},
   "outputs": [
    {
     "name": "stdout",
     "output_type": "stream",
     "text": [
      "previous money was 5000\n"
     ]
    }
   ],
   "source": [
    "b1.previous(5000)"
   ]
  },
  {
   "cell_type": "code",
   "execution_count": 23,
   "id": "56cabc6e-7010-49df-97b2-4a65f76ed3b4",
   "metadata": {},
   "outputs": [],
   "source": [
    "# properties and function \n",
    "class Bank:\n",
    "    amount=1000\n",
    "    def deposite(self,amount):\n",
    "        print(\"I want to deposite the money\",amount)\n",
    "    def withdraw(self,withdraw_amount):\n",
    "        print(\"I want to withdraw the money\",withdraw_amount)"
   ]
  },
  {
   "cell_type": "code",
   "execution_count": 24,
   "id": "1ba22f4e-1028-4c50-8eb7-74c91fb5f568",
   "metadata": {},
   "outputs": [
    {
     "name": "stdout",
     "output_type": "stream",
     "text": [
      "I want to deposite the money 1000\n"
     ]
    }
   ],
   "source": [
    "b1=Bank()\n",
    "b1.deposite(1000)"
   ]
  },
  {
   "cell_type": "code",
   "execution_count": 25,
   "id": "0c040973-d599-45dd-9841-c6b255f872bb",
   "metadata": {},
   "outputs": [
    {
     "data": {
      "text/plain": [
       "1000"
      ]
     },
     "execution_count": 25,
     "metadata": {},
     "output_type": "execute_result"
    }
   ],
   "source": [
    "b1.amount"
   ]
  },
  {
   "cell_type": "code",
   "execution_count": 32,
   "id": "9d2512c6-81fc-4a14-86e1-31e70399d605",
   "metadata": {},
   "outputs": [],
   "source": [
    "# extract even or odd from a nist \n",
    "class num:\n",
    "    l=[1,2,3,4,5,6]\n",
    "    def even_num(self,l):\n",
    "        l1=[]\n",
    "        for i in l:\n",
    "            if i%2==0:\n",
    "                l1.append(i)\n",
    "        return l1\n",
    "    \n",
    "    def odd_num(self,l):\n",
    "        l2=[]\n",
    "        for i in l:\n",
    "            if i%2!=0:\n",
    "                l2.append(i)\n",
    "        return l2"
   ]
  },
  {
   "cell_type": "code",
   "execution_count": 33,
   "id": "72d6a188-89f4-4d8a-b778-4ce12fdb2fb8",
   "metadata": {},
   "outputs": [],
   "source": [
    "n=num()"
   ]
  },
  {
   "cell_type": "code",
   "execution_count": 34,
   "id": "82f51d83-1428-4b2d-bff5-48afefa3ebc2",
   "metadata": {},
   "outputs": [
    {
     "data": {
      "text/plain": [
       "[2, 4, 6]"
      ]
     },
     "execution_count": 34,
     "metadata": {},
     "output_type": "execute_result"
    }
   ],
   "source": [
    "n.even_num(n.l)"
   ]
  },
  {
   "cell_type": "code",
   "execution_count": 35,
   "id": "2576d2e2-fce4-40ea-a99d-7e373b34b8eb",
   "metadata": {},
   "outputs": [
    {
     "data": {
      "text/plain": [
       "[1, 3, 5]"
      ]
     },
     "execution_count": 35,
     "metadata": {},
     "output_type": "execute_result"
    }
   ],
   "source": [
    "n.odd_num(n.l)"
   ]
  },
  {
   "cell_type": "code",
   "execution_count": 36,
   "id": "a16954c9-58d4-4228-82a2-8ff6dfad4d09",
   "metadata": {},
   "outputs": [
    {
     "data": {
      "text/plain": [
       "[3, 5, 7]"
      ]
     },
     "execution_count": 36,
     "metadata": {},
     "output_type": "execute_result"
    }
   ],
   "source": [
    "# you can also check for any value \n",
    "n.odd_num([2,3,5,6,7,8])"
   ]
  },
  {
   "cell_type": "code",
   "execution_count": 37,
   "id": "43b52e5f-12d0-4054-a024-9fdae176cf21",
   "metadata": {},
   "outputs": [
    {
     "data": {
      "text/plain": [
       "[1, 2, 3, 4, 5, 6]"
      ]
     },
     "execution_count": 37,
     "metadata": {},
     "output_type": "execute_result"
    }
   ],
   "source": [
    "# above line we pass different data means different list but l value is fixed \n",
    "n.l"
   ]
  },
  {
   "cell_type": "code",
   "execution_count": 39,
   "id": "97b0ffb0-afe6-406c-9f01-bcec9b58f91e",
   "metadata": {},
   "outputs": [],
   "source": [
    "# you want to change the fixed list concept \n",
    "class num:\n",
    "    def __init__(self,l):  # this is magical function /dunder function \n",
    "        self.l=l\n",
    "    def even_num(self,l):\n",
    "        l1=[]\n",
    "        for i in l:\n",
    "            if i%2==0:\n",
    "                l1.append(i)\n",
    "        return l1\n",
    "    \n",
    "    def odd_num(self,l):\n",
    "        l2=[]\n",
    "        for i in l:\n",
    "            if i%2!=0:\n",
    "                l2.append(i)\n",
    "        return l2"
   ]
  },
  {
   "cell_type": "code",
   "execution_count": 41,
   "id": "61fb11e8-153e-4f78-b5e4-b1370bd5ee46",
   "metadata": {},
   "outputs": [
    {
     "ename": "TypeError",
     "evalue": "num.__init__() missing 1 required positional argument: 'l'",
     "output_type": "error",
     "traceback": [
      "\u001b[1;31m---------------------------------------------------------------------------\u001b[0m",
      "\u001b[1;31mTypeError\u001b[0m                                 Traceback (most recent call last)",
      "Cell \u001b[1;32mIn[41], line 1\u001b[0m\n\u001b[1;32m----> 1\u001b[0m oper\u001b[38;5;241m=\u001b[39mnum()\n",
      "\u001b[1;31mTypeError\u001b[0m: num.__init__() missing 1 required positional argument: 'l'"
     ]
    }
   ],
   "source": [
    "oper=num() # errors occurs because inside init function one positional argument present l .__init__() missing 1 required positional argument: 'l'\n"
   ]
  },
  {
   "cell_type": "code",
   "execution_count": 42,
   "id": "356bde1d-c1fc-4ff3-8dc6-eef69d3ee25e",
   "metadata": {},
   "outputs": [],
   "source": [
    "# to remove this type of error we use positional argument\n",
    "oper=num([2,3,6,7,8,10])\n"
   ]
  },
  {
   "cell_type": "code",
   "execution_count": 43,
   "id": "0623b3e3-47e1-416d-9a6b-5901a43d7ea0",
   "metadata": {},
   "outputs": [
    {
     "data": {
      "text/plain": [
       "[2, 3, 6, 7, 8, 10]"
      ]
     },
     "execution_count": 43,
     "metadata": {},
     "output_type": "execute_result"
    }
   ],
   "source": [
    "oper.l"
   ]
  },
  {
   "cell_type": "code",
   "execution_count": 45,
   "id": "2fc850ca-6d0c-444d-930f-d6560b90fa8c",
   "metadata": {},
   "outputs": [
    {
     "data": {
      "text/plain": [
       "[2, 6, 8, 10]"
      ]
     },
     "execution_count": 45,
     "metadata": {},
     "output_type": "execute_result"
    }
   ],
   "source": [
    "oper.even_num(oper.l)"
   ]
  },
  {
   "cell_type": "code",
   "execution_count": 46,
   "id": "61f6cf32-80fd-417f-96b2-9486a0dcb7bf",
   "metadata": {},
   "outputs": [
    {
     "data": {
      "text/plain": [
       "[3, 7]"
      ]
     },
     "execution_count": 46,
     "metadata": {},
     "output_type": "execute_result"
    }
   ],
   "source": [
    "oper.odd_num(oper.l)"
   ]
  },
  {
   "cell_type": "code",
   "execution_count": 47,
   "id": "033c7f59-c254-4999-9787-acc807998211",
   "metadata": {},
   "outputs": [],
   "source": [
    "# you can do the above problem in this way \n",
    "class num:\n",
    "    def __init__(self,l):  # this is magical function /dunder function \n",
    "        self.l=l\n",
    "    def even_num(self):\n",
    "        l=self.l\n",
    "        l1=[]\n",
    "        for i in l:\n",
    "            if i%2==0:\n",
    "                l1.append(i)\n",
    "        return l1\n",
    "    \n",
    "    def odd_num(self):\n",
    "        l=self.l\n",
    "        l2=[]\n",
    "        for i in l:\n",
    "            if i%2!=0:\n",
    "                l2.append(i)\n",
    "        return l2"
   ]
  },
  {
   "cell_type": "code",
   "execution_count": 49,
   "id": "e11ecc12-71a4-44bf-bf34-939152984517",
   "metadata": {},
   "outputs": [],
   "source": [
    "n=num([1,2,3,4,5,8])"
   ]
  },
  {
   "cell_type": "code",
   "execution_count": 50,
   "id": "e08d9c5f-9370-49c9-8d68-266c5d0a809c",
   "metadata": {},
   "outputs": [
    {
     "data": {
      "text/plain": [
       "[2, 4, 8]"
      ]
     },
     "execution_count": 50,
     "metadata": {},
     "output_type": "execute_result"
    }
   ],
   "source": [
    "n.even_num()"
   ]
  },
  {
   "cell_type": "code",
   "execution_count": 51,
   "id": "447525ff-cdbb-40e8-9238-0cae6cb50a76",
   "metadata": {},
   "outputs": [
    {
     "data": {
      "text/plain": [
       "[1, 3, 5]"
      ]
     },
     "execution_count": 51,
     "metadata": {},
     "output_type": "execute_result"
    }
   ],
   "source": [
    "n.odd_num()"
   ]
  },
  {
   "cell_type": "code",
   "execution_count": 1,
   "id": "e9841b6a-a474-4897-8f18-4434800564cd",
   "metadata": {},
   "outputs": [],
   "source": [
    "# multiple attribute\n",
    "class Book:\n",
    "    def __init__(self,name,author,tittle):\n",
    "        self.name_of_the_book=name\n",
    "        self.author_name=author\n",
    "        self.tittle_of_book=tittle\n",
    "    def extract_details_name_tittle(self):\n",
    "        print(\"name of the book is \",self.name_of_the_book)\n",
    "        print(\"tittle of the book is \",self.tittle_of_book)\n",
    "    def extract_details_name_authorname(self):\n",
    "        print(\"name of the book is \",self.name_of_the_book)\n",
    "        print(\"name of the author is \", self.author_name)\n",
    "        "
   ]
  },
  {
   "cell_type": "code",
   "execution_count": 2,
   "id": "81762c42-56a1-49d3-af90-a5189bb5e479",
   "metadata": {},
   "outputs": [],
   "source": [
    "student=Book(\"question bank\",\"dr.durbadol datta\",\"roy and martin\")"
   ]
  },
  {
   "cell_type": "code",
   "execution_count": 3,
   "id": "22982036-eb18-4326-9de7-2b6c1203116a",
   "metadata": {},
   "outputs": [
    {
     "data": {
      "text/plain": [
       "'dr.durbadol datta'"
      ]
     },
     "execution_count": 3,
     "metadata": {},
     "output_type": "execute_result"
    }
   ],
   "source": [
    "student.author_name"
   ]
  },
  {
   "cell_type": "code",
   "execution_count": 4,
   "id": "36666fd1-7237-48bb-897b-b65dd0b20f04",
   "metadata": {},
   "outputs": [
    {
     "name": "stdout",
     "output_type": "stream",
     "text": [
      "name of the book is  question bank\n",
      "name of the author is  dr.durbadol datta\n"
     ]
    }
   ],
   "source": [
    "student.extract_details_name_authorname()"
   ]
  },
  {
   "cell_type": "code",
   "execution_count": 5,
   "id": "098e3875-f267-4684-bf95-e77b373e0f3a",
   "metadata": {},
   "outputs": [
    {
     "name": "stdout",
     "output_type": "stream",
     "text": [
      "name of the book is  question bank\n",
      "tittle of the book is  roy and martin\n"
     ]
    }
   ],
   "source": [
    "student.extract_details_name_tittle()"
   ]
  },
  {
   "cell_type": "code",
   "execution_count": 6,
   "id": "c4452e24-21b3-4c0c-962a-c84380e91ac7",
   "metadata": {},
   "outputs": [
    {
     "data": {
      "text/plain": [
       "'question bank'"
      ]
     },
     "execution_count": 6,
     "metadata": {},
     "output_type": "execute_result"
    }
   ],
   "source": [
    "student.name_of_the_book"
   ]
  },
  {
   "cell_type": "code",
   "execution_count": 7,
   "id": "13541775-1195-4271-b9c0-e9af9789f359",
   "metadata": {},
   "outputs": [
    {
     "data": {
      "text/plain": [
       "'roy and martin'"
      ]
     },
     "execution_count": 7,
     "metadata": {},
     "output_type": "execute_result"
    }
   ],
   "source": [
    "student.tittle_of_book"
   ]
  },
  {
   "cell_type": "code",
   "execution_count": 8,
   "id": "122381b7-9285-437b-92c9-836936bcb579",
   "metadata": {},
   "outputs": [],
   "source": [
    "student2=Book(\"dsa\",\"joss\",\"Dsa learning\")"
   ]
  },
  {
   "cell_type": "code",
   "execution_count": 9,
   "id": "c9221631-a1f0-4611-9cf3-4e99f693b2f0",
   "metadata": {},
   "outputs": [
    {
     "name": "stdout",
     "output_type": "stream",
     "text": [
      "name of the book is  dsa\n",
      "name of the author is  joss\n"
     ]
    }
   ],
   "source": [
    "student2.extract_details_name_authorname()"
   ]
  },
  {
   "cell_type": "code",
   "execution_count": 10,
   "id": "7407100d-a618-4fd5-a037-e3423eb381b4",
   "metadata": {},
   "outputs": [],
   "source": [
    "# here we can see that In this process we can use various type of data means in this process data was not fixed"
   ]
  },
  {
   "cell_type": "code",
   "execution_count": 16,
   "id": "c48e2672-81d3-4c97-841f-2cc1e5fcf25f",
   "metadata": {},
   "outputs": [],
   "source": [
    "# multiple attribute\n",
    "# here try ->>> with fixed data\n",
    "class Book:\n",
    "    def __init__(self):\n",
    "        self.name_of_the_book=\" DSA\"\n",
    "        self.author_name= \"Cormen\"\n",
    "        self.tittle_of_book= \"DSA_Learning\"\n",
    "    def extract_details_name_tittle(self):\n",
    "        print(\"name of the book is \",self.name_of_the_book)\n",
    "        print(\"tittle of the book is \",self.tittle_of_book)\n",
    "    def extract_details_name_authorname(self):\n",
    "        print(\"name of the book is \",self.name_of_the_book)\n",
    "        print(\"name of the author is \", self.author_name)\n",
    "        "
   ]
  },
  {
   "cell_type": "code",
   "execution_count": 17,
   "id": "22fa7404-80dc-42bd-9c6d-520db253b9b9",
   "metadata": {},
   "outputs": [],
   "source": [
    "s2=Book()"
   ]
  },
  {
   "cell_type": "code",
   "execution_count": 18,
   "id": "2c290316-e393-410c-9790-fe885aa90ada",
   "metadata": {},
   "outputs": [
    {
     "name": "stdout",
     "output_type": "stream",
     "text": [
      "name of the book is   DSA\n",
      "name of the author is  Cormen\n"
     ]
    }
   ],
   "source": [
    "s2.extract_details_name_authorname()"
   ]
  },
  {
   "cell_type": "code",
   "execution_count": 19,
   "id": "527e6e30-26ad-4819-9b24-8120cebf6d05",
   "metadata": {},
   "outputs": [
    {
     "data": {
      "text/plain": [
       "'Cormen'"
      ]
     },
     "execution_count": 19,
     "metadata": {},
     "output_type": "execute_result"
    }
   ],
   "source": [
    "s2.author_name"
   ]
  },
  {
   "cell_type": "code",
   "execution_count": 20,
   "id": "068fc0f0-3e50-4686-abef-7ed3fb90069d",
   "metadata": {},
   "outputs": [
    {
     "name": "stdout",
     "output_type": "stream",
     "text": [
      "name of the book is   DSA\n",
      "tittle of the book is  DSA_Learning\n"
     ]
    }
   ],
   "source": [
    "s2.extract_details_name_tittle()"
   ]
  },
  {
   "cell_type": "code",
   "execution_count": 21,
   "id": "71dfa628-f24a-42d7-bafe-419de77fe17d",
   "metadata": {},
   "outputs": [
    {
     "data": {
      "text/plain": [
       "' DSA'"
      ]
     },
     "execution_count": 21,
     "metadata": {},
     "output_type": "execute_result"
    }
   ],
   "source": [
    "s2.name_of_the_book"
   ]
  },
  {
   "cell_type": "code",
   "execution_count": 22,
   "id": "66bc04de-a94a-4ce1-bbc0-cdd5361aea30",
   "metadata": {},
   "outputs": [
    {
     "data": {
      "text/plain": [
       "'DSA_Learning'"
      ]
     },
     "execution_count": 22,
     "metadata": {},
     "output_type": "execute_result"
    }
   ],
   "source": [
    "s2.tittle_of_book"
   ]
  },
  {
   "cell_type": "code",
   "execution_count": 23,
   "id": "301b4dc2-2915-4419-956b-bf64206f4893",
   "metadata": {},
   "outputs": [],
   "source": [
    "# above process value will be fixed that's why  we can not run above code with different values \n"
   ]
  },
  {
   "cell_type": "code",
   "execution_count": null,
   "id": "c17aa3ca-8cc4-4bd6-9b9e-175dfd26cd25",
   "metadata": {},
   "outputs": [],
   "source": []
  }
 ],
 "metadata": {
  "kernelspec": {
   "display_name": "Python 3 (ipykernel)",
   "language": "python",
   "name": "python3"
  },
  "language_info": {
   "codemirror_mode": {
    "name": "ipython",
    "version": 3
   },
   "file_extension": ".py",
   "mimetype": "text/x-python",
   "name": "python",
   "nbconvert_exporter": "python",
   "pygments_lexer": "ipython3",
   "version": "3.11.7"
  }
 },
 "nbformat": 4,
 "nbformat_minor": 5
}
