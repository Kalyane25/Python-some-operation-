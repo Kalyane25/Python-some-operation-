{
 "cells": [
  {
   "cell_type": "markdown",
   "id": "999da207-4c83-455b-ab2e-b8f94b88390a",
   "metadata": {},
   "source": [
    "## polymorphism and encapsulation "
   ]
  },
  {
   "cell_type": "code",
   "execution_count": 1,
   "id": "b71dcc20-d9c1-4017-99e0-7a9c2b5005c9",
   "metadata": {},
   "outputs": [],
   "source": [
    "# polymorphism: poly means many and morphism means forms/states.\n",
    "# refers to an object taking several forms depending on the methods /data."
   ]
  },
  {
   "cell_type": "code",
   "execution_count": 8,
   "id": "b7d58bbf-3acc-4d55-9f4b-7c3b94f6a9d1",
   "metadata": {},
   "outputs": [
    {
     "data": {
      "text/plain": [
       "4"
      ]
     },
     "execution_count": 8,
     "metadata": {},
     "output_type": "execute_result"
    }
   ],
   "source": [
    "# some observation \n",
    "len(\"ajay\")  # string"
   ]
  },
  {
   "cell_type": "code",
   "execution_count": 7,
   "id": "d115883a-c371-4533-9523-1baba64a574d",
   "metadata": {},
   "outputs": [
    {
     "data": {
      "text/plain": [
       "5"
      ]
     },
     "execution_count": 7,
     "metadata": {},
     "output_type": "execute_result"
    }
   ],
   "source": [
    "len([1,2,3,4,5])  # list"
   ]
  },
  {
   "cell_type": "code",
   "execution_count": 6,
   "id": "54881661-d1e4-455d-94b0-377fba3b7314",
   "metadata": {},
   "outputs": [
    {
     "data": {
      "text/plain": [
       "3"
      ]
     },
     "execution_count": 6,
     "metadata": {},
     "output_type": "execute_result"
    }
   ],
   "source": [
    "len((1,2,3)) # tuple "
   ]
  },
  {
   "cell_type": "code",
   "execution_count": 9,
   "id": "22df61cf-051c-442e-9748-26932590c8a5",
   "metadata": {},
   "outputs": [],
   "source": [
    "# above observation we can see that len function do the same work for different types of forms (means one time for string,one time for list ,or tuple)\n"
   ]
  },
  {
   "cell_type": "code",
   "execution_count": 10,
   "id": "030a0c98-0258-4b67-8fc4-a94cfe278834",
   "metadata": {},
   "outputs": [],
   "source": [
    "# another ex:\n",
    "def addi(a,b):\n",
    "    return a+b"
   ]
  },
  {
   "cell_type": "code",
   "execution_count": 11,
   "id": "8b68421f-b167-4ac7-87c4-fc4c1c217d95",
   "metadata": {},
   "outputs": [
    {
     "data": {
      "text/plain": [
       "6"
      ]
     },
     "execution_count": 11,
     "metadata": {},
     "output_type": "execute_result"
    }
   ],
   "source": [
    "addi(2,4)  # here + is work for addition \n"
   ]
  },
  {
   "cell_type": "code",
   "execution_count": 13,
   "id": "9d548e04-6fe4-46e0-b70f-fd9d20e7ef4b",
   "metadata": {},
   "outputs": [
    {
     "data": {
      "text/plain": [
       "'pwskills'"
      ]
     },
     "execution_count": 13,
     "metadata": {},
     "output_type": "execute_result"
    }
   ],
   "source": [
    "addi(\"pw\",\"skills\")  # here '+' is work for stringconcatenation"
   ]
  },
  {
   "cell_type": "code",
   "execution_count": 14,
   "id": "7fb848cc-92a0-4f13-8015-60c7315f7b58",
   "metadata": {},
   "outputs": [
    {
     "data": {
      "text/plain": [
       "[1, 2, 3, 4, 5, 6]"
      ]
     },
     "execution_count": 14,
     "metadata": {},
     "output_type": "execute_result"
    }
   ],
   "source": [
    "addi([1,2,3],[4,5,6]) # here '+'is work for list concatenation "
   ]
  },
  {
   "cell_type": "code",
   "execution_count": 15,
   "id": "49e50500-8651-4940-86bd-851d20955268",
   "metadata": {},
   "outputs": [],
   "source": [
    "# observation : function 'addi()' is taking different forms  with respect to different data pases"
   ]
  },
  {
   "cell_type": "code",
   "execution_count": 16,
   "id": "32a43ac2-04e4-4ec4-9f3d-823ef1093658",
   "metadata": {},
   "outputs": [],
   "source": [
    "#ex:\n",
    "class Teacher_lecture:\n",
    "    def lec_info(self):\n",
    "        print(\"this is lec_info with teacher perspective\")\n",
    "class Student_lecture:\n",
    "    def lec_info(self):\n",
    "        print(\"this is lec_info with student perspective\")        "
   ]
  },
  {
   "cell_type": "code",
   "execution_count": 17,
   "id": "47ca4392-c011-4231-bd6f-2f045d0c99bb",
   "metadata": {},
   "outputs": [],
   "source": [
    "obj1=Teacher_lecture()\n",
    "obj2=Student_lecture()\n",
    "class_obj=[obj1,obj2]\n"
   ]
  },
  {
   "cell_type": "code",
   "execution_count": 22,
   "id": "a413c521-4394-4e8f-add2-956ac2adb83d",
   "metadata": {},
   "outputs": [],
   "source": [
    "def parcer(class_obj):\n",
    "    for i in class_obj:\n",
    "        i.lec_info()  # at this point len_info is taking two forms wrt teacher and student\n",
    "    "
   ]
  },
  {
   "cell_type": "code",
   "execution_count": 23,
   "id": "ffc49cc5-8439-448c-b55d-8a3bff38e788",
   "metadata": {},
   "outputs": [
    {
     "name": "stdout",
     "output_type": "stream",
     "text": [
      "this is lec_info with teacher perspective\n",
      "this is lec_info with student perspective\n"
     ]
    }
   ],
   "source": [
    "parcer(class_obj)"
   ]
  },
  {
   "cell_type": "code",
   "execution_count": 24,
   "id": "b9a47839-e2cb-4a0b-a915-2cd87c7615a3",
   "metadata": {},
   "outputs": [],
   "source": [
    "# polymorphism in opps takes place in two ways\n",
    "# 1.method overriding\n",
    "# 2.method overloading  # python does not support the true method overloading "
   ]
  },
  {
   "cell_type": "code",
   "execution_count": 2,
   "id": "47caeee3-b051-4218-b288-006c777c21dd",
   "metadata": {},
   "outputs": [],
   "source": [
    "# ex:\n",
    "class Student:\n",
    "    def student(self):\n",
    "        print(\"welcome to pwskills\")\n",
    "    def student(self,name=\" \"):\n",
    "        print(\"welcome to pwskills\",name)\n",
    "    def student(self ,name=\" \",course=\" \"):\n",
    "        print(\"welcome to pwskills \",name,course)"
   ]
  },
  {
   "cell_type": "code",
   "execution_count": 3,
   "id": "4f9921ec-07ce-46b8-a9c0-fde16fa25075",
   "metadata": {},
   "outputs": [],
   "source": [
    "s1=Student()"
   ]
  },
  {
   "cell_type": "code",
   "execution_count": 4,
   "id": "55d22a60-ad46-4ef8-b485-887907671a21",
   "metadata": {},
   "outputs": [
    {
     "name": "stdout",
     "output_type": "stream",
     "text": [
      "welcome to pwskills  ram ds\n"
     ]
    }
   ],
   "source": [
    "s1.student(\"ram\",\"ds\")"
   ]
  },
  {
   "cell_type": "code",
   "execution_count": 5,
   "id": "04822b46-54d8-4550-8262-2eea02ba9659",
   "metadata": {},
   "outputs": [
    {
     "name": "stdout",
     "output_type": "stream",
     "text": [
      "welcome to pwskills  ram  \n"
     ]
    }
   ],
   "source": [
    "s1.student(\"ram\")"
   ]
  },
  {
   "cell_type": "code",
   "execution_count": 6,
   "id": "230608e2-3238-430f-b619-9ae5082e7ca8",
   "metadata": {},
   "outputs": [
    {
     "name": "stdout",
     "output_type": "stream",
     "text": [
      "welcome to pwskills     \n"
     ]
    }
   ],
   "source": [
    "s1.student()"
   ]
  },
  {
   "cell_type": "code",
   "execution_count": 7,
   "id": "0cfd9946-339a-49d8-a21f-f4a0c750f475",
   "metadata": {},
   "outputs": [],
   "source": [
    "class Student:\n",
    "    def student(self ,name=\" \",course=\" \"):\n",
    "        print(\"welcome to pwskills \",name,course)"
   ]
  },
  {
   "cell_type": "code",
   "execution_count": 8,
   "id": "e9adf397-deff-4ca2-b698-9b2f4dcce0fb",
   "metadata": {},
   "outputs": [],
   "source": [
    "s2=Student()"
   ]
  },
  {
   "cell_type": "code",
   "execution_count": 9,
   "id": "27525de0-b469-4db3-80a4-fa90858bfa7b",
   "metadata": {},
   "outputs": [
    {
     "name": "stdout",
     "output_type": "stream",
     "text": [
      "welcome to pwskills     \n"
     ]
    }
   ],
   "source": [
    "s2.student()"
   ]
  },
  {
   "cell_type": "code",
   "execution_count": 11,
   "id": "4a44e960-08c8-4452-b0bc-753d2ff14e57",
   "metadata": {},
   "outputs": [
    {
     "name": "stdout",
     "output_type": "stream",
     "text": [
      "welcome to pwskills  niki  \n"
     ]
    }
   ],
   "source": [
    "s2.student(\"niki\")"
   ]
  },
  {
   "cell_type": "code",
   "execution_count": 12,
   "id": "c4e62ae0-77d1-4318-8af5-a2ae662ec280",
   "metadata": {},
   "outputs": [
    {
     "name": "stdout",
     "output_type": "stream",
     "text": [
      "welcome to pwskills  niki ds\n"
     ]
    }
   ],
   "source": [
    "s2.student(\"niki\",\"ds\")"
   ]
  },
  {
   "cell_type": "code",
   "execution_count": 13,
   "id": "e25c4cd7-5687-4cf0-affe-9d54bcdebd25",
   "metadata": {},
   "outputs": [],
   "source": [
    "# method overloading happens inside the same class but method overriding happens different class "
   ]
  },
  {
   "cell_type": "code",
   "execution_count": 14,
   "id": "559c080b-8c6d-4aad-9772-5518a430ee25",
   "metadata": {},
   "outputs": [],
   "source": [
    "# method overriding: method of parent class and child class with same signature,child class method will be executed .\n",
    "# ex:\n",
    "class Animal:\n",
    "    def sound(self):\n",
    "        print(\"this is animals sound\")\n",
    "class Cat(Animal):\n",
    "    def sound(self):\n",
    "        print(\"this is cats sound\")\n",
    "    "
   ]
  },
  {
   "cell_type": "code",
   "execution_count": 15,
   "id": "f551fdfa-c317-4ce7-84fd-bdce6812477b",
   "metadata": {},
   "outputs": [
    {
     "name": "stdout",
     "output_type": "stream",
     "text": [
      "this is cats sound\n"
     ]
    }
   ],
   "source": [
    "c1=Cat()\n",
    "c1.sound()"
   ]
  },
  {
   "cell_type": "markdown",
   "id": "262734d5-f400-45fc-b080-3878f03b6018",
   "metadata": {},
   "source": [
    "## Encapsulation :"
   ]
  },
  {
   "cell_type": "code",
   "execution_count": 17,
   "id": "aa6300d5-0629-46ed-8b47-1eaad67dc925",
   "metadata": {},
   "outputs": [],
   "source": [
    "# encapsulation :means hiding something,or binding of data and method of a class\n",
    "# access modifier: public,private,protected ."
   ]
  },
  {
   "cell_type": "code",
   "execution_count": 24,
   "id": "fb68671c-7d6f-4116-aa87-6749010cd584",
   "metadata": {},
   "outputs": [],
   "source": [
    "# public: accessable from anywhere means outside /inside of class"
   ]
  },
  {
   "cell_type": "code",
   "execution_count": 18,
   "id": "c8fc7659-6bda-4748-a0a5-703f69d0e764",
   "metadata": {},
   "outputs": [],
   "source": [
    "class Student:\n",
    "    def __init__(self,name,degree):\n",
    "        self.name=name\n",
    "        self.degree=degree"
   ]
  },
  {
   "cell_type": "code",
   "execution_count": 19,
   "id": "3d0c9515-247f-4b42-936f-f6bde5816250",
   "metadata": {},
   "outputs": [],
   "source": [
    "stu=Student(\"ram\",\"ms\")"
   ]
  },
  {
   "cell_type": "code",
   "execution_count": 20,
   "id": "73f147ab-3bbb-4f90-a8ab-13031eaeffd0",
   "metadata": {},
   "outputs": [
    {
     "data": {
      "text/plain": [
       "'ms'"
      ]
     },
     "execution_count": 20,
     "metadata": {},
     "output_type": "execute_result"
    }
   ],
   "source": [
    "stu.degree"
   ]
  },
  {
   "cell_type": "code",
   "execution_count": 21,
   "id": "e6d32b2b-c560-4545-8b27-517d98c0ffd2",
   "metadata": {},
   "outputs": [
    {
     "data": {
      "text/plain": [
       "'ram'"
      ]
     },
     "execution_count": 21,
     "metadata": {},
     "output_type": "execute_result"
    }
   ],
   "source": [
    "stu.name"
   ]
  },
  {
   "cell_type": "code",
   "execution_count": 23,
   "id": "dd908e6f-e13c-4ac7-8488-3c24069c1ed0",
   "metadata": {},
   "outputs": [
    {
     "data": {
      "text/plain": [
       "'rabi'"
      ]
     },
     "execution_count": 23,
     "metadata": {},
     "output_type": "execute_result"
    }
   ],
   "source": [
    "stu1=Student(\"sam\",\"ds\")\n",
    "stu1.name=\"rabi\"\n",
    "stu1.name  # here inside object name is sam but outside we change the name sam to rabi and it has changed because  method is in public mode "
   ]
  },
  {
   "cell_type": "code",
   "execution_count": 1,
   "id": "5350f399-c04b-41a1-9322-98ef8a3dafb9",
   "metadata": {},
   "outputs": [],
   "source": [
    "class Student:\n",
    "    def __init__(self,name,degree):\n",
    "        self.name=name\n",
    "        self.degree=degree\n",
    "    def show(self):\n",
    "        print(\"name\",self.name,\"degree\",self.degree)"
   ]
  },
  {
   "cell_type": "code",
   "execution_count": 2,
   "id": "7d9b7794-7334-42cf-a26f-4f3412ba1370",
   "metadata": {},
   "outputs": [],
   "source": [
    "stu=Student(\"ram\",\"ms\") # here acccess the data ans method inside same class"
   ]
  },
  {
   "cell_type": "code",
   "execution_count": 3,
   "id": "65d24f34-9797-400e-941e-174674514632",
   "metadata": {},
   "outputs": [
    {
     "data": {
      "text/plain": [
       "'ms'"
      ]
     },
     "execution_count": 3,
     "metadata": {},
     "output_type": "execute_result"
    }
   ],
   "source": [
    "stu.degree"
   ]
  },
  {
   "cell_type": "code",
   "execution_count": 4,
   "id": "404681cc-e224-4882-9244-3481736c3112",
   "metadata": {},
   "outputs": [
    {
     "data": {
      "text/plain": [
       "'ram'"
      ]
     },
     "execution_count": 4,
     "metadata": {},
     "output_type": "execute_result"
    }
   ],
   "source": [
    "stu.name"
   ]
  },
  {
   "cell_type": "code",
   "execution_count": 5,
   "id": "2ab09fc2-c1a7-41b4-8e3d-e5b66094bbdc",
   "metadata": {},
   "outputs": [
    {
     "name": "stdout",
     "output_type": "stream",
     "text": [
      "name ram degree ms\n"
     ]
    }
   ],
   "source": [
    "stu.show()"
   ]
  },
  {
   "cell_type": "code",
   "execution_count": 25,
   "id": "0383208a-416b-4d77-b386-ddc620c5f9db",
   "metadata": {},
   "outputs": [],
   "source": [
    "# private : data and method is only accessable within its class.use __to make private"
   ]
  },
  {
   "cell_type": "code",
   "execution_count": 10,
   "id": "d050d7d2-b937-4f65-a84c-c538f853879f",
   "metadata": {},
   "outputs": [],
   "source": [
    "class Student:\n",
    "    def __init__(self,name,degree):\n",
    "        self.name=name     # here name is public \n",
    "        self.__degree=degree  # we have set the degree as private thats why we use __\n",
    "    def show(self):\n",
    "        print(\"name\",self.name,\"degree\",self.__degree)"
   ]
  },
  {
   "cell_type": "code",
   "execution_count": 12,
   "id": "b03cd48e-9c65-4d4e-a56e-8063ddb6ac08",
   "metadata": {},
   "outputs": [],
   "source": [
    "st=Student(\"ram\",\"ms\")"
   ]
  },
  {
   "cell_type": "code",
   "execution_count": 8,
   "id": "57d8cc72-64ce-4a2d-b8fb-bc20b11d3617",
   "metadata": {},
   "outputs": [
    {
     "data": {
      "text/plain": [
       "'ram'"
      ]
     },
     "execution_count": 8,
     "metadata": {},
     "output_type": "execute_result"
    }
   ],
   "source": [
    "st.name"
   ]
  },
  {
   "cell_type": "code",
   "execution_count": 13,
   "id": "49bbfc4d-9723-432d-811a-ac55428a728b",
   "metadata": {},
   "outputs": [
    {
     "name": "stdout",
     "output_type": "stream",
     "text": [
      "name ram degree ms\n"
     ]
    }
   ],
   "source": [
    "# here whe we press the tag we can not see the degree because degrew is private mode ,we cannot acess it anywhere \n",
    "st.show()"
   ]
  },
  {
   "cell_type": "code",
   "execution_count": 14,
   "id": "bacda27e-ccb1-4b87-bb37-33589a8ac752",
   "metadata": {},
   "outputs": [
    {
     "data": {
      "text/plain": [
       "'ms'"
      ]
     },
     "execution_count": 14,
     "metadata": {},
     "output_type": "execute_result"
    }
   ],
   "source": [
    "# if you want to acess the private attribute of the class then syntax: object_name._(single underscore)class_name__(double underscore)private element name\n",
    "# we want to acess the above ex's private attribute degree \n",
    "st._Student__degree"
   ]
  },
  {
   "cell_type": "code",
   "execution_count": 16,
   "id": "26947a50-c822-4473-aac7-3907476bfb29",
   "metadata": {},
   "outputs": [],
   "source": [
    "# a method as private \n",
    "class Student:\n",
    "    def __init__(self,name,degree):\n",
    "        self.name=name     # here name is public \n",
    "        self.__degree=degree  # we have set the degree as private thats why we use __\n",
    "    def show(self):\n",
    "        print(\"name\",self.name,\"degree\",self.__degree)\n",
    "    def __private_method(self):\n",
    "        print(\"this is a private method\")"
   ]
  },
  {
   "cell_type": "code",
   "execution_count": 17,
   "id": "f3ecbd57-8748-4449-b86b-c097eaba812c",
   "metadata": {},
   "outputs": [],
   "source": [
    "st1=Student(\"kalyan\",\"data science\")"
   ]
  },
  {
   "cell_type": "code",
   "execution_count": 19,
   "id": "a4be6c4b-d546-410e-bdfa-19f9fa43d42c",
   "metadata": {},
   "outputs": [
    {
     "data": {
      "text/plain": [
       "'kalyan'"
      ]
     },
     "execution_count": 19,
     "metadata": {},
     "output_type": "execute_result"
    }
   ],
   "source": [
    "st1.name"
   ]
  },
  {
   "cell_type": "code",
   "execution_count": 20,
   "id": "b7414c00-7649-4e32-b2a5-5d7bbc66ab80",
   "metadata": {},
   "outputs": [
    {
     "name": "stdout",
     "output_type": "stream",
     "text": [
      "name kalyan degree data science\n"
     ]
    }
   ],
   "source": [
    "st1.show()"
   ]
  },
  {
   "cell_type": "code",
   "execution_count": 22,
   "id": "c66c22cc-3969-4396-b6ae-82898a1cf9ae",
   "metadata": {},
   "outputs": [
    {
     "name": "stdout",
     "output_type": "stream",
     "text": [
      "this is a private method\n"
     ]
    }
   ],
   "source": [
    "st1._Student__private_method() # same way we can access the private method \n",
    "# syntax:object_name._(single underscore)class_name__(double underscore)private method name"
   ]
  },
  {
   "cell_type": "code",
   "execution_count": 29,
   "id": "7d5333a9-828b-46d0-b7d8-85a31d62611c",
   "metadata": {},
   "outputs": [],
   "source": [
    "# we may acess the private method inside function \n",
    "class Student:\n",
    "    def __init__(self,name,degree):\n",
    "        self.__name=name     # here name is public \n",
    "        self.__degree=degree  # we have set the degree as private thats why we use __\n",
    "    def show(self):\n",
    "        print(\"name\",self.__name,\"degree\",self.__degree)\n",
    "    def __private_method(self):\n",
    "        print(\"this is a private method\")\n",
    "    def acess_the_private_method(self):   # this method id public but inside this ,the method is private\n",
    "        self.__private_method()\n",
    "\n"
   ]
  },
  {
   "cell_type": "code",
   "execution_count": 30,
   "id": "e5f73da2-d5ca-49dc-aae6-167c969ebb0f",
   "metadata": {},
   "outputs": [],
   "source": [
    "stud=Student(\"ram\",\"data science\")"
   ]
  },
  {
   "cell_type": "code",
   "execution_count": 31,
   "id": "8e952651-32b9-4d2c-8a55-568e25f8d24c",
   "metadata": {},
   "outputs": [
    {
     "name": "stdout",
     "output_type": "stream",
     "text": [
      "this is a private method\n"
     ]
    }
   ],
   "source": [
    "stud.acess_the_private_method()"
   ]
  },
  {
   "cell_type": "code",
   "execution_count": 32,
   "id": "f1029e7e-925d-43cb-953f-14e520038482",
   "metadata": {},
   "outputs": [
    {
     "name": "stdout",
     "output_type": "stream",
     "text": [
      "name ram degree data science\n"
     ]
    }
   ],
   "source": [
    "stud.show()"
   ]
  },
  {
   "cell_type": "code",
   "execution_count": 52,
   "id": "54a1555d-a616-4f76-a716-b604a51878a3",
   "metadata": {},
   "outputs": [],
   "source": [
    "# another usecase\n",
    "class Car:\n",
    "    def __init__(self,year,make,speed,model):\n",
    "        self.__year=year\n",
    "        self.__make=make\n",
    "        self.__speed=speed\n",
    "        self.__model=model  # here all the attribute are private \n",
    "    def __show_attribute(self):\n",
    "        print(\"year is :\",self.__year)\n",
    "        print(\"make is :\",self.__make)\n",
    "        print(\"speed is :\",self.__speed)\n",
    "        print(\"model is :\",self.__model)\n",
    "    def access_all(self):\n",
    "        self.__show_attribute()\n",
    "    def set_speed(self,speed):\n",
    "        self.__speed=0 if speed<0 else speed\n",
    "    def get_speed(self):\n",
    "        return self.__speed"
   ]
  },
  {
   "cell_type": "code",
   "execution_count": 55,
   "id": "4769533e-1b39-4830-9ccb-97489ad6bb9b",
   "metadata": {},
   "outputs": [],
   "source": [
    "c1=Car(1995,\"Maruti\",80,\"brezza\")"
   ]
  },
  {
   "cell_type": "code",
   "execution_count": 56,
   "id": "4ffa6482-7dd1-47e4-951b-5be9dd893dbd",
   "metadata": {},
   "outputs": [
    {
     "name": "stdout",
     "output_type": "stream",
     "text": [
      "year is : 1995\n",
      "make is : Maruti\n",
      "speed is : 80\n",
      "model is : brezza\n"
     ]
    }
   ],
   "source": [
    "c1.access_all()"
   ]
  },
  {
   "cell_type": "code",
   "execution_count": 58,
   "id": "8dd39b31-aa8a-4494-8855-cd1c3ab6cd1a",
   "metadata": {},
   "outputs": [],
   "source": [
    "c1.set_speed(-100)"
   ]
  },
  {
   "cell_type": "code",
   "execution_count": 59,
   "id": "e7b03de2-426b-4b2f-b4fe-cff3e083e56c",
   "metadata": {},
   "outputs": [
    {
     "data": {
      "text/plain": [
       "0"
      ]
     },
     "execution_count": 59,
     "metadata": {},
     "output_type": "execute_result"
    }
   ],
   "source": [
    "c1.get_speed()"
   ]
  },
  {
   "cell_type": "code",
   "execution_count": 60,
   "id": "7f1375c6-cdfb-4387-b4fc-316f302d18f2",
   "metadata": {},
   "outputs": [],
   "source": [
    "c1.set_speed(100)"
   ]
  },
  {
   "cell_type": "code",
   "execution_count": 61,
   "id": "73788ece-30d2-4202-b6f2-178a89e5901a",
   "metadata": {},
   "outputs": [
    {
     "data": {
      "text/plain": [
       "100"
      ]
     },
     "execution_count": 61,
     "metadata": {},
     "output_type": "execute_result"
    }
   ],
   "source": [
    "c1.get_speed()"
   ]
  },
  {
   "cell_type": "code",
   "execution_count": 64,
   "id": "b8bd79f4-018a-4fb7-b0ff-1fccb2f5cbd8",
   "metadata": {},
   "outputs": [],
   "source": [
    "# another usecase:\n",
    "class Bank:\n",
    "    def __init__(self,balance):\n",
    "        self.__balance=balance\n",
    "    def deposite(self,amount):\n",
    "        self.__balance=self.__balance+amount\n",
    "    def withdraw(self,amount):\n",
    "         if self.__balance>=amount:\n",
    "            self.__balance=self.__balance-amount\n",
    "            return True\n",
    "         else:\n",
    "             return False\n",
    "    def get_balance(self):\n",
    "        return self.__balance\n",
    "\n",
    "        "
   ]
  },
  {
   "cell_type": "code",
   "execution_count": 65,
   "id": "f6f4e7cf-1cf0-4d09-b102-6bcfe0abbd40",
   "metadata": {},
   "outputs": [],
   "source": [
    "acc1=Bank(1000)"
   ]
  },
  {
   "cell_type": "code",
   "execution_count": 66,
   "id": "04d35f8d-7a7e-4ec7-83d7-b8ab90fe9ce3",
   "metadata": {},
   "outputs": [
    {
     "data": {
      "text/plain": [
       "1000"
      ]
     },
     "execution_count": 66,
     "metadata": {},
     "output_type": "execute_result"
    }
   ],
   "source": [
    "acc1.get_balance()"
   ]
  },
  {
   "cell_type": "code",
   "execution_count": 67,
   "id": "2d218229-f852-4caa-b352-30f318b5ae1f",
   "metadata": {},
   "outputs": [],
   "source": [
    "acc1.deposite(10000)"
   ]
  },
  {
   "cell_type": "code",
   "execution_count": 68,
   "id": "03713623-41c8-4333-948c-cf7b117c75d0",
   "metadata": {},
   "outputs": [
    {
     "data": {
      "text/plain": [
       "11000"
      ]
     },
     "execution_count": 68,
     "metadata": {},
     "output_type": "execute_result"
    }
   ],
   "source": [
    "acc1.get_balance()"
   ]
  },
  {
   "cell_type": "code",
   "execution_count": 69,
   "id": "5132490b-cba7-4041-affe-1cad40386fa7",
   "metadata": {},
   "outputs": [
    {
     "data": {
      "text/plain": [
       "True"
      ]
     },
     "execution_count": 69,
     "metadata": {},
     "output_type": "execute_result"
    }
   ],
   "source": [
    "acc1.withdraw(1000)"
   ]
  },
  {
   "cell_type": "code",
   "execution_count": 70,
   "id": "47ace059-a9ba-49c9-94bd-a2fbd45ea0be",
   "metadata": {},
   "outputs": [
    {
     "data": {
      "text/plain": [
       "10000"
      ]
     },
     "execution_count": 70,
     "metadata": {},
     "output_type": "execute_result"
    }
   ],
   "source": [
    "acc1.get_balance()"
   ]
  },
  {
   "cell_type": "code",
   "execution_count": 72,
   "id": "6deaa6df-2d0d-400c-92a8-3b9c2034af2c",
   "metadata": {},
   "outputs": [
    {
     "data": {
      "text/plain": [
       "False"
      ]
     },
     "execution_count": 72,
     "metadata": {},
     "output_type": "execute_result"
    }
   ],
   "source": [
    "acc1.withdraw(15000) # itna money nehi he "
   ]
  },
  {
   "cell_type": "code",
   "execution_count": 84,
   "id": "5f35261e-1b45-4280-a976-5e1c55c0b361",
   "metadata": {},
   "outputs": [],
   "source": [
    "# protected:within the class and its subclass protected member cam be accessed ,(_)\n",
    "class College:\n",
    "    def __init__(self):\n",
    "        self._college_name=\"pwskills\"\n",
    "class Student(College):\n",
    "    def __init__(self,name):\n",
    "        self.name=name\n",
    "        College.__init__(self) # accessing variable of base class >> class_name.init method\n",
    "    def show(self):\n",
    "        print(\"name : \",self.name,\"\\ncollege_name :\",self._college_name)"
   ]
  },
  {
   "cell_type": "code",
   "execution_count": 85,
   "id": "9b2d1f02-c0ee-419e-9dc9-facb8f002b94",
   "metadata": {},
   "outputs": [],
   "source": [
    "obj= Student(\"ajay\")"
   ]
  },
  {
   "cell_type": "code",
   "execution_count": 79,
   "id": "56344177-5f5e-4382-bed9-b9717327c1b0",
   "metadata": {},
   "outputs": [
    {
     "data": {
      "text/plain": [
       "'ajay'"
      ]
     },
     "execution_count": 79,
     "metadata": {},
     "output_type": "execute_result"
    }
   ],
   "source": [
    "obj.name"
   ]
  },
  {
   "cell_type": "code",
   "execution_count": 86,
   "id": "dd89acc3-8258-4e6c-9fdd-de6927dc2b04",
   "metadata": {},
   "outputs": [
    {
     "name": "stdout",
     "output_type": "stream",
     "text": [
      "name :  ajay \n",
      "college_name : pwskills\n"
     ]
    }
   ],
   "source": [
    "obj.show()"
   ]
  },
  {
   "cell_type": "code",
   "execution_count": 87,
   "id": "809abdc3-ed70-446c-82ad-04fb8e0074b9",
   "metadata": {},
   "outputs": [],
   "source": [
    "coll=College()"
   ]
  },
  {
   "cell_type": "code",
   "execution_count": 89,
   "id": "678c6d72-eff8-4aa9-89df-845d0d32f091",
   "metadata": {},
   "outputs": [
    {
     "data": {
      "text/plain": [
       "'pwskills'"
      ]
     },
     "execution_count": 89,
     "metadata": {},
     "output_type": "execute_result"
    }
   ],
   "source": [
    "coll._college_name"
   ]
  },
  {
   "cell_type": "code",
   "execution_count": 93,
   "id": "1751578f-119a-42fb-88ed-1037b7f9e8c0",
   "metadata": {},
   "outputs": [],
   "source": [
    "# another way \n",
    "# using super()\n",
    "class College:\n",
    "    def __init__(self):\n",
    "        self._college_name=\"pwskills\"\n",
    "class Student(College):\n",
    "    def __init__(self,name):\n",
    "        self.name=name\n",
    "        super().__init__() # when use super then remove self \n",
    "    def show(self):\n",
    "        print(\"name : \",self.name,\"\\ncollege_name :\",self._college_name)"
   ]
  },
  {
   "cell_type": "code",
   "execution_count": 94,
   "id": "0db567d7-71c7-4cf5-aabe-374a3aeaea65",
   "metadata": {},
   "outputs": [],
   "source": [
    "obj1= Student(\"ajay\")"
   ]
  },
  {
   "cell_type": "code",
   "execution_count": 95,
   "id": "0c7d3c5c-a09f-441c-a648-9fb0856d4b18",
   "metadata": {},
   "outputs": [
    {
     "name": "stdout",
     "output_type": "stream",
     "text": [
      "name :  ajay \n",
      "college_name : pwskills\n"
     ]
    }
   ],
   "source": [
    "obj1.show()"
   ]
  },
  {
   "cell_type": "code",
   "execution_count": 96,
   "id": "504befa6-83c4-4dd2-bd89-58c90289d5ef",
   "metadata": {},
   "outputs": [
    {
     "data": {
      "text/plain": [
       "'ajay'"
      ]
     },
     "execution_count": 96,
     "metadata": {},
     "output_type": "execute_result"
    }
   ],
   "source": [
    "  obj1.name"
   ]
  },
  {
   "cell_type": "code",
   "execution_count": null,
   "id": "3640c0fc-acab-4b83-b4eb-fad1a91601ce",
   "metadata": {},
   "outputs": [],
   "source": []
  }
 ],
 "metadata": {
  "kernelspec": {
   "display_name": "Python 3 (ipykernel)",
   "language": "python",
   "name": "python3"
  },
  "language_info": {
   "codemirror_mode": {
    "name": "ipython",
    "version": 3
   },
   "file_extension": ".py",
   "mimetype": "text/x-python",
   "name": "python",
   "nbconvert_exporter": "python",
   "pygments_lexer": "ipython3",
   "version": "3.11.7"
  }
 },
 "nbformat": 4,
 "nbformat_minor": 5
}
