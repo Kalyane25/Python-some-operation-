{
 "cells": [
  {
   "cell_type": "markdown",
   "id": "adf9c4d1-8b87-456c-8ff8-eb81225cc44b",
   "metadata": {},
   "source": [
    "##  Create a 3x3 NumPy array with random integers between 1 and 100. Then, interchange its rows and columns."
   ]
  },
  {
   "cell_type": "code",
   "execution_count": 1,
   "id": "22bb23f8-504a-49a8-9be1-4310d863f424",
   "metadata": {},
   "outputs": [],
   "source": [
    "import numpy as np\n",
    "a=np.random.randint(1,100,(3,3))"
   ]
  },
  {
   "cell_type": "code",
   "execution_count": 2,
   "id": "98a6c2eb-1cf9-47dd-85bc-3979db05ea56",
   "metadata": {},
   "outputs": [
    {
     "data": {
      "text/plain": [
       "array([[91, 54, 12],\n",
       "       [94, 95, 79],\n",
       "       [ 7, 61, 70]])"
      ]
     },
     "execution_count": 2,
     "metadata": {},
     "output_type": "execute_result"
    }
   ],
   "source": [
    "a"
   ]
  },
  {
   "cell_type": "code",
   "execution_count": 8,
   "id": "7e0c6741-f7a9-474d-8c65-4bc426ade541",
   "metadata": {},
   "outputs": [
    {
     "data": {
      "text/plain": [
       "array([[91, 94,  7],\n",
       "       [54, 95, 61],\n",
       "       [12, 79, 70]])"
      ]
     },
     "execution_count": 8,
     "metadata": {},
     "output_type": "execute_result"
    }
   ],
   "source": [
    "# interchange means transpose \n",
    "a.T"
   ]
  },
  {
   "cell_type": "code",
   "execution_count": 9,
   "id": "6e28ec07-6c8c-4bbb-bbab-193c009efd71",
   "metadata": {},
   "outputs": [
    {
     "data": {
      "text/plain": [
       "array([[ 7, 61, 70],\n",
       "       [94, 95, 79],\n",
       "       [91, 54, 12]])"
      ]
     },
     "execution_count": 9,
     "metadata": {},
     "output_type": "execute_result"
    }
   ],
   "source": [
    "a[::-1]"
   ]
  },
  {
   "cell_type": "markdown",
   "id": "1743a0be-9aa2-4b12-8fd3-0bf02feac101",
   "metadata": {},
   "source": [
    "## 2.Generate a 1D NumPy array with 10 elements. Reshape it into a 2x5 array, then into a 5x2 array."
   ]
  },
  {
   "cell_type": "code",
   "execution_count": 10,
   "id": "b17a1e72-b7ab-48ad-9656-80cf9833738e",
   "metadata": {},
   "outputs": [
    {
     "data": {
      "text/plain": [
       "array([ 1,  2,  3,  4,  5,  6,  7,  8,  9, 10])"
      ]
     },
     "execution_count": 10,
     "metadata": {},
     "output_type": "execute_result"
    }
   ],
   "source": [
    "a1=np.array([1,2,3,4,5,6,7,8,9,10])\n",
    "a1"
   ]
  },
  {
   "cell_type": "code",
   "execution_count": 12,
   "id": "71578607-75dd-4152-a95e-5a750a56dffd",
   "metadata": {},
   "outputs": [],
   "source": [
    "a2=a1.reshape((2,5))"
   ]
  },
  {
   "cell_type": "code",
   "execution_count": 13,
   "id": "0fd5ba55-9f64-4272-b5db-9791ff1c91fd",
   "metadata": {},
   "outputs": [
    {
     "data": {
      "text/plain": [
       "array([[ 1,  2,  3,  4,  5],\n",
       "       [ 6,  7,  8,  9, 10]])"
      ]
     },
     "execution_count": 13,
     "metadata": {},
     "output_type": "execute_result"
    }
   ],
   "source": [
    "a2"
   ]
  },
  {
   "cell_type": "code",
   "execution_count": 15,
   "id": "63f1ba51-bc4f-4af6-8623-81e1f2084e6c",
   "metadata": {},
   "outputs": [
    {
     "data": {
      "text/plain": [
       "array([[ 1,  2],\n",
       "       [ 3,  4],\n",
       "       [ 5,  6],\n",
       "       [ 7,  8],\n",
       "       [ 9, 10]])"
      ]
     },
     "execution_count": 15,
     "metadata": {},
     "output_type": "execute_result"
    }
   ],
   "source": [
    "a2.reshape((5,2))"
   ]
  },
  {
   "cell_type": "markdown",
   "id": "968b288b-331d-4e3d-b47d-afe1a7644342",
   "metadata": {},
   "source": [
    "## 3. Create a 4x4 NumPy array with random float values. Add a border of zeros around it, resulting in a 6x6 arr"
   ]
  },
  {
   "cell_type": "code",
   "execution_count": 18,
   "id": "d0152bcf-271f-46c9-9761-9988d887db97",
   "metadata": {},
   "outputs": [
    {
     "data": {
      "text/plain": [
       "array([[0.        , 0.        , 0.        , 0.        , 0.        ,\n",
       "        0.        ],\n",
       "       [0.        , 0.05012441, 0.77507858, 0.67432291, 0.85977679,\n",
       "        0.        ],\n",
       "       [0.        , 0.46405078, 0.45111703, 0.40440519, 0.53509075,\n",
       "        0.        ],\n",
       "       [0.        , 0.22615828, 0.99423095, 0.45761913, 0.53226732,\n",
       "        0.        ],\n",
       "       [0.        , 0.68812284, 0.51625008, 0.26353821, 0.7382625 ,\n",
       "        0.        ],\n",
       "       [0.        , 0.        , 0.        , 0.        , 0.        ,\n",
       "        0.        ]])"
      ]
     },
     "execution_count": 18,
     "metadata": {},
     "output_type": "execute_result"
    }
   ],
   "source": [
    "\n",
    "random_array = np.random.rand(4, 4)\n",
    "bordered_array = np.pad(random_array, pad_width=1, mode='constant', constant_values=0)\n",
    "\n",
    "bordered_array\n"
   ]
  },
  {
   "cell_type": "markdown",
   "id": "825b5b5b-54f3-4bd1-b8c1-4f52abbc7e71",
   "metadata": {},
   "source": [
    "## 4. Using NumPy, create an array of integers from 10 to 60 with a step of 5."
   ]
  },
  {
   "cell_type": "code",
   "execution_count": 21,
   "id": "26597a99-4e7f-4c8c-b554-61398905ca03",
   "metadata": {},
   "outputs": [],
   "source": [
    "b=np.arange(10,65,5)"
   ]
  },
  {
   "cell_type": "code",
   "execution_count": 22,
   "id": "e2f44148-3c0f-4b9b-8f1e-11867beb5b95",
   "metadata": {},
   "outputs": [
    {
     "data": {
      "text/plain": [
       "array([10, 15, 20, 25, 30, 35, 40, 45, 50, 55, 60])"
      ]
     },
     "execution_count": 22,
     "metadata": {},
     "output_type": "execute_result"
    }
   ],
   "source": [
    "b"
   ]
  },
  {
   "cell_type": "markdown",
   "id": "3ebf3165-db84-4a92-ab4b-3520aa4a3a57",
   "metadata": {},
   "source": [
    "## 5. Create a NumPy array of strings ['python', 'numpy', 'pandas']. Apply different case transformations\n",
    "(uppercase, lowercase, title case, etc.) to each element."
   ]
  },
  {
   "cell_type": "code",
   "execution_count": 23,
   "id": "324ea439-3dc8-400e-b627-adac628fde9a",
   "metadata": {},
   "outputs": [
    {
     "data": {
      "text/plain": [
       "array(['PYTHON', 'NUMPY', 'PANDAS'], dtype='<U6')"
      ]
     },
     "execution_count": 23,
     "metadata": {},
     "output_type": "execute_result"
    }
   ],
   "source": [
    "c=['python', 'numpy', 'pandas']\n",
    "np.char.upper(c)"
   ]
  },
  {
   "cell_type": "code",
   "execution_count": 24,
   "id": "f9aaaa1d-1483-4715-aceb-0cd4b309c0ac",
   "metadata": {},
   "outputs": [
    {
     "data": {
      "text/plain": [
       "array(['python', 'numpy', 'pandas'], dtype='<U6')"
      ]
     },
     "execution_count": 24,
     "metadata": {},
     "output_type": "execute_result"
    }
   ],
   "source": [
    "# lower case \n",
    "np.char.lower(c)"
   ]
  },
  {
   "cell_type": "code",
   "execution_count": 25,
   "id": "96dedd86-593e-4639-98d9-3506987dee96",
   "metadata": {},
   "outputs": [
    {
     "data": {
      "text/plain": [
       "array(['Python', 'Numpy', 'Pandas'], dtype='<U6')"
      ]
     },
     "execution_count": 25,
     "metadata": {},
     "output_type": "execute_result"
    }
   ],
   "source": [
    "np.char.title(c)"
   ]
  },
  {
   "cell_type": "code",
   "execution_count": 26,
   "id": "5817062d-2869-4d92-96d9-8db65ba330ff",
   "metadata": {},
   "outputs": [
    {
     "data": {
      "text/plain": [
       "array(['Python', 'Numpy', 'Pandas'], dtype='<U6')"
      ]
     },
     "execution_count": 26,
     "metadata": {},
     "output_type": "execute_result"
    }
   ],
   "source": [
    "np.char.capitalize(c)"
   ]
  },
  {
   "cell_type": "markdown",
   "id": "e237312b-cb5d-40e0-8fe6-cd771cc57758",
   "metadata": {},
   "source": [
    "## 6. Generate a NumPy array of words. Insert a space between each character of every word in the array."
   ]
  },
  {
   "cell_type": "code",
   "execution_count": 27,
   "id": "97c057b8-679b-4a58-93c7-fee55e12db27",
   "metadata": {},
   "outputs": [
    {
     "data": {
      "text/plain": [
       "array(['a p p l e', 'b a n a n a', 'c h e r r y', 'd a t e'], dtype='<U11')"
      ]
     },
     "execution_count": 27,
     "metadata": {},
     "output_type": "execute_result"
    }
   ],
   "source": [
    "\n",
    "words_array = np.array([\"apple\", \"banana\", \"cherry\", \"date\"])\n",
    "\n",
    "# Insert a space between each character of every word\n",
    "spaced_words_array = np.array([' '.join(word) for word in words_array])\n",
    "\n",
    "spaced_words_array\n"
   ]
  },
  {
   "cell_type": "markdown",
   "id": "b707e95e-6555-4825-a22f-af21afb55b66",
   "metadata": {},
   "source": [
    "## 7.Create two 2D NumPy arrays and perform element-wise addition, subtraction, multiplication, and division."
   ]
  },
  {
   "cell_type": "code",
   "execution_count": 28,
   "id": "f0df7400-743e-4e8e-ab4b-48d964664694",
   "metadata": {},
   "outputs": [],
   "source": [
    "\n",
    "array1 = np.array([[10, 20], [30, 40]])\n",
    "array2 = np.array([[1, 2], [3, 4]])\n",
    "\n",
    "addition = array1 + array2\n",
    "\n",
    "\n",
    "subtraction = array1 - array2\n",
    "\n",
    "\n",
    "multiplication = array1 * array2\n",
    "\n",
    "\n",
    "division = array1 / array2\n",
    "\n",
    "\n"
   ]
  },
  {
   "cell_type": "code",
   "execution_count": 29,
   "id": "0147c6ba-c3aa-4d1f-8dfa-9135e9edaa7c",
   "metadata": {},
   "outputs": [
    {
     "data": {
      "text/plain": [
       "array([[11, 22],\n",
       "       [33, 44]])"
      ]
     },
     "execution_count": 29,
     "metadata": {},
     "output_type": "execute_result"
    }
   ],
   "source": [
    "addition"
   ]
  },
  {
   "cell_type": "code",
   "execution_count": 30,
   "id": "663a3cbd-28f6-498b-8600-b1f227d7d740",
   "metadata": {},
   "outputs": [
    {
     "data": {
      "text/plain": [
       "array([[ 9, 18],\n",
       "       [27, 36]])"
      ]
     },
     "execution_count": 30,
     "metadata": {},
     "output_type": "execute_result"
    }
   ],
   "source": [
    "subtraction"
   ]
  },
  {
   "cell_type": "code",
   "execution_count": 31,
   "id": "1001ba77-3bfd-49c3-abb1-f4151436ef45",
   "metadata": {},
   "outputs": [
    {
     "data": {
      "text/plain": [
       "array([[ 10,  40],\n",
       "       [ 90, 160]])"
      ]
     },
     "execution_count": 31,
     "metadata": {},
     "output_type": "execute_result"
    }
   ],
   "source": [
    "multiplication"
   ]
  },
  {
   "cell_type": "code",
   "execution_count": 32,
   "id": "5e0bfc48-f218-4925-aee1-e44ae0a284eb",
   "metadata": {},
   "outputs": [
    {
     "data": {
      "text/plain": [
       "array([[10., 10.],\n",
       "       [10., 10.]])"
      ]
     },
     "execution_count": 32,
     "metadata": {},
     "output_type": "execute_result"
    }
   ],
   "source": [
    "division"
   ]
  },
  {
   "cell_type": "markdown",
   "id": "77e8c501-27f9-4de0-84be-7fae97f6d433",
   "metadata": {},
   "source": [
    "## 8.Use NumPy to create a 5x5 identity matrix, then extract its diagonal elements."
   ]
  },
  {
   "cell_type": "code",
   "execution_count": 33,
   "id": "1d27767e-a066-41e5-b79b-5289b88f49a6",
   "metadata": {},
   "outputs": [],
   "source": [
    "identity=np.eye(5,5,dtype=int)"
   ]
  },
  {
   "cell_type": "code",
   "execution_count": 34,
   "id": "77656211-73e7-44a7-a96f-387b83f44e12",
   "metadata": {},
   "outputs": [
    {
     "data": {
      "text/plain": [
       "array([[1, 0, 0, 0, 0],\n",
       "       [0, 1, 0, 0, 0],\n",
       "       [0, 0, 1, 0, 0],\n",
       "       [0, 0, 0, 1, 0],\n",
       "       [0, 0, 0, 0, 1]])"
      ]
     },
     "execution_count": 34,
     "metadata": {},
     "output_type": "execute_result"
    }
   ],
   "source": [
    "identity"
   ]
  },
  {
   "cell_type": "code",
   "execution_count": 35,
   "id": "b0511f5a-65d8-449a-b687-4f541a3dc0cc",
   "metadata": {},
   "outputs": [],
   "source": [
    "diagonal=np.diag(identity)"
   ]
  },
  {
   "cell_type": "code",
   "execution_count": 36,
   "id": "6a957a29-fc09-4efb-874f-66d2267f6b04",
   "metadata": {},
   "outputs": [
    {
     "data": {
      "text/plain": [
       "array([1, 1, 1, 1, 1])"
      ]
     },
     "execution_count": 36,
     "metadata": {},
     "output_type": "execute_result"
    }
   ],
   "source": [
    "diagonal"
   ]
  },
  {
   "cell_type": "markdown",
   "id": "b362342b-b140-4fcd-8612-140354144768",
   "metadata": {},
   "source": [
    "## 9. Generate a NumPy array of 100 random integers between 0 and 1000. Find and display all prime numbers in \n",
    "this array"
   ]
  },
  {
   "cell_type": "code",
   "execution_count": 37,
   "id": "afd3703f-4fa2-4347-9014-01e427928c5a",
   "metadata": {},
   "outputs": [
    {
     "data": {
      "text/plain": [
       "(array([460, 200, 110, 611, 300, 782, 401, 727,  62, 362, 451, 993, 284,\n",
       "        455, 881, 942, 549, 883, 551,  64, 799, 558,  19, 307, 669, 927,\n",
       "        838, 448, 348, 745, 242, 186, 485, 446, 341, 645, 144, 987, 441,\n",
       "        942, 861, 285, 521, 785, 657, 624, 797, 191,  60, 634, 123, 357,\n",
       "         36, 804, 418, 223, 515, 721, 894, 923, 258, 787, 949, 826, 874,\n",
       "         98, 818, 167, 772, 926, 382, 276, 484, 556, 188, 401,  59, 791,\n",
       "        261, 504, 994, 170, 852, 898, 855, 823, 662, 558, 726, 944, 145,\n",
       "        590, 854, 242, 169, 470, 844, 570, 958, 853]),\n",
       " [401,\n",
       "  727,\n",
       "  881,\n",
       "  883,\n",
       "  19,\n",
       "  307,\n",
       "  521,\n",
       "  797,\n",
       "  191,\n",
       "  223,\n",
       "  787,\n",
       "  167,\n",
       "  401,\n",
       "  59,\n",
       "  823,\n",
       "  853])"
      ]
     },
     "execution_count": 37,
     "metadata": {},
     "output_type": "execute_result"
    }
   ],
   "source": [
    "\n",
    "def is_prime(n):\n",
    "    if n <= 1:\n",
    "        return False\n",
    "    for i in range(2, int(np.sqrt(n)) + 1):\n",
    "        if n % i == 0:\n",
    "            return False\n",
    "    return True\n",
    "random_array = np.random.randint(0, 1000, 100)\n",
    "\n",
    "\n",
    "prime_numbers = [num for num in random_array if is_prime(num)]\n",
    "\n",
    "random_array, prime_numbers\n"
   ]
  },
  {
   "cell_type": "markdown",
   "id": "15c509e2-f2aa-4fb2-b0b7-b1b14511a959",
   "metadata": {},
   "source": [
    "## 10. Create a NumPy array representing daily temperatures for a month. Calculate and display the weekly averages"
   ]
  },
  {
   "cell_type": "code",
   "execution_count": 38,
   "id": "a7fd6f0e-32f1-4d43-abf2-e05ff6c82e86",
   "metadata": {},
   "outputs": [
    {
     "data": {
      "text/plain": [
       "(array([21, 18, 33, 23, 29, 19, 24, 20, 18, 23, 34, 27, 17, 21, 17, 17, 15,\n",
       "        24, 16, 31, 30, 23, 16, 21, 25, 15, 31, 29, 17, 30]),\n",
       " [23.857142857142858,\n",
       "  22.857142857142858,\n",
       "  21.428571428571427,\n",
       "  22.857142857142858,\n",
       "  23.5])"
      ]
     },
     "execution_count": 38,
     "metadata": {},
     "output_type": "execute_result"
    }
   ],
   "source": [
    "\n",
    "daily_temperatures = np.random.randint(15, 35, 30)  # Temperatures between 15°C and 35°C\n",
    "\n",
    "# Split the array into weeks (4 full weeks + 2 extra days)\n",
    "weeks = np.split(daily_temperatures[:28], 4)  # First 4 weeks (7 days each)\n",
    "last_week = daily_temperatures[28:]           # Last week (2 extra days)\n",
    "\n",
    "# Calculate weekly averages\n",
    "weekly_averages = [np.mean(week) for week in weeks]\n",
    "weekly_averages.append(np.mean(last_week))  # Add average for the last week\n",
    "\n",
    "daily_temperatures, weekly_averages\n"
   ]
  },
  {
   "cell_type": "code",
   "execution_count": null,
   "id": "459c0e07-c6c9-4a46-affe-32687751b9cb",
   "metadata": {},
   "outputs": [],
   "source": []
  }
 ],
 "metadata": {
  "kernelspec": {
   "display_name": "Python 3 (ipykernel)",
   "language": "python",
   "name": "python3"
  },
  "language_info": {
   "codemirror_mode": {
    "name": "ipython",
    "version": 3
   },
   "file_extension": ".py",
   "mimetype": "text/x-python",
   "name": "python",
   "nbconvert_exporter": "python",
   "pygments_lexer": "ipython3",
   "version": "3.11.7"
  }
 },
 "nbformat": 4,
 "nbformat_minor": 5
}
