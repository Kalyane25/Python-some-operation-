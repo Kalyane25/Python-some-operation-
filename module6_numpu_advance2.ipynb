{
 "cells": [
  {
   "cell_type": "code",
   "execution_count": 1,
   "id": "398b75f9-ec03-4ff8-9f63-d52e885608b8",
   "metadata": {},
   "outputs": [],
   "source": [
    "import numpy as np"
   ]
  },
  {
   "cell_type": "code",
   "execution_count": 3,
   "id": "6bb17a8b-f037-4c40-bcd0-724d8fcbf03c",
   "metadata": {},
   "outputs": [],
   "source": [
    "arr1=np.random.randint(1,3,(3,3))\n",
    "arr2=np.random.randint(1,3,(3,3))"
   ]
  },
  {
   "cell_type": "code",
   "execution_count": 4,
   "id": "bc887430-ad44-4c0f-999d-60f51984a7a4",
   "metadata": {},
   "outputs": [
    {
     "data": {
      "text/plain": [
       "array([[1, 2, 2],\n",
       "       [2, 2, 2],\n",
       "       [2, 2, 1]])"
      ]
     },
     "execution_count": 4,
     "metadata": {},
     "output_type": "execute_result"
    }
   ],
   "source": [
    "arr1"
   ]
  },
  {
   "cell_type": "code",
   "execution_count": 5,
   "id": "fa25e1cd-7a1e-425f-92e9-7977ba9bb899",
   "metadata": {},
   "outputs": [
    {
     "data": {
      "text/plain": [
       "array([[1, 1, 1],\n",
       "       [2, 1, 1],\n",
       "       [2, 1, 1]])"
      ]
     },
     "execution_count": 5,
     "metadata": {},
     "output_type": "execute_result"
    }
   ],
   "source": [
    "arr2"
   ]
  },
  {
   "cell_type": "code",
   "execution_count": 6,
   "id": "6e4aff46-b120-4e3f-9634-90515a7afcfa",
   "metadata": {},
   "outputs": [
    {
     "data": {
      "text/plain": [
       "array([1, 2, 2, 2, 2, 2, 2, 2, 1])"
      ]
     },
     "execution_count": 6,
     "metadata": {},
     "output_type": "execute_result"
    }
   ],
   "source": [
    "# fallen the array \n",
    "arr1.flatten()  # Return a copy of the array collapsed into one dimension."
   ]
  },
  {
   "cell_type": "code",
   "execution_count": 7,
   "id": "4829ef13-2aca-40dd-a807-97c8b7b2a734",
   "metadata": {},
   "outputs": [
    {
     "data": {
      "text/plain": [
       "array([1, 1, 1, 2, 1, 1, 2, 1, 1])"
      ]
     },
     "execution_count": 7,
     "metadata": {},
     "output_type": "execute_result"
    }
   ],
   "source": [
    "arr2.flatten()"
   ]
  },
  {
   "cell_type": "code",
   "execution_count": 8,
   "id": "1596ac4d-7059-4eea-9152-c7016cf44553",
   "metadata": {},
   "outputs": [],
   "source": [
    "# expand dimension \n",
    "arr=np.array([1,2,3,4])"
   ]
  },
  {
   "cell_type": "code",
   "execution_count": 9,
   "id": "60e5a709-3cfc-41e5-8946-64a1ed024672",
   "metadata": {},
   "outputs": [
    {
     "data": {
      "text/plain": [
       "array([1, 2, 3, 4])"
      ]
     },
     "execution_count": 9,
     "metadata": {},
     "output_type": "execute_result"
    }
   ],
   "source": [
    "arr"
   ]
  },
  {
   "cell_type": "code",
   "execution_count": 10,
   "id": "4d96cf73-46fa-42d3-b3b4-db10cb8ade3e",
   "metadata": {},
   "outputs": [
    {
     "data": {
      "text/plain": [
       "1"
      ]
     },
     "execution_count": 10,
     "metadata": {},
     "output_type": "execute_result"
    }
   ],
   "source": [
    "arr.ndim"
   ]
  },
  {
   "cell_type": "code",
   "execution_count": 11,
   "id": "f9c1d950-2059-4f18-b6d4-e702987a6ff7",
   "metadata": {},
   "outputs": [
    {
     "data": {
      "text/plain": [
       "array([[1, 2, 3, 4]])"
      ]
     },
     "execution_count": 11,
     "metadata": {},
     "output_type": "execute_result"
    }
   ],
   "source": [
    "np.expand_dims(arr,axis=0) # syntax:np.expand_dims(a, axis)  here a is array name that you want to expand if axis=0 then row wise expand if axis=1 then column wise expand\n",
    "#Expand the shape of an array.\n",
    "#Insert a new axis that will appear at the `axis` position in the expandedarray shape."
   ]
  },
  {
   "cell_type": "code",
   "execution_count": 12,
   "id": "7c40ecd6-00df-493e-b44b-5cca3fa44ae7",
   "metadata": {},
   "outputs": [
    {
     "data": {
      "text/plain": [
       "array([[1],\n",
       "       [2],\n",
       "       [3],\n",
       "       [4]])"
      ]
     },
     "execution_count": 12,
     "metadata": {},
     "output_type": "execute_result"
    }
   ],
   "source": [
    "np.expand_dims(arr,axis=1)"
   ]
  },
  {
   "cell_type": "code",
   "execution_count": 13,
   "id": "2a9556d4-45c6-431b-aeaa-ffa28e2542f8",
   "metadata": {},
   "outputs": [
    {
     "data": {
      "text/plain": [
       "2"
      ]
     },
     "execution_count": 13,
     "metadata": {},
     "output_type": "execute_result"
    }
   ],
   "source": [
    " np.expand_dims(arr,axis=1).ndim # previously it's dimension is 1 but now 2 .means expand the dimension\n"
   ]
  },
  {
   "cell_type": "code",
   "execution_count": 14,
   "id": "c4861945-2358-4cff-b32d-c3ed31452ec5",
   "metadata": {},
   "outputs": [],
   "source": [
    "# expanding 2D to 3D\n",
    "arr=np.random.randint(1,3,(3,4))"
   ]
  },
  {
   "cell_type": "code",
   "execution_count": 15,
   "id": "52e64056-3519-414b-bb4e-95f32c1f58e0",
   "metadata": {},
   "outputs": [
    {
     "data": {
      "text/plain": [
       "array([[2, 1, 2, 1],\n",
       "       [2, 1, 1, 1],\n",
       "       [2, 2, 2, 2]])"
      ]
     },
     "execution_count": 15,
     "metadata": {},
     "output_type": "execute_result"
    }
   ],
   "source": [
    "arr"
   ]
  },
  {
   "cell_type": "code",
   "execution_count": 16,
   "id": "74057fd4-d399-4b65-92dd-0a6386208083",
   "metadata": {},
   "outputs": [],
   "source": [
    "a=np.expand_dims(arr,axis=1) # here column wise expand"
   ]
  },
  {
   "cell_type": "code",
   "execution_count": 24,
   "id": "d02c7d96-7f45-429c-8a92-0e6d2ab9a663",
   "metadata": {},
   "outputs": [
    {
     "data": {
      "text/plain": [
       "array([[[1, 1, 1, 1]],\n",
       "\n",
       "       [[2, 2, 2, 1]],\n",
       "\n",
       "       [[2, 2, 1, 1]]])"
      ]
     },
     "execution_count": 24,
     "metadata": {},
     "output_type": "execute_result"
    }
   ],
   "source": [
    "a"
   ]
  },
  {
   "cell_type": "code",
   "execution_count": 17,
   "id": "02628859-642c-49de-9a1d-f7b204133e3d",
   "metadata": {},
   "outputs": [],
   "source": [
    "b=np.expand_dims(arr,axis=0)  #here row wise expand"
   ]
  },
  {
   "cell_type": "code",
   "execution_count": 18,
   "id": "e03a1adb-124c-450d-b266-954697843737",
   "metadata": {},
   "outputs": [
    {
     "data": {
      "text/plain": [
       "array([[[2, 1, 2, 1],\n",
       "        [2, 1, 1, 1],\n",
       "        [2, 2, 2, 2]]])"
      ]
     },
     "execution_count": 18,
     "metadata": {},
     "output_type": "execute_result"
    }
   ],
   "source": [
    "b"
   ]
  },
  {
   "cell_type": "code",
   "execution_count": 27,
   "id": "9af5de96-fa08-493e-acc3-bf37cb75b24d",
   "metadata": {},
   "outputs": [
    {
     "data": {
      "text/plain": [
       "array([1, 1, 1, 1, 2, 2, 2, 1, 2, 2, 1, 1])"
      ]
     },
     "execution_count": 27,
     "metadata": {},
     "output_type": "execute_result"
    }
   ],
   "source": [
    "a.flatten()"
   ]
  },
  {
   "cell_type": "code",
   "execution_count": 28,
   "id": "455d0ac1-3bdd-400c-b723-57f4da48fbce",
   "metadata": {},
   "outputs": [
    {
     "data": {
      "text/plain": [
       "array([1, 1, 1, 1, 2, 2, 2, 1, 2, 2, 1, 1])"
      ]
     },
     "execution_count": 28,
     "metadata": {},
     "output_type": "execute_result"
    }
   ],
   "source": [
    "b.flatten()"
   ]
  },
  {
   "cell_type": "code",
   "execution_count": 29,
   "id": "b4828aa1-10d0-4838-9305-5e9ee5ce532c",
   "metadata": {},
   "outputs": [],
   "source": [
    "ar=np.array([[1],[2],[3]])"
   ]
  },
  {
   "cell_type": "code",
   "execution_count": 31,
   "id": "241cb8c6-1dc8-4555-aa6e-7fddfce5589b",
   "metadata": {},
   "outputs": [
    {
     "data": {
      "text/plain": [
       "array([[1],\n",
       "       [2],\n",
       "       [3]])"
      ]
     },
     "execution_count": 31,
     "metadata": {},
     "output_type": "execute_result"
    }
   ],
   "source": [
    "ar"
   ]
  },
  {
   "cell_type": "code",
   "execution_count": 32,
   "id": "ec340a8e-0312-4dfe-92ea-98ccfa5651dc",
   "metadata": {},
   "outputs": [
    {
     "data": {
      "text/plain": [
       "2"
      ]
     },
     "execution_count": 32,
     "metadata": {},
     "output_type": "execute_result"
    }
   ],
   "source": [
    "ar.ndim"
   ]
  },
  {
   "cell_type": "code",
   "execution_count": 36,
   "id": "d7e21b64-3d79-4bc8-a7dd-dc604f66c11d",
   "metadata": {},
   "outputs": [],
   "source": [
    "am=np.expand_dims(ar,axis=0)"
   ]
  },
  {
   "cell_type": "code",
   "execution_count": 35,
   "id": "d1a2684c-d80d-471a-aa5c-6e274d309b55",
   "metadata": {},
   "outputs": [
    {
     "data": {
      "text/plain": [
       "3"
      ]
     },
     "execution_count": 35,
     "metadata": {},
     "output_type": "execute_result"
    }
   ],
   "source": [
    "np.expand_dims(ar,axis=0).ndim"
   ]
  },
  {
   "cell_type": "code",
   "execution_count": 37,
   "id": "a899d899-1f78-4f49-b19b-810ae31f60c3",
   "metadata": {},
   "outputs": [
    {
     "data": {
      "text/plain": [
       "array([[[1],\n",
       "        [2],\n",
       "        [3]]])"
      ]
     },
     "execution_count": 37,
     "metadata": {},
     "output_type": "execute_result"
    }
   ],
   "source": [
    "am"
   ]
  },
  {
   "cell_type": "code",
   "execution_count": 38,
   "id": "5cbeae03-4a64-49fd-bd92-4d8d2a6a2a77",
   "metadata": {},
   "outputs": [
    {
     "data": {
      "text/plain": [
       "array([1, 2, 3])"
      ]
     },
     "execution_count": 38,
     "metadata": {},
     "output_type": "execute_result"
    }
   ],
   "source": [
    "am.flatten()"
   ]
  },
  {
   "cell_type": "code",
   "execution_count": 43,
   "id": "02afd8a7-5ff5-49f8-beda-0bba556aa701",
   "metadata": {},
   "outputs": [
    {
     "data": {
      "text/plain": [
       "array([1, 2, 3])"
      ]
     },
     "execution_count": 43,
     "metadata": {},
     "output_type": "execute_result"
    }
   ],
   "source": [
    "# squeezing the dimension\n",
    "np.squeeze(am)  #Remove axes of length one from `a`."
   ]
  },
  {
   "cell_type": "code",
   "execution_count": 41,
   "id": "f04c44e3-6ba4-4c47-9c1f-74baf0176792",
   "metadata": {},
   "outputs": [
    {
     "data": {
      "text/plain": [
       "array([[1, 1, 1, 1],\n",
       "       [2, 2, 2, 1],\n",
       "       [2, 2, 1, 1]])"
      ]
     },
     "execution_count": 41,
     "metadata": {},
     "output_type": "execute_result"
    }
   ],
   "source": [
    "np.squeeze(b) "
   ]
  },
  {
   "cell_type": "code",
   "execution_count": 42,
   "id": "b199ded2-e102-467e-ab18-dd1af46d8926",
   "metadata": {},
   "outputs": [
    {
     "data": {
      "text/plain": [
       "array([1, 1, 1, 1, 2, 2, 2, 1, 2, 2, 1, 1])"
      ]
     },
     "execution_count": 42,
     "metadata": {},
     "output_type": "execute_result"
    }
   ],
   "source": [
    "b.flatten()"
   ]
  },
  {
   "cell_type": "code",
   "execution_count": 44,
   "id": "d78b47b6-9b1e-41b0-b243-bef4a1271a30",
   "metadata": {},
   "outputs": [],
   "source": [
    "# difference between squeeze() and flatten \n",
    "# : matrix dimension reduced by 1 meand akta dimension kombe but flatten a 1D array print korbe "
   ]
  },
  {
   "cell_type": "code",
   "execution_count": 49,
   "id": "84d21628-e0d8-41bb-add8-ecb9b6782963",
   "metadata": {},
   "outputs": [
    {
     "data": {
      "text/plain": [
       "array([1, 1, 1, 2, 2, 2, 3, 3, 3])"
      ]
     },
     "execution_count": 49,
     "metadata": {},
     "output_type": "execute_result"
    }
   ],
   "source": [
    "# repeat function  syntax:.repeat(arrayname that you want to repeat,how many times you want to repeat,axis= 0 or 1) by default axis is none \n",
    "np.repeat(am,3) # Repeat each element of an array after themselves"
   ]
  },
  {
   "cell_type": "code",
   "execution_count": 50,
   "id": "0230e14e-67c6-400d-9375-8d4b029a2373",
   "metadata": {},
   "outputs": [
    {
     "data": {
      "text/plain": [
       "array([[[1, 1, 1, 1],\n",
       "        [2, 2, 2, 1],\n",
       "        [2, 2, 1, 1]],\n",
       "\n",
       "       [[1, 1, 1, 1],\n",
       "        [2, 2, 2, 1],\n",
       "        [2, 2, 1, 1]]])"
      ]
     },
     "execution_count": 50,
     "metadata": {},
     "output_type": "execute_result"
    }
   ],
   "source": [
    "np.repeat(b,2,axis=0)"
   ]
  },
  {
   "cell_type": "code",
   "execution_count": 51,
   "id": "ccbef77a-f16c-429e-9c46-9baf7d135ea7",
   "metadata": {},
   "outputs": [
    {
     "data": {
      "text/plain": [
       "array([[[1, 1, 1, 1],\n",
       "        [1, 1, 1, 1],\n",
       "        [2, 2, 2, 1],\n",
       "        [2, 2, 2, 1],\n",
       "        [2, 2, 1, 1],\n",
       "        [2, 2, 1, 1]]])"
      ]
     },
     "execution_count": 51,
     "metadata": {},
     "output_type": "execute_result"
    }
   ],
   "source": [
    "np.repeat(b,2,axis=1)"
   ]
  },
  {
   "cell_type": "code",
   "execution_count": 22,
   "id": "64ae4636-a636-47bf-9ca3-9000c8f3e7cc",
   "metadata": {},
   "outputs": [
    {
     "data": {
      "text/plain": [
       "'\\nExamples\\n--------\\n>>> x = np.arange(10)\\n>>> np.roll(x, 2)\\narray([8, 9, 0, 1, 2, 3, 4, 5, 6, 7])\\n>>> np.roll(x, -2)\\narray([2, 3, 4, 5, 6, 7, 8, 9, 0, 1])\\n\\n>>> x2 = np.reshape(x, (2, 5))\\n>>> x2\\narray([[0, 1, 2, 3, 4],\\n       [5, 6, 7, 8, 9]])\\n>>> np.roll(x2, 1)\\narray([[9, 0, 1, 2, 3],\\n       [4, 5, 6, 7, 8]])\\n>>> np.roll(x2, -1)\\narray([[1, 2, 3, 4, 5],\\n       [6, 7, 8, 9, 0]])\\n>>> np.roll(x2, 1, axis=0)\\narray([[5, 6, 7, 8, 9],\\n       [0, 1, 2, 3, 4]])\\n>>> np.roll(x2, -1, axis=0)\\narray([[5, 6, 7, 8, 9],\\n       [0, 1, 2, 3, 4]])\\n>>> np.roll(x2, 1, axis=1)\\narray([[4, 0, 1, 2, 3],\\n       [9, 5, 6, 7, 8]])\\n>>> np.roll(x2, -1, axis=1)\\narray([[1, 2, 3, 4, 0],\\n       [6, 7, 8, 9, 5]])\\n>>> np.roll(x2, (1, 1), axis=(1, 0))\\narray([[9, 5, 6, 7, 8],\\n       [4, 0, 1, 2, 3]])\\n>>> np.roll(x2, (2, 1), axis=(1, 0))\\narray([[8, 9, 5, 6, 7],\\n       [3, 4, 0, 1, 2]])\\n       '"
      ]
     },
     "execution_count": 22,
     "metadata": {},
     "output_type": "execute_result"
    }
   ],
   "source": [
    "# shifting place  \n",
    "s=np.roll(b,-1)# Roll array elements along a given axis.\n",
    "#Elements that roll beyond the last position are re-introduced at the first.\n",
    "#\n",
    "\"\"\"\n",
    "Examples\n",
    "--------\n",
    ">>> x = np.arange(10)\n",
    ">>> np.roll(x, 2)\n",
    "array([8, 9, 0, 1, 2, 3, 4, 5, 6, 7])\n",
    ">>> np.roll(x, -2)\n",
    "array([2, 3, 4, 5, 6, 7, 8, 9, 0, 1])\n",
    "\n",
    ">>> x2 = np.reshape(x, (2, 5))\n",
    ">>> x2\n",
    "array([[0, 1, 2, 3, 4],\n",
    "       [5, 6, 7, 8, 9]])\n",
    ">>> np.roll(x2, 1)\n",
    "array([[9, 0, 1, 2, 3],\n",
    "       [4, 5, 6, 7, 8]])\n",
    ">>> np.roll(x2, -1)\n",
    "array([[1, 2, 3, 4, 5],\n",
    "       [6, 7, 8, 9, 0]])\n",
    ">>> np.roll(x2, 1, axis=0)\n",
    "array([[5, 6, 7, 8, 9],\n",
    "       [0, 1, 2, 3, 4]])\n",
    ">>> np.roll(x2, -1, axis=0)\n",
    "array([[5, 6, 7, 8, 9],\n",
    "       [0, 1, 2, 3, 4]])\n",
    ">>> np.roll(x2, 1, axis=1)\n",
    "array([[4, 0, 1, 2, 3],\n",
    "       [9, 5, 6, 7, 8]])\n",
    ">>> np.roll(x2, -1, axis=1)\n",
    "array([[1, 2, 3, 4, 0],\n",
    "       [6, 7, 8, 9, 5]])\n",
    ">>> np.roll(x2, (1, 1), axis=(1, 0))\n",
    "array([[9, 5, 6, 7, 8],\n",
    "       [4, 0, 1, 2, 3]])\n",
    ">>> np.roll(x2, (2, 1), axis=(1, 0))\n",
    "array([[8, 9, 5, 6, 7],\n",
    "       [3, 4, 0, 1, 2]])\n",
    "       \"\"\"\n",
    "# above are example of roll "
   ]
  },
  {
   "cell_type": "code",
   "execution_count": 23,
   "id": "e1de9449-a4a7-4164-9656-3515dde4d49a",
   "metadata": {},
   "outputs": [
    {
     "data": {
      "text/plain": [
       "array([[[1, 2, 1, 2],\n",
       "        [1, 1, 1, 2],\n",
       "        [2, 2, 2, 2]]])"
      ]
     },
     "execution_count": 23,
     "metadata": {},
     "output_type": "execute_result"
    }
   ],
   "source": [
    "s"
   ]
  },
  {
   "cell_type": "code",
   "execution_count": 24,
   "id": "4478a97a-1423-470d-a500-85a09c91c011",
   "metadata": {},
   "outputs": [],
   "source": [
    "c= np.array([[1,2],[3,4],[5,6],[7,8]])"
   ]
  },
  {
   "cell_type": "code",
   "execution_count": 25,
   "id": "12031ede-63f7-4c35-b32b-255db11315b6",
   "metadata": {},
   "outputs": [
    {
     "data": {
      "text/plain": [
       "array([[1, 2],\n",
       "       [3, 4],\n",
       "       [5, 6],\n",
       "       [7, 8]])"
      ]
     },
     "execution_count": 25,
     "metadata": {},
     "output_type": "execute_result"
    }
   ],
   "source": [
    "c"
   ]
  },
  {
   "cell_type": "code",
   "execution_count": 26,
   "id": "3b99f66e-7672-4651-9f55-0b3b45fe31a6",
   "metadata": {},
   "outputs": [
    {
     "data": {
      "text/plain": [
       "array([[2, 3],\n",
       "       [4, 5],\n",
       "       [6, 7],\n",
       "       [8, 1]])"
      ]
     },
     "execution_count": 26,
     "metadata": {},
     "output_type": "execute_result"
    }
   ],
   "source": [
    "np.roll(c,-1)"
   ]
  },
  {
   "cell_type": "code",
   "execution_count": 27,
   "id": "9606dc7d-9685-45de-b2dd-9724eee20572",
   "metadata": {},
   "outputs": [
    {
     "data": {
      "text/plain": [
       "array([[3, 4],\n",
       "       [5, 6],\n",
       "       [7, 8],\n",
       "       [1, 2]])"
      ]
     },
     "execution_count": 27,
     "metadata": {},
     "output_type": "execute_result"
    }
   ],
   "source": [
    "np.roll(c,-1,axis=0)"
   ]
  },
  {
   "cell_type": "code",
   "execution_count": 28,
   "id": "8eaddc7f-ab6f-49f5-9dce-29e839934eb3",
   "metadata": {},
   "outputs": [
    {
     "data": {
      "text/plain": [
       "array([[2, 1],\n",
       "       [4, 3],\n",
       "       [6, 5],\n",
       "       [8, 7]])"
      ]
     },
     "execution_count": 28,
     "metadata": {},
     "output_type": "execute_result"
    }
   ],
   "source": [
    "np.roll(c,-1,axis=1)"
   ]
  },
  {
   "cell_type": "code",
   "execution_count": 29,
   "id": "640eae37-9899-487c-b945-331d8656a7ed",
   "metadata": {},
   "outputs": [
    {
     "data": {
      "text/plain": [
       "array([[7, 8],\n",
       "       [1, 2],\n",
       "       [3, 4],\n",
       "       [5, 6]])"
      ]
     },
     "execution_count": 29,
     "metadata": {},
     "output_type": "execute_result"
    }
   ],
   "source": [
    "np.roll(c,1,axis=0)"
   ]
  },
  {
   "cell_type": "code",
   "execution_count": 30,
   "id": "90c62bc9-1c0e-4bd0-beac-e8690003092f",
   "metadata": {},
   "outputs": [
    {
     "data": {
      "text/plain": [
       "array([[5, 6],\n",
       "       [7, 8],\n",
       "       [1, 2],\n",
       "       [3, 4]])"
      ]
     },
     "execution_count": 30,
     "metadata": {},
     "output_type": "execute_result"
    }
   ],
   "source": [
    "np.roll(c,2,axis=0)"
   ]
  },
  {
   "cell_type": "code",
   "execution_count": 31,
   "id": "2380140c-4785-42ae-83b6-f000e901abc3",
   "metadata": {},
   "outputs": [
    {
     "data": {
      "text/plain": [
       "array([[5, 6],\n",
       "       [7, 8],\n",
       "       [1, 2],\n",
       "       [3, 4]])"
      ]
     },
     "execution_count": 31,
     "metadata": {},
     "output_type": "execute_result"
    }
   ],
   "source": [
    "np.roll(c,-2,axis=0)"
   ]
  },
  {
   "cell_type": "code",
   "execution_count": 32,
   "id": "716252d6-69a6-4ddd-8337-c4b12247c58e",
   "metadata": {},
   "outputs": [
    {
     "data": {
      "text/plain": [
       "array([[1, 2, 2],\n",
       "       [2, 2, 2],\n",
       "       [2, 2, 1]])"
      ]
     },
     "execution_count": 32,
     "metadata": {},
     "output_type": "execute_result"
    }
   ],
   "source": [
    "# another concept \n",
    "arr1"
   ]
  },
  {
   "cell_type": "code",
   "execution_count": 33,
   "id": "9d2fe971-6d5c-4f56-9fbb-b8ec4c241d62",
   "metadata": {},
   "outputs": [
    {
     "data": {
      "text/plain": [
       "array([[1, 1, 1],\n",
       "       [2, 1, 1],\n",
       "       [2, 1, 1]])"
      ]
     },
     "execution_count": 33,
     "metadata": {},
     "output_type": "execute_result"
    }
   ],
   "source": [
    "arr2"
   ]
  },
  {
   "cell_type": "code",
   "execution_count": 34,
   "id": "bc5b943f-63b1-4308-a3d6-c7e9ad1396e2",
   "metadata": {},
   "outputs": [
    {
     "data": {
      "text/plain": [
       "array([[2, 3, 3],\n",
       "       [4, 3, 3],\n",
       "       [4, 3, 2]])"
      ]
     },
     "execution_count": 34,
     "metadata": {},
     "output_type": "execute_result"
    }
   ],
   "source": [
    "arr1+arr2"
   ]
  },
  {
   "cell_type": "code",
   "execution_count": 35,
   "id": "4df492cd-7055-4e37-9c9c-485c2803b51d",
   "metadata": {},
   "outputs": [
    {
     "data": {
      "text/plain": [
       "array([[0, 1, 1],\n",
       "       [0, 1, 1],\n",
       "       [0, 1, 0]])"
      ]
     },
     "execution_count": 35,
     "metadata": {},
     "output_type": "execute_result"
    }
   ],
   "source": [
    "arr1-arr2"
   ]
  },
  {
   "cell_type": "code",
   "execution_count": 36,
   "id": "f9ec00dc-72bb-4911-8d54-7af076904b7e",
   "metadata": {},
   "outputs": [
    {
     "data": {
      "text/plain": [
       "array([[1, 2, 2],\n",
       "       [4, 2, 2],\n",
       "       [4, 2, 1]])"
      ]
     },
     "execution_count": 36,
     "metadata": {},
     "output_type": "execute_result"
    }
   ],
   "source": [
    "arr1*arr2"
   ]
  },
  {
   "cell_type": "code",
   "execution_count": 37,
   "id": "74574aea-c3c9-4a0e-8456-5e37d8180a54",
   "metadata": {},
   "outputs": [
    {
     "data": {
      "text/plain": [
       "array([[False,  True,  True],\n",
       "       [False,  True,  True],\n",
       "       [False,  True, False]])"
      ]
     },
     "execution_count": 37,
     "metadata": {},
     "output_type": "execute_result"
    }
   ],
   "source": [
    "arr1>arr2"
   ]
  },
  {
   "cell_type": "code",
   "execution_count": 38,
   "id": "8733d7c6-8a38-4dc1-8df0-bb1f8a0e3201",
   "metadata": {},
   "outputs": [
    {
     "data": {
      "text/plain": [
       "array([[-2, -3, -3],\n",
       "       [-3, -3, -3],\n",
       "       [-3, -3, -2]])"
      ]
     },
     "execution_count": 38,
     "metadata": {},
     "output_type": "execute_result"
    }
   ],
   "source": [
    "# bitwise negetion \n",
    "~ arr1"
   ]
  },
  {
   "cell_type": "code",
   "execution_count": 39,
   "id": "4cd012a2-63b3-4b76-bcce-7d55dd90189f",
   "metadata": {},
   "outputs": [],
   "source": [
    "# operation on numpy string array \n",
    "array1=np.array([\"pw\",\"skills\"])"
   ]
  },
  {
   "cell_type": "code",
   "execution_count": 42,
   "id": "f5a24271-3a03-4e38-8c38-87d526631e4f",
   "metadata": {},
   "outputs": [],
   "source": [
    "k=np.char.upper(array1)  # Return an array with the elements converted to uppercase. mans convert into a uppercase\n"
   ]
  },
  {
   "cell_type": "code",
   "execution_count": 43,
   "id": "fcea545f-00e7-4910-aa67-2cb39bc58d87",
   "metadata": {},
   "outputs": [
    {
     "data": {
      "text/plain": [
       "array(['PW', 'SKILLS'], dtype='<U6')"
      ]
     },
     "execution_count": 43,
     "metadata": {},
     "output_type": "execute_result"
    }
   ],
   "source": [
    "k"
   ]
  },
  {
   "cell_type": "code",
   "execution_count": 45,
   "id": "78b6c81b-f693-4cde-a739-2f21e4e3658a",
   "metadata": {},
   "outputs": [
    {
     "data": {
      "text/plain": [
       "array(['pw', 'skills'], dtype='<U6')"
      ]
     },
     "execution_count": 45,
     "metadata": {},
     "output_type": "execute_result"
    }
   ],
   "source": [
    "np.char.lower(k) # convert into a lowercase"
   ]
  },
  {
   "cell_type": "code",
   "execution_count": 47,
   "id": "36111a02-fdac-452b-834d-c5a9084e6e6b",
   "metadata": {},
   "outputs": [
    {
     "data": {
      "text/plain": [
       "array(['Pw', 'Skills'], dtype='<U6')"
      ]
     },
     "execution_count": 47,
     "metadata": {},
     "output_type": "execute_result"
    }
   ],
   "source": [
    "np.char.capitalize(array1) # Return a copy of `a` with only the first character of each element capitalized. Means each word every character is capital"
   ]
  },
  {
   "cell_type": "code",
   "execution_count": 49,
   "id": "757709ff-1f7c-451c-84ac-c95d24c61020",
   "metadata": {},
   "outputs": [
    {
     "data": {
      "text/plain": [
       "array([[1, 2, 2],\n",
       "       [2, 2, 2],\n",
       "       [2, 2, 1]])"
      ]
     },
     "execution_count": 49,
     "metadata": {},
     "output_type": "execute_result"
    }
   ],
   "source": [
    "# mathmatical finction \n",
    "arr1"
   ]
  },
  {
   "cell_type": "code",
   "execution_count": 51,
   "id": "f1c7df67-1c48-4334-9fad-6d4c63035f20",
   "metadata": {},
   "outputs": [
    {
     "data": {
      "text/plain": [
       "array([[0.84147098, 0.90929743, 0.90929743],\n",
       "       [0.90929743, 0.90929743, 0.90929743],\n",
       "       [0.90929743, 0.90929743, 0.84147098]])"
      ]
     },
     "execution_count": 51,
     "metadata": {},
     "output_type": "execute_result"
    }
   ],
   "source": [
    "np.sin(arr1) # sin returns the sin value of these value "
   ]
  },
  {
   "cell_type": "code",
   "execution_count": 52,
   "id": "ab324d31-38ed-4bad-9b94-78dcc3724f56",
   "metadata": {},
   "outputs": [
    {
     "data": {
      "text/plain": [
       "array([[ 0.54030231, -0.41614684, -0.41614684],\n",
       "       [-0.41614684, -0.41614684, -0.41614684],\n",
       "       [-0.41614684, -0.41614684,  0.54030231]])"
      ]
     },
     "execution_count": 52,
     "metadata": {},
     "output_type": "execute_result"
    }
   ],
   "source": [
    "np.cos(arr1)"
   ]
  },
  {
   "cell_type": "code",
   "execution_count": 57,
   "id": "cef8d59a-c19b-4d1e-b74a-662cbdb29035",
   "metadata": {},
   "outputs": [
    {
     "data": {
      "text/plain": [
       "array([[ 1.55740772, -2.18503986, -2.18503986],\n",
       "       [-2.18503986, -2.18503986, -2.18503986],\n",
       "       [-2.18503986, -2.18503986,  1.55740772]])"
      ]
     },
     "execution_count": 57,
     "metadata": {},
     "output_type": "execute_result"
    }
   ],
   "source": [
    "np.tan(arr1)"
   ]
  },
  {
   "cell_type": "code",
   "execution_count": 63,
   "id": "ccb46454-2896-4f07-9c2b-c7b48d69475f",
   "metadata": {},
   "outputs": [
    {
     "data": {
      "text/plain": [
       "array([[0.     , 0.30103, 0.30103],\n",
       "       [0.30103, 0.30103, 0.30103],\n",
       "       [0.30103, 0.30103, 0.     ]])"
      ]
     },
     "execution_count": 63,
     "metadata": {},
     "output_type": "execute_result"
    }
   ],
   "source": [
    "np.log10(arr1) # log10 and log2 is possible"
   ]
  },
  {
   "cell_type": "code",
   "execution_count": 64,
   "id": "1b32f5f1-33c8-49f3-bf53-434ff4460e5f",
   "metadata": {},
   "outputs": [
    {
     "data": {
      "text/plain": [
       "array([[0., 1., 1.],\n",
       "       [1., 1., 1.],\n",
       "       [1., 1., 0.]])"
      ]
     },
     "execution_count": 64,
     "metadata": {},
     "output_type": "execute_result"
    }
   ],
   "source": [
    "np.log2(arr1)"
   ]
  },
  {
   "cell_type": "code",
   "execution_count": 66,
   "id": "892b64ed-81cc-4c3e-9535-34db4f5b5c9c",
   "metadata": {},
   "outputs": [
    {
     "data": {
      "text/plain": [
       "array([[2.71828183, 7.3890561 , 7.3890561 ],\n",
       "       [7.3890561 , 7.3890561 , 7.3890561 ],\n",
       "       [7.3890561 , 7.3890561 , 2.71828183]])"
      ]
     },
     "execution_count": 66,
     "metadata": {},
     "output_type": "execute_result"
    }
   ],
   "source": [
    "np.exp(arr1) # it returns the exponential value "
   ]
  },
  {
   "cell_type": "code",
   "execution_count": 68,
   "id": "4654ba93-ef7f-4d83-b4cd-9fc3d1cd73d0",
   "metadata": {},
   "outputs": [
    {
     "data": {
      "text/plain": [
       "array([[1, 4, 4],\n",
       "       [4, 4, 4],\n",
       "       [4, 4, 1]], dtype=int32)"
      ]
     },
     "execution_count": 68,
     "metadata": {},
     "output_type": "execute_result"
    }
   ],
   "source": [
    "np.power(arr1,2)  # it returns the power here we give 2 so it claculate 2 's power ,syntax:  np.power(array_name,num)"
   ]
  },
  {
   "cell_type": "code",
   "execution_count": 69,
   "id": "0af099a9-ac05-4129-ad84-43fbe72c37e6",
   "metadata": {},
   "outputs": [
    {
     "data": {
      "text/plain": [
       "array([[1, 8, 8],\n",
       "       [8, 8, 8],\n",
       "       [8, 8, 1]], dtype=int32)"
      ]
     },
     "execution_count": 69,
     "metadata": {},
     "output_type": "execute_result"
    }
   ],
   "source": [
    "np.power(arr1,3)"
   ]
  },
  {
   "cell_type": "code",
   "execution_count": 70,
   "id": "2c37ef20-bdae-4818-b99e-0a07010b99fa",
   "metadata": {},
   "outputs": [
    {
     "data": {
      "text/plain": [
       "2"
      ]
     },
     "execution_count": 70,
     "metadata": {},
     "output_type": "execute_result"
    }
   ],
   "source": [
    "# it returns the max value of the array \n",
    "np.max(arr1)"
   ]
  },
  {
   "cell_type": "code",
   "execution_count": 71,
   "id": "a5aaec02-7faa-4b8d-b0b1-6896f8131053",
   "metadata": {},
   "outputs": [
    {
     "data": {
      "text/plain": [
       "1.7777777777777777"
      ]
     },
     "execution_count": 71,
     "metadata": {},
     "output_type": "execute_result"
    }
   ],
   "source": [
    "# it returns the avg value \n",
    "np.mean(arr1)"
   ]
  },
  {
   "cell_type": "code",
   "execution_count": 72,
   "id": "906eaed0-d204-4648-8c06-ae0a8796077a",
   "metadata": {},
   "outputs": [
    {
     "data": {
      "text/plain": [
       "1"
      ]
     },
     "execution_count": 72,
     "metadata": {},
     "output_type": "execute_result"
    }
   ],
   "source": [
    "np.min(arr1)"
   ]
  },
  {
   "cell_type": "code",
   "execution_count": 73,
   "id": "f38c1675-8e3d-4492-aefa-87e63576c2db",
   "metadata": {},
   "outputs": [
    {
     "data": {
      "text/plain": [
       "0.41573970964154905"
      ]
     },
     "execution_count": 73,
     "metadata": {},
     "output_type": "execute_result"
    }
   ],
   "source": [
    "# it returns the standard deviation \n",
    "np.std(arr1)"
   ]
  },
  {
   "cell_type": "code",
   "execution_count": 74,
   "id": "6a161fc1-c955-46a5-ac8f-b60404fac363",
   "metadata": {},
   "outputs": [
    {
     "data": {
      "text/plain": [
       "0.1728395061728395"
      ]
     },
     "execution_count": 74,
     "metadata": {},
     "output_type": "execute_result"
    }
   ],
   "source": [
    "# variance\n",
    "np.var(arr1)"
   ]
  },
  {
   "cell_type": "code",
   "execution_count": 75,
   "id": "fd432ef3-18ea-4329-9e78-5050e844cc51",
   "metadata": {},
   "outputs": [
    {
     "data": {
      "text/plain": [
       "array([[0, 1, 1],\n",
       "       [0, 1, 1],\n",
       "       [0, 1, 0]])"
      ]
     },
     "execution_count": 75,
     "metadata": {},
     "output_type": "execute_result"
    }
   ],
   "source": [
    "# you also subtracr this way \n",
    "np.subtract(arr1,arr2)"
   ]
  },
  {
   "cell_type": "code",
   "execution_count": 78,
   "id": "4fb9f3d2-4c6d-4728-9a0f-8534fa0103e6",
   "metadata": {},
   "outputs": [
    {
     "data": {
      "text/plain": [
       "array([[1, 2, 2],\n",
       "       [4, 2, 2],\n",
       "       [4, 2, 1]])"
      ]
     },
     "execution_count": 78,
     "metadata": {},
     "output_type": "execute_result"
    }
   ],
   "source": [
    "np.multiply(arr1,arr2)"
   ]
  },
  {
   "cell_type": "code",
   "execution_count": 80,
   "id": "d0c4793f-c8ef-41f8-a272-7729326667fc",
   "metadata": {},
   "outputs": [
    {
     "data": {
      "text/plain": [
       "array([[0, 0, 0],\n",
       "       [0, 0, 0],\n",
       "       [0, 0, 0]])"
      ]
     },
     "execution_count": 80,
     "metadata": {},
     "output_type": "execute_result"
    }
   ],
   "source": [
    "np.mod(arr1,arr2)# return element wise remender  here all are zero bexause arr1 and arr2 has same element in same position "
   ]
  },
  {
   "cell_type": "code",
   "execution_count": 81,
   "id": "7f1a66ae-d173-4415-9180-307260566398",
   "metadata": {},
   "outputs": [
    {
     "data": {
      "text/plain": [
       "array([[1.        , 1.41421356, 1.41421356],\n",
       "       [1.41421356, 1.41421356, 1.41421356],\n",
       "       [1.41421356, 1.41421356, 1.        ]])"
      ]
     },
     "execution_count": 81,
     "metadata": {},
     "output_type": "execute_result"
    }
   ],
   "source": [
    "np.sqrt(arr1)"
   ]
  },
  {
   "cell_type": "code",
   "execution_count": 82,
   "id": "43751d57-7236-4cd9-9b3d-368935099228",
   "metadata": {},
   "outputs": [
    {
     "data": {
      "text/plain": [
       "array([[1.        , 1.        , 1.        ],\n",
       "       [1.41421356, 1.        , 1.        ],\n",
       "       [1.41421356, 1.        , 1.        ]])"
      ]
     },
     "execution_count": 82,
     "metadata": {},
     "output_type": "execute_result"
    }
   ],
   "source": [
    "np.sqrt(arr2)"
   ]
  },
  {
   "cell_type": "code",
   "execution_count": 85,
   "id": "0cadf3bb-3dbe-4185-b268-5dea5ee0b7ca",
   "metadata": {},
   "outputs": [
    {
     "data": {
      "text/plain": [
       "array([1, 2, 5, 6, 9])"
      ]
     },
     "execution_count": 85,
     "metadata": {},
     "output_type": "execute_result"
    }
   ],
   "source": [
    "# sorting and searching the array element \n",
    "e=np.array([5,6,1,2,9])\n",
    "np.sort(e) # Return a sorted copy of an array."
   ]
  },
  {
   "cell_type": "code",
   "execution_count": 87,
   "id": "9febbb94-841f-4395-8bbe-f6a64e3f7dc0",
   "metadata": {},
   "outputs": [],
   "source": [
    "n=np.searchsorted(e,4)  # Find indices where elements should be inserted to maintain order.meana this function a new element that we want to push and make it is sorted way and at the end it returns the index where the element push  "
   ]
  },
  {
   "cell_type": "code",
   "execution_count": 88,
   "id": "f25d16af-4897-4525-8c12-86b4681430e4",
   "metadata": {},
   "outputs": [
    {
     "data": {
      "text/plain": [
       "4"
      ]
     },
     "execution_count": 88,
     "metadata": {},
     "output_type": "execute_result"
    }
   ],
   "source": [
    "n"
   ]
  },
  {
   "cell_type": "code",
   "execution_count": 90,
   "id": "f27035a3-1ac3-4bb2-ba37-4a732fb61847",
   "metadata": {},
   "outputs": [],
   "source": [
    "e=np.array([5,6,1,2,0,0,0,0,0,9])"
   ]
  },
  {
   "cell_type": "code",
   "execution_count": 91,
   "id": "69ea85c8-00a2-4553-ab0d-86d7199cf796",
   "metadata": {},
   "outputs": [
    {
     "data": {
      "text/plain": [
       "5"
      ]
     },
     "execution_count": 91,
     "metadata": {},
     "output_type": "execute_result"
    }
   ],
   "source": [
    "np.count_nonzero(e)"
   ]
  },
  {
   "cell_type": "code",
   "execution_count": 95,
   "id": "52036051-e958-47ac-9651-5513b9ba6a1a",
   "metadata": {},
   "outputs": [
    {
     "data": {
      "text/plain": [
       "array([5, 6, 1, 2, 9])"
      ]
     },
     "execution_count": 95,
     "metadata": {},
     "output_type": "execute_result"
    }
   ],
   "source": [
    "e[e>0]"
   ]
  },
  {
   "cell_type": "code",
   "execution_count": 99,
   "id": "aaa708cc-96fe-4dd2-8e4a-12dbfe39c98a",
   "metadata": {},
   "outputs": [
    {
     "data": {
      "text/plain": [
       "array([5, 6, 1, 2, 9])"
      ]
     },
     "execution_count": 99,
     "metadata": {},
     "output_type": "execute_result"
    }
   ],
   "source": [
    "np.extract(e>0,e)"
   ]
  },
  {
   "cell_type": "code",
   "execution_count": 100,
   "id": "4d46394a-bfd2-43a9-a1a9-a0a0653300d0",
   "metadata": {},
   "outputs": [
    {
     "data": {
      "text/plain": [
       "array([ 83886080, 100663296,  16777216,  33554432,         0,         0,\n",
       "               0,         0,         0, 150994944])"
      ]
     },
     "execution_count": 100,
     "metadata": {},
     "output_type": "execute_result"
    }
   ],
   "source": [
    "e.byteswap()  # Swap the bytes of the array elements\n"
   ]
  },
  {
   "cell_type": "code",
   "execution_count": 101,
   "id": "c0f80076-111c-4d95-a129-72d86e1ed737",
   "metadata": {},
   "outputs": [],
   "source": [
    "import numpy.matlib as nm"
   ]
  },
  {
   "cell_type": "code",
   "execution_count": 102,
   "id": "d052d2aa-76ab-4641-8b16-dbb2feeb9f75",
   "metadata": {},
   "outputs": [
    {
     "data": {
      "text/plain": [
       "matrix([[0., 0., 0., 0., 0.]])"
      ]
     },
     "execution_count": 102,
     "metadata": {},
     "output_type": "execute_result"
    }
   ],
   "source": [
    "nm.zeros(5)"
   ]
  },
  {
   "cell_type": "code",
   "execution_count": 104,
   "id": "dc95a093-0ec1-482e-ad7c-b25fe6598b03",
   "metadata": {},
   "outputs": [
    {
     "data": {
      "text/plain": [
       "matrix([[1., 1., 1.],\n",
       "        [1., 1., 1.],\n",
       "        [1., 1., 1.]])"
      ]
     },
     "execution_count": 104,
     "metadata": {},
     "output_type": "execute_result"
    }
   ],
   "source": [
    "nm.ones((3,3))"
   ]
  },
  {
   "cell_type": "code",
   "execution_count": 106,
   "id": "db3ebaf6-f70f-4e2c-a1b2-6349589b2a72",
   "metadata": {},
   "outputs": [
    {
     "data": {
      "text/plain": [
       "2.0"
      ]
     },
     "execution_count": 106,
     "metadata": {},
     "output_type": "execute_result"
    }
   ],
   "source": [
    "# if you want to return the determinant then \n",
    "nm.linalg.det(arr1)   # syntax: .linalg(means linear algebra ).det(means determinant)(array name) >>>> .linalg.det(array_name)"
   ]
  },
  {
   "cell_type": "code",
   "execution_count": 107,
   "id": "09ff9a32-9e41-440c-bbb3-20fe85da9cae",
   "metadata": {},
   "outputs": [
    {
     "data": {
      "text/plain": [
       "0.0"
      ]
     },
     "execution_count": 107,
     "metadata": {},
     "output_type": "execute_result"
    }
   ],
   "source": [
    "nm.linalg.det(arr2)"
   ]
  },
  {
   "cell_type": "code",
   "execution_count": 110,
   "id": "83ed47f3-7f58-4962-b7b2-f6565bffc074",
   "metadata": {},
   "outputs": [
    {
     "data": {
      "text/plain": [
       "array([[-1. ,  1. ,  0. ],\n",
       "       [ 1. , -1.5,  1. ],\n",
       "       [-0. ,  1. , -1. ]])"
      ]
     },
     "execution_count": 110,
     "metadata": {},
     "output_type": "execute_result"
    }
   ],
   "source": [
    "# inverse\n",
    "nm.linalg.inv(arr1)  # if your diterminant is zero then you cannot calculate the inverse of the matrix "
   ]
  },
  {
   "cell_type": "code",
   "execution_count": 111,
   "id": "7ebd1435-ec95-4364-adaa-3f50d41b88e4",
   "metadata": {},
   "outputs": [],
   "source": [
    "# solve the problem by using linear algebra \n",
    "# 7x +3y -5z=2\n",
    "# 9x + 4y -2z =8\n",
    "# 11x -4y+24z=28\n",
    "# for solving this equation \n",
    "# step 1:\n",
    "a=np.array([[7,3,-5],[9,4,-2],[11,-4,24]])"
   ]
  },
  {
   "cell_type": "code",
   "execution_count": 112,
   "id": "3423324e-11da-430f-afba-7bbfc261dd72",
   "metadata": {},
   "outputs": [
    {
     "data": {
      "text/plain": [
       "array([[ 7,  3, -5],\n",
       "       [ 9,  4, -2],\n",
       "       [11, -4, 24]])"
      ]
     },
     "execution_count": 112,
     "metadata": {},
     "output_type": "execute_result"
    }
   ],
   "source": [
    "a"
   ]
  },
  {
   "cell_type": "code",
   "execution_count": 114,
   "id": "ed79be5a-8fed-4ea8-9f14-f4c9d7805323",
   "metadata": {},
   "outputs": [],
   "source": [
    "# step 2 :\n",
    "b=np.array([2,8,28])"
   ]
  },
  {
   "cell_type": "code",
   "execution_count": 115,
   "id": "4fb451c8-2d96-4fea-9438-18c93b7ae722",
   "metadata": {},
   "outputs": [
    {
     "data": {
      "text/plain": [
       "array([ 2,  8, 28])"
      ]
     },
     "execution_count": 115,
     "metadata": {},
     "output_type": "execute_result"
    }
   ],
   "source": [
    "b"
   ]
  },
  {
   "cell_type": "code",
   "execution_count": 116,
   "id": "b4200f9a-9828-4125-a292-86f75357be99",
   "metadata": {},
   "outputs": [
    {
     "data": {
      "text/plain": [
       "array([0.50331126, 1.45695364, 1.17880795])"
      ]
     },
     "execution_count": 116,
     "metadata": {},
     "output_type": "execute_result"
    }
   ],
   "source": [
    "# here we see x ,y ,z value \n",
    "np.linalg.solve(a,b)"
   ]
  },
  {
   "cell_type": "code",
   "execution_count": null,
   "id": "8f33a8a9-83ae-44e2-891c-972ecea21fc2",
   "metadata": {},
   "outputs": [],
   "source": []
  }
 ],
 "metadata": {
  "kernelspec": {
   "display_name": "Python 3 (ipykernel)",
   "language": "python",
   "name": "python3"
  },
  "language_info": {
   "codemirror_mode": {
    "name": "ipython",
    "version": 3
   },
   "file_extension": ".py",
   "mimetype": "text/x-python",
   "name": "python",
   "nbconvert_exporter": "python",
   "pygments_lexer": "ipython3",
   "version": "3.11.7"
  }
 },
 "nbformat": 4,
 "nbformat_minor": 5
}
