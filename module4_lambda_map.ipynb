{
 "cells": [
  {
   "cell_type": "markdown",
   "id": "f33dcf8a-ed83-4b91-8dbc-2d4ab103173c",
   "metadata": {},
   "source": [
    "# lambda map reduce filter\n"
   ]
  },
  {
   "cell_type": "code",
   "execution_count": 1,
   "id": "62c4e789-9ecb-4941-bbf0-784675cd40c6",
   "metadata": {},
   "outputs": [
    {
     "data": {
      "text/plain": [
       "4"
      ]
     },
     "execution_count": 1,
     "metadata": {},
     "output_type": "execute_result"
    }
   ],
   "source": [
    "# lambda:anonymous funvtion /shorthand function \n",
    "# syntax:\n",
    "# lambda arguments:expression  ->> here no need for return and def keywords\n",
    "# ex:\n",
    "# normal function \n",
    "def square1(x):\n",
    "    return x**2\n",
    "square1(2)\n",
    "\n"
   ]
  },
  {
   "cell_type": "code",
   "execution_count": 3,
   "id": "d15c7c3e-81f1-4497-a8b2-7c56c52c3c09",
   "metadata": {},
   "outputs": [],
   "source": [
    "# we can sort this function using lambda function \n",
    "square2=lambda x:x**2"
   ]
  },
  {
   "cell_type": "code",
   "execution_count": 4,
   "id": "56005c3c-49c3-44b8-932f-225aa12cacfd",
   "metadata": {},
   "outputs": [
    {
     "data": {
      "text/plain": [
       "16"
      ]
     },
     "execution_count": 4,
     "metadata": {},
     "output_type": "execute_result"
    }
   ],
   "source": [
    "square2(4)"
   ]
  },
  {
   "cell_type": "code",
   "execution_count": 5,
   "id": "2a46622d-a1d0-4032-bfdb-a029c2330df3",
   "metadata": {},
   "outputs": [],
   "source": [
    "# more ex:\n",
    "# now using lambda function we can add two number\n",
    "addition=lambda a,b:a+b # here lambda is keywords and a,b are arguments "
   ]
  },
  {
   "cell_type": "code",
   "execution_count": 7,
   "id": "ce3e5902-0a15-44fb-b341-de4759c8c8f1",
   "metadata": {},
   "outputs": [
    {
     "data": {
      "text/plain": [
       "5"
      ]
     },
     "execution_count": 7,
     "metadata": {},
     "output_type": "execute_result"
    }
   ],
   "source": [
    "addition(2,3)"
   ]
  },
  {
   "cell_type": "code",
   "execution_count": 8,
   "id": "4659aa64-4e61-415e-8954-899ded29cc2e",
   "metadata": {},
   "outputs": [
    {
     "data": {
      "text/plain": [
       "True"
      ]
     },
     "execution_count": 8,
     "metadata": {},
     "output_type": "execute_result"
    }
   ],
   "source": [
    "# even or odd\n",
    "is_even=lambda x:x%2==0\n",
    "is_even(16)"
   ]
  },
  {
   "cell_type": "code",
   "execution_count": 9,
   "id": "7084f50a-bf43-4170-aa4b-17c48477136b",
   "metadata": {},
   "outputs": [
    {
     "data": {
      "text/plain": [
       "False"
      ]
     },
     "execution_count": 9,
     "metadata": {},
     "output_type": "execute_result"
    }
   ],
   "source": [
    "is_even(99)"
   ]
  },
  {
   "cell_type": "code",
   "execution_count": 11,
   "id": "97914343-9dbc-45e9-8bca-dee3597507d9",
   "metadata": {},
   "outputs": [
    {
     "data": {
      "text/plain": [
       "['ajay', 'data science', 'kalyan', 'niki', 'python']"
      ]
     },
     "execution_count": 11,
     "metadata": {},
     "output_type": "execute_result"
    }
   ],
   "source": [
    "x=[\"ajay\",\"niki\",\"python\",\"data science\",\"kalyan\"]\n",
    "sorted(x) # here normal sorting means alphabetical order sorting "
   ]
  },
  {
   "cell_type": "code",
   "execution_count": 13,
   "id": "7e477e10-9874-447d-833a-56ca82ad7619",
   "metadata": {},
   "outputs": [
    {
     "data": {
      "text/plain": [
       "['ajay', 'niki', 'python', 'kalyan', 'data science']"
      ]
     },
     "execution_count": 13,
     "metadata": {},
     "output_type": "execute_result"
    }
   ],
   "source": [
    "# but we want to sort this based on length\n",
    "sorted(x,key=lambda x:len(x))"
   ]
  },
  {
   "cell_type": "code",
   "execution_count": 15,
   "id": "5537bec4-dbc0-4f7b-b535-e875aaabf4ea",
   "metadata": {},
   "outputs": [
    {
     "data": {
      "text/plain": [
       "[0, 1, 1, 2, 3, 5, 8, 13, 21, 34]"
      ]
     },
     "execution_count": 15,
     "metadata": {},
     "output_type": "execute_result"
    }
   ],
   "source": [
    "# fibonacci\n",
    "fib=lambda n:n if n<=1 else fib(n-1)+fib(n-2)\n",
    "[fib(i) for i in range (10)]"
   ]
  },
  {
   "cell_type": "code",
   "execution_count": 19,
   "id": "99dc1d47-ca3c-4f8a-8799-0c91b87a9a1e",
   "metadata": {},
   "outputs": [],
   "source": [
    "# normal factorial fiunction\n",
    "def fact(n):\n",
    "    if (n==0):\n",
    "        return 1\n",
    "    else:\n",
    "        return n*fact(n-1)\n",
    "    "
   ]
  },
  {
   "cell_type": "code",
   "execution_count": 20,
   "id": "9155bf00-2734-4cbc-a42c-9e09815287b0",
   "metadata": {},
   "outputs": [
    {
     "data": {
      "text/plain": [
       "120"
      ]
     },
     "execution_count": 20,
     "metadata": {},
     "output_type": "execute_result"
    }
   ],
   "source": [
    "fact(5)"
   ]
  },
  {
   "cell_type": "code",
   "execution_count": 21,
   "id": "8f51dc11-d180-487f-ab11-05903b05bbfe",
   "metadata": {},
   "outputs": [
    {
     "data": {
      "text/plain": [
       "1"
      ]
     },
     "execution_count": 21,
     "metadata": {},
     "output_type": "execute_result"
    }
   ],
   "source": [
    "fact(1)"
   ]
  },
  {
   "cell_type": "code",
   "execution_count": 31,
   "id": "320231ec-2491-4c4e-80c6-8c1049dc7079",
   "metadata": {},
   "outputs": [],
   "source": [
    "# factorial\n",
    "fact_num=lambda n:1 if n==0 else n*fact_num(n-1)"
   ]
  },
  {
   "cell_type": "code",
   "execution_count": 32,
   "id": "fdddb215-4112-4ea3-aa3c-a9a1580f4a55",
   "metadata": {},
   "outputs": [
    {
     "data": {
      "text/plain": [
       "120"
      ]
     },
     "execution_count": 32,
     "metadata": {},
     "output_type": "execute_result"
    }
   ],
   "source": [
    "fact_num(5)"
   ]
  },
  {
   "cell_type": "code",
   "execution_count": 33,
   "id": "4fea60b1-4dbf-4a94-8076-9fa17b81452b",
   "metadata": {},
   "outputs": [
    {
     "name": "stdout",
     "output_type": "stream",
     "text": [
      "Help on class map in module builtins:\n",
      "\n",
      "class map(object)\n",
      " |  map(func, *iterables) --> map object\n",
      " |  \n",
      " |  Make an iterator that computes the function using arguments from\n",
      " |  each of the iterables.  Stops when the shortest iterable is exhausted.\n",
      " |  \n",
      " |  Methods defined here:\n",
      " |  \n",
      " |  __getattribute__(self, name, /)\n",
      " |      Return getattr(self, name).\n",
      " |  \n",
      " |  __iter__(self, /)\n",
      " |      Implement iter(self).\n",
      " |  \n",
      " |  __next__(self, /)\n",
      " |      Implement next(self).\n",
      " |  \n",
      " |  __reduce__(...)\n",
      " |      Return state information for pickling.\n",
      " |  \n",
      " |  ----------------------------------------------------------------------\n",
      " |  Static methods defined here:\n",
      " |  \n",
      " |  __new__(*args, **kwargs) from builtins.type\n",
      " |      Create and return a new object.  See help(type) for accurate signature.\n",
      "\n"
     ]
    }
   ],
   "source": [
    "# map ->>Make an iterator that computes the function using arguments from each of the iterables.  Stops when the shortest iterable is exhausted\n",
    "# syntax\n",
    "# map(func,*iterables)\n",
    "help(map)"
   ]
  },
  {
   "cell_type": "code",
   "execution_count": 4,
   "id": "c0b3df94-0c33-4fd2-9ce0-3e3e3d8e9411",
   "metadata": {},
   "outputs": [],
   "source": [
    "# normally square a list\n",
    "a=[1,2,3,4]\n",
    "def squarenum(a):\n",
    "    ans=[]\n",
    "    for i in a:\n",
    "        \n",
    "        ans.append(i**2)\n",
    "    return ans"
   ]
  },
  {
   "cell_type": "code",
   "execution_count": 5,
   "id": "3f8b7a0e-9473-45cc-8f68-f6497783d9c3",
   "metadata": {},
   "outputs": [
    {
     "data": {
      "text/plain": [
       "[1, 4, 9, 16]"
      ]
     },
     "execution_count": 5,
     "metadata": {},
     "output_type": "execute_result"
    }
   ],
   "source": [
    "squarenum(a)"
   ]
  },
  {
   "cell_type": "code",
   "execution_count": 6,
   "id": "dc693a95-6170-4b8a-8c4a-903b86534d0f",
   "metadata": {},
   "outputs": [],
   "source": [
    "# using map \n",
    "def sq(x):\n",
    "    return x**2"
   ]
  },
  {
   "cell_type": "code",
   "execution_count": 8,
   "id": "a6e3b55a-649c-45ae-8278-25443f559235",
   "metadata": {},
   "outputs": [
    {
     "data": {
      "text/plain": [
       "<map at 0x23c6b7ea8c0>"
      ]
     },
     "execution_count": 8,
     "metadata": {},
     "output_type": "execute_result"
    }
   ],
   "source": [
    "map(sq,a)"
   ]
  },
  {
   "cell_type": "code",
   "execution_count": 10,
   "id": "f9057fe7-16f0-4638-8996-3928dd4716bc",
   "metadata": {},
   "outputs": [
    {
     "data": {
      "text/plain": [
       "[1, 4, 9, 16]"
      ]
     },
     "execution_count": 10,
     "metadata": {},
     "output_type": "execute_result"
    }
   ],
   "source": [
    "list(map(sq,a))"
   ]
  },
  {
   "cell_type": "code",
   "execution_count": 11,
   "id": "cbbfaa25-0690-493e-9866-9291a6c18cd7",
   "metadata": {},
   "outputs": [
    {
     "data": {
      "text/plain": [
       "[1, 4, 9, 16, 25]"
      ]
     },
     "execution_count": 11,
     "metadata": {},
     "output_type": "execute_result"
    }
   ],
   "source": [
    "# using lambda with map\n",
    "l=[1,2,3,4,5]\n",
    "list(map(lambda x:x**2,l))"
   ]
  },
  {
   "cell_type": "code",
   "execution_count": 12,
   "id": "56dd92d2-2263-46e3-a2a2-90c275ee5724",
   "metadata": {},
   "outputs": [
    {
     "data": {
      "text/plain": [
       "[11, 12, 13, 14, 15]"
      ]
     },
     "execution_count": 12,
     "metadata": {},
     "output_type": "execute_result"
    }
   ],
   "source": [
    "# also add +10 with all\n",
    "l=[1,2,3,4,5]\n",
    "list(map(lambda x:x+10,l))"
   ]
  },
  {
   "cell_type": "code",
   "execution_count": 13,
   "id": "9dba4c56-116e-40fc-9e16-b65825bfb464",
   "metadata": {},
   "outputs": [
    {
     "data": {
      "text/plain": [
       "[1, 2, 3]"
      ]
     },
     "execution_count": 13,
     "metadata": {},
     "output_type": "execute_result"
    }
   ],
   "source": [
    "# another use cases string to int \n",
    "l=[\"1\",\"2\",\"3\"]\n",
    "list(map(lambda x:int(x),l))"
   ]
  },
  {
   "cell_type": "code",
   "execution_count": 14,
   "id": "872fe486-6d19-437d-a2ab-4b6fcd35b36b",
   "metadata": {},
   "outputs": [
    {
     "data": {
      "text/plain": [
       "[201, 302, 403]"
      ]
     },
     "execution_count": 14,
     "metadata": {},
     "output_type": "execute_result"
    }
   ],
   "source": [
    "#another usecases add two list\n",
    "l1=[100,200,300]\n",
    "l2=[101,102,103]\n",
    "list(map(lambda x,y:x+y,l1,l2))"
   ]
  },
  {
   "cell_type": "code",
   "execution_count": 15,
   "id": "9aa2f0dd-46cf-4414-9abd-2a457672ea31",
   "metadata": {},
   "outputs": [
    {
     "data": {
      "text/plain": [
       "'PWSKILLS'"
      ]
     },
     "execution_count": 15,
     "metadata": {},
     "output_type": "execute_result"
    }
   ],
   "source": [
    "s=\"pwskills\"\n",
    "s.upper()"
   ]
  },
  {
   "cell_type": "code",
   "execution_count": 18,
   "id": "4e705792-b7ba-4def-a225-054408ff9098",
   "metadata": {},
   "outputs": [
    {
     "data": {
      "text/plain": [
       "['H', 'A', 'R', 'E', ' ', 'K', 'R', 'I', 'S', 'N', 'A']"
      ]
     },
     "execution_count": 18,
     "metadata": {},
     "output_type": "execute_result"
    }
   ],
   "source": [
    "# using map\n",
    "k=\"hare krisna\"\n",
    "list(map(lambda x:x.upper(),k))"
   ]
  },
  {
   "cell_type": "code",
   "execution_count": 20,
   "id": "4aeca888-cd06-4d7d-a588-d830488c34b0",
   "metadata": {},
   "outputs": [
    {
     "data": {
      "text/plain": [
       "['PYTHON', 'RAM']"
      ]
     },
     "execution_count": 20,
     "metadata": {},
     "output_type": "execute_result"
    }
   ],
   "source": [
    "words=[\"python\",\"ram\"]\n",
    "list(map(lambda x:x.upper(),words))"
   ]
  },
  {
   "cell_type": "code",
   "execution_count": 24,
   "id": "d1207204-a358-4da3-9dd0-a1dd736924be",
   "metadata": {},
   "outputs": [
    {
     "data": {
      "text/plain": [
       "[4, 3, 2]"
      ]
     },
     "execution_count": 24,
     "metadata": {},
     "output_type": "execute_result"
    }
   ],
   "source": [
    "grades=[\"A\",\"B\",\"C\"]\n",
    "list(map(lambda x:4 if x==\"A\"else (3 if x==\"B\" else 2 ),grades))"
   ]
  },
  {
   "cell_type": "code",
   "execution_count": 2,
   "id": "01f6469f-1442-44b7-b2bf-367bd811864f",
   "metadata": {},
   "outputs": [
    {
     "data": {
      "text/plain": [
       "21"
      ]
     },
     "execution_count": 2,
     "metadata": {},
     "output_type": "execute_result"
    }
   ],
   "source": [
    "# reduce ->> folding /reduction\n",
    "# reduce is not python keywords so we have to import this keywords from functools library \n",
    "# syntax : reduce(func,iterable)\n",
    "# reduce will always take two argument function \n",
    "from functools import reduce\n",
    "l=[1,2,3,4,5,6]\n",
    "reduce(lambda x,y:x+y,l)"
   ]
  },
  {
   "cell_type": "code",
   "execution_count": 3,
   "id": "aae3dabd-79b1-490b-a28d-18bcc0493e00",
   "metadata": {},
   "outputs": [
    {
     "ename": "TypeError",
     "evalue": "<lambda>() missing 1 required positional argument: 'z'",
     "output_type": "error",
     "traceback": [
      "\u001b[1;31m---------------------------------------------------------------------------\u001b[0m",
      "\u001b[1;31mTypeError\u001b[0m                                 Traceback (most recent call last)",
      "Cell \u001b[1;32mIn[3], line 2\u001b[0m\n\u001b[0;32m      1\u001b[0m \u001b[38;5;66;03m# if wwe use more than two arguments then reduce will take the error\u001b[39;00m\n\u001b[1;32m----> 2\u001b[0m reduce (\u001b[38;5;28;01mlambda\u001b[39;00m x,y,z:x\u001b[38;5;241m+\u001b[39my\u001b[38;5;241m+\u001b[39mz,l)\n",
      "\u001b[1;31mTypeError\u001b[0m: <lambda>() missing 1 required positional argument: 'z'"
     ]
    }
   ],
   "source": [
    "# if wwe use more than two arguments then reduce will take the error\n",
    "reduce (lambda x,y,z:x+y+z,l)"
   ]
  },
  {
   "cell_type": "code",
   "execution_count": 4,
   "id": "37bd79e2-d427-4b33-864b-57f4b5dedc41",
   "metadata": {},
   "outputs": [
    {
     "data": {
      "text/plain": [
       "720"
      ]
     },
     "execution_count": 4,
     "metadata": {},
     "output_type": "execute_result"
    }
   ],
   "source": [
    "l=[1,2,3,4,5,6]\n",
    "reduce(lambda x,y:x*y,l)"
   ]
  },
  {
   "cell_type": "code",
   "execution_count": 5,
   "id": "955a7075-c052-48e7-a100-dd0493a8fe2d",
   "metadata": {},
   "outputs": [
    {
     "data": {
      "text/plain": [
       "'data science courses'"
      ]
     },
     "execution_count": 5,
     "metadata": {},
     "output_type": "execute_result"
    }
   ],
   "source": [
    "words=[\"data\",\"science\",\"courses\"]\n",
    "reduce(lambda x,y:x+\" \"+y,words)"
   ]
  },
  {
   "cell_type": "code",
   "execution_count": 6,
   "id": "b1bc2a1b-14bd-465c-b46b-7704963775ca",
   "metadata": {},
   "outputs": [
    {
     "data": {
      "text/plain": [
       "1000000000"
      ]
     },
     "execution_count": 6,
     "metadata": {},
     "output_type": "execute_result"
    }
   ],
   "source": [
    "# based on condition \n",
    "l1=[100,2,500,5,10000,102,1000000000]\n",
    "reduce(lambda x,y:x if x>y else y,l1)"
   ]
  },
  {
   "cell_type": "code",
   "execution_count": 7,
   "id": "01b0140e-2396-41ec-9779-cad21061f670",
   "metadata": {},
   "outputs": [],
   "source": [
    "def factorial(n):\n",
    "    return reduce(lambda x,y:x*y,range(1,n+1))"
   ]
  },
  {
   "cell_type": "code",
   "execution_count": 8,
   "id": "7a981a6f-bdb6-40b1-8648-6c588c6ba939",
   "metadata": {},
   "outputs": [
    {
     "data": {
      "text/plain": [
       "120"
      ]
     },
     "execution_count": 8,
     "metadata": {},
     "output_type": "execute_result"
    }
   ],
   "source": [
    "factorial(5)"
   ]
  },
  {
   "cell_type": "code",
   "execution_count": 1,
   "id": "0acacbbe-d8fb-4e2e-80ee-80a3c26696c9",
   "metadata": {},
   "outputs": [
    {
     "data": {
      "text/plain": [
       "12"
      ]
     },
     "execution_count": 1,
     "metadata": {},
     "output_type": "execute_result"
    }
   ],
   "source": [
    "# filter function:it is used to filter element from an iterable based on some condition\n",
    "# syntax: filter(func,iterable)\n",
    "# find out all even no inside a list \n",
    "l1=[1,2,3,4,5,6]\n",
    "list(filter(lambda n:n%2==0,l1))\n",
    "sum(filter(lambda n:n%2==0,l1))\n"
   ]
  },
  {
   "cell_type": "code",
   "execution_count": 11,
   "id": "9457bb8c-2646-42a3-990e-72f080d352ec",
   "metadata": {},
   "outputs": [
    {
     "data": {
      "text/plain": [
       "[1, 3, 5]"
      ]
     },
     "execution_count": 11,
     "metadata": {},
     "output_type": "execute_result"
    }
   ],
   "source": [
    "# odd\n",
    "l1=[1,2,3,4,5,6]\n",
    "list(filter(lambda n:n%2!=0,l1))"
   ]
  },
  {
   "cell_type": "code",
   "execution_count": 12,
   "id": "b4151b7b-f546-489c-b267-2b371f04dfef",
   "metadata": {},
   "outputs": [
    {
     "data": {
      "text/plain": [
       "[-1, -2, -4]"
      ]
     },
     "execution_count": 12,
     "metadata": {},
     "output_type": "execute_result"
    }
   ],
   "source": [
    "l2=[-1,-2,3,5,-4]\n",
    "\n",
    "list(filter(lambda n:n<0,l2))"
   ]
  },
  {
   "cell_type": "code",
   "execution_count": 13,
   "id": "2e0b6989-67e4-4eb1-b023-50bb1bf4f257",
   "metadata": {},
   "outputs": [
    {
     "data": {
      "text/plain": [
       "[3, 5]"
      ]
     },
     "execution_count": 13,
     "metadata": {},
     "output_type": "execute_result"
    }
   ],
   "source": [
    "# positive\n",
    "l2=[-1,-2,3,5,-4]\n",
    "\n",
    "list(filter(lambda n:n>0,l2))"
   ]
  },
  {
   "cell_type": "code",
   "execution_count": 14,
   "id": "52b5497d-a52c-4a57-be4e-0c39584cfe1b",
   "metadata": {},
   "outputs": [
    {
     "data": {
      "text/plain": [
       "['science', 'courses']"
      ]
     },
     "execution_count": 14,
     "metadata": {},
     "output_type": "execute_result"
    }
   ],
   "source": [
    "words=[\"data\",\"science\",\"courses\"]\n",
    "list(filter(lambda x:len(x)>5,words))"
   ]
  },
  {
   "cell_type": "code",
   "execution_count": 15,
   "id": "8a631e2e-a750-4672-8ca1-399737b68743",
   "metadata": {},
   "outputs": [],
   "source": [
    "# you can also put any function in place of lambda function \n",
    "# ex\n",
    "def check_even(num):\n",
    "    if num%2==0:\n",
    "        return True\n",
    "    return False"
   ]
  },
  {
   "cell_type": "code",
   "execution_count": 16,
   "id": "b0a0c78a-ffe4-48d0-b234-a4e468760b80",
   "metadata": {},
   "outputs": [
    {
     "data": {
      "text/plain": [
       "[2, 4, 6, 8, 10]"
      ]
     },
     "execution_count": 16,
     "metadata": {},
     "output_type": "execute_result"
    }
   ],
   "source": [
    "l=[1,2,3,4,5,6,7,8,9,10]\n",
    "list(filter(check_even,l))"
   ]
  },
  {
   "cell_type": "code",
   "execution_count": null,
   "id": "0b0adc8e-b856-485e-b7cb-0f45deaa3994",
   "metadata": {},
   "outputs": [],
   "source": []
  }
 ],
 "metadata": {
  "kernelspec": {
   "display_name": "Python 3 (ipykernel)",
   "language": "python",
   "name": "python3"
  },
  "language_info": {
   "codemirror_mode": {
    "name": "ipython",
    "version": 3
   },
   "file_extension": ".py",
   "mimetype": "text/x-python",
   "name": "python",
   "nbconvert_exporter": "python",
   "pygments_lexer": "ipython3",
   "version": "3.11.7"
  }
 },
 "nbformat": 4,
 "nbformat_minor": 5
}
