{
 "cells": [
  {
   "cell_type": "code",
   "execution_count": 1,
   "id": "15967a59-eb4a-4a43-9942-424574a3880e",
   "metadata": {},
   "outputs": [],
   "source": [
    "import numpy as np"
   ]
  },
  {
   "cell_type": "code",
   "execution_count": 4,
   "id": "897e0378-cc85-4696-af73-af0ce1be9eb8",
   "metadata": {},
   "outputs": [],
   "source": [
    "a=np.zeros(5)   #Return a new array of given shape and type, filled with zeros."
   ]
  },
  {
   "cell_type": "code",
   "execution_count": 5,
   "id": "8b3016bf-82d9-4936-9824-0f3fdd42c679",
   "metadata": {},
   "outputs": [
    {
     "data": {
      "text/plain": [
       "array([0., 0., 0., 0., 0.])"
      ]
     },
     "execution_count": 5,
     "metadata": {},
     "output_type": "execute_result"
    }
   ],
   "source": [
    "a"
   ]
  },
  {
   "cell_type": "code",
   "execution_count": 6,
   "id": "0ade7043-a59a-4533-bd85-68fd87a156d5",
   "metadata": {},
   "outputs": [
    {
     "data": {
      "text/plain": [
       "1"
      ]
     },
     "execution_count": 6,
     "metadata": {},
     "output_type": "execute_result"
    }
   ],
   "source": [
    "a.ndim"
   ]
  },
  {
   "cell_type": "code",
   "execution_count": 7,
   "id": "8e648049-57f3-4f7a-8e1b-e7eb3a29cae3",
   "metadata": {},
   "outputs": [],
   "source": [
    "b=np.zeros(5,dtype=int) "
   ]
  },
  {
   "cell_type": "code",
   "execution_count": 8,
   "id": "5cebe2d9-483f-4355-a3da-c1b817d5f55e",
   "metadata": {},
   "outputs": [
    {
     "data": {
      "text/plain": [
       "array([0, 0, 0, 0, 0])"
      ]
     },
     "execution_count": 8,
     "metadata": {},
     "output_type": "execute_result"
    }
   ],
   "source": [
    "b"
   ]
  },
  {
   "cell_type": "code",
   "execution_count": 11,
   "id": "e7b8325e-7c0f-402e-9d13-fac8f223f366",
   "metadata": {},
   "outputs": [],
   "source": [
    "a=np.zeros((3,4),dtype=int)"
   ]
  },
  {
   "cell_type": "code",
   "execution_count": 12,
   "id": "ea6590d2-aa64-4fbe-a3dc-2cad7f003715",
   "metadata": {},
   "outputs": [
    {
     "data": {
      "text/plain": [
       "array([[0, 0, 0, 0],\n",
       "       [0, 0, 0, 0],\n",
       "       [0, 0, 0, 0]])"
      ]
     },
     "execution_count": 12,
     "metadata": {},
     "output_type": "execute_result"
    }
   ],
   "source": [
    "a"
   ]
  },
  {
   "cell_type": "code",
   "execution_count": 13,
   "id": "4f38e5b6-1e1d-41c6-8891-7abdae7129b6",
   "metadata": {},
   "outputs": [
    {
     "data": {
      "text/plain": [
       "2"
      ]
     },
     "execution_count": 13,
     "metadata": {},
     "output_type": "execute_result"
    }
   ],
   "source": [
    "a.ndim"
   ]
  },
  {
   "cell_type": "code",
   "execution_count": 6,
   "id": "6f8be204-83e8-4812-b03c-79f13850027e",
   "metadata": {},
   "outputs": [],
   "source": [
    "c= np.ones(5, dtype=int)"
   ]
  },
  {
   "cell_type": "code",
   "execution_count": 7,
   "id": "09675ed6-40a7-44f0-b435-6d4feb2ef963",
   "metadata": {},
   "outputs": [
    {
     "data": {
      "text/plain": [
       "array([1, 1, 1, 1, 1])"
      ]
     },
     "execution_count": 7,
     "metadata": {},
     "output_type": "execute_result"
    }
   ],
   "source": [
    "c"
   ]
  },
  {
   "cell_type": "code",
   "execution_count": 13,
   "id": "9f130a50-6280-4695-b174-32551bec90d5",
   "metadata": {},
   "outputs": [],
   "source": [
    "k=np.ones((4,5),dtype=int)"
   ]
  },
  {
   "cell_type": "code",
   "execution_count": 14,
   "id": "6a9ec553-320c-4548-922d-42df37a1252d",
   "metadata": {},
   "outputs": [
    {
     "data": {
      "text/plain": [
       "array([[1, 1, 1, 1, 1],\n",
       "       [1, 1, 1, 1, 1],\n",
       "       [1, 1, 1, 1, 1],\n",
       "       [1, 1, 1, 1, 1]])"
      ]
     },
     "execution_count": 14,
     "metadata": {},
     "output_type": "execute_result"
    }
   ],
   "source": [
    "k"
   ]
  },
  {
   "cell_type": "code",
   "execution_count": 15,
   "id": "ff5ed9e5-b5d5-40ad-8935-33ffb02613e9",
   "metadata": {},
   "outputs": [
    {
     "data": {
      "text/plain": [
       "array([[12, 12, 23, 18],\n",
       "       [24, 25, 26, 27]])"
      ]
     },
     "execution_count": 15,
     "metadata": {},
     "output_type": "execute_result"
    }
   ],
   "source": [
    "np.array([[12,12,23,18],[24,25,26,27]])"
   ]
  },
  {
   "cell_type": "code",
   "execution_count": 16,
   "id": "16af0599-955e-41d9-bfa5-228d99beea8f",
   "metadata": {},
   "outputs": [],
   "source": [
    "# creating three dimension array \n"
   ]
  },
  {
   "cell_type": "code",
   "execution_count": 17,
   "id": "aeec9f2c-0a5b-4ef5-af27-663c8f701006",
   "metadata": {},
   "outputs": [
    {
     "data": {
      "text/plain": [
       "array([0, 0, 0, 0])"
      ]
     },
     "execution_count": 17,
     "metadata": {},
     "output_type": "execute_result"
    }
   ],
   "source": [
    "# this is first dimension \n",
    "np.zeros(4,dtype=int)"
   ]
  },
  {
   "cell_type": "code",
   "execution_count": 18,
   "id": "031b27bc-74b5-436d-adcf-20f10465de3d",
   "metadata": {},
   "outputs": [
    {
     "data": {
      "text/plain": [
       "array([[0, 0, 0, 0],\n",
       "       [0, 0, 0, 0],\n",
       "       [0, 0, 0, 0]])"
      ]
     },
     "execution_count": 18,
     "metadata": {},
     "output_type": "execute_result"
    }
   ],
   "source": [
    "# two dimension\n",
    "np.zeros((3,4),dtype=int)"
   ]
  },
  {
   "cell_type": "code",
   "execution_count": 20,
   "id": "fbb8fd88-2d4f-44c8-8663-99feada7580e",
   "metadata": {},
   "outputs": [
    {
     "data": {
      "text/plain": [
       "array([[[0., 0., 0., 0.],\n",
       "        [0., 0., 0., 0.],\n",
       "        [0., 0., 0., 0.]]])"
      ]
     },
     "execution_count": 20,
     "metadata": {},
     "output_type": "execute_result"
    }
   ],
   "source": [
    "# three dimension \n",
    "np.zeros((1,3,4)) # here 3 is row and 4 is colums and 1 is another dimension "
   ]
  },
  {
   "cell_type": "code",
   "execution_count": 22,
   "id": "0bdda4db-3ec0-4a47-be9e-79b3f58d723a",
   "metadata": {},
   "outputs": [],
   "source": [
    "arr=np.zeros((3,4,5),dtype=int)"
   ]
  },
  {
   "cell_type": "code",
   "execution_count": 23,
   "id": "07ad94be-9022-4960-9b57-096a4db6fdef",
   "metadata": {},
   "outputs": [
    {
     "data": {
      "text/plain": [
       "array([[[0, 0, 0, 0, 0],\n",
       "        [0, 0, 0, 0, 0],\n",
       "        [0, 0, 0, 0, 0],\n",
       "        [0, 0, 0, 0, 0]],\n",
       "\n",
       "       [[0, 0, 0, 0, 0],\n",
       "        [0, 0, 0, 0, 0],\n",
       "        [0, 0, 0, 0, 0],\n",
       "        [0, 0, 0, 0, 0]],\n",
       "\n",
       "       [[0, 0, 0, 0, 0],\n",
       "        [0, 0, 0, 0, 0],\n",
       "        [0, 0, 0, 0, 0],\n",
       "        [0, 0, 0, 0, 0]]])"
      ]
     },
     "execution_count": 23,
     "metadata": {},
     "output_type": "execute_result"
    }
   ],
   "source": [
    "arr"
   ]
  },
  {
   "cell_type": "code",
   "execution_count": 24,
   "id": "7488bc87-2f09-4459-bfbf-ed8134d36f01",
   "metadata": {},
   "outputs": [
    {
     "data": {
      "text/plain": [
       "3"
      ]
     },
     "execution_count": 24,
     "metadata": {},
     "output_type": "execute_result"
    }
   ],
   "source": [
    "arr.ndim"
   ]
  },
  {
   "cell_type": "code",
   "execution_count": 25,
   "id": "8c40bd21-eec8-454a-98a8-9c513f5854f8",
   "metadata": {},
   "outputs": [],
   "source": [
    "# create more dimension array\n",
    "b=np.zeros((2,3,4,5),dtype=int)  # this is 4 dimension array ->> create more dimensios(n dimension) then np.zeros(n number of  element)"
   ]
  },
  {
   "cell_type": "code",
   "execution_count": 27,
   "id": "02cb0473-3dee-4c45-a8d7-08919d9439ba",
   "metadata": {},
   "outputs": [
    {
     "data": {
      "text/plain": [
       "array([[[[0, 0, 0, 0, 0],\n",
       "         [0, 0, 0, 0, 0],\n",
       "         [0, 0, 0, 0, 0],\n",
       "         [0, 0, 0, 0, 0]],\n",
       "\n",
       "        [[0, 0, 0, 0, 0],\n",
       "         [0, 0, 0, 0, 0],\n",
       "         [0, 0, 0, 0, 0],\n",
       "         [0, 0, 0, 0, 0]],\n",
       "\n",
       "        [[0, 0, 0, 0, 0],\n",
       "         [0, 0, 0, 0, 0],\n",
       "         [0, 0, 0, 0, 0],\n",
       "         [0, 0, 0, 0, 0]]],\n",
       "\n",
       "\n",
       "       [[[0, 0, 0, 0, 0],\n",
       "         [0, 0, 0, 0, 0],\n",
       "         [0, 0, 0, 0, 0],\n",
       "         [0, 0, 0, 0, 0]],\n",
       "\n",
       "        [[0, 0, 0, 0, 0],\n",
       "         [0, 0, 0, 0, 0],\n",
       "         [0, 0, 0, 0, 0],\n",
       "         [0, 0, 0, 0, 0]],\n",
       "\n",
       "        [[0, 0, 0, 0, 0],\n",
       "         [0, 0, 0, 0, 0],\n",
       "         [0, 0, 0, 0, 0],\n",
       "         [0, 0, 0, 0, 0]]]])"
      ]
     },
     "execution_count": 27,
     "metadata": {},
     "output_type": "execute_result"
    }
   ],
   "source": [
    "b"
   ]
  },
  {
   "cell_type": "code",
   "execution_count": 28,
   "id": "c4697a75-5caa-408c-82a8-d095cec77619",
   "metadata": {},
   "outputs": [
    {
     "data": {
      "text/plain": [
       "4"
      ]
     },
     "execution_count": 28,
     "metadata": {},
     "output_type": "execute_result"
    }
   ],
   "source": [
    "b.ndim"
   ]
  },
  {
   "cell_type": "code",
   "execution_count": 52,
   "id": "e975102d-8f56-484e-a49d-c362cd338616",
   "metadata": {},
   "outputs": [],
   "source": [
    "# create an array \n",
    "arr=np.zeros((3,4),dtype=int)"
   ]
  },
  {
   "cell_type": "code",
   "execution_count": 53,
   "id": "343a4ed3-a57e-4d48-936d-9b05c53bb5c8",
   "metadata": {},
   "outputs": [
    {
     "data": {
      "text/plain": [
       "array([[0, 0, 0, 0],\n",
       "       [0, 0, 0, 0],\n",
       "       [0, 0, 0, 0]])"
      ]
     },
     "execution_count": 53,
     "metadata": {},
     "output_type": "execute_result"
    }
   ],
   "source": [
    "arr"
   ]
  },
  {
   "cell_type": "code",
   "execution_count": 54,
   "id": "1178557d-7119-4b28-a240-cde9d1ae7037",
   "metadata": {},
   "outputs": [],
   "source": [
    "# now we want to add all element as 5 then \n",
    "arr1=arr+5"
   ]
  },
  {
   "cell_type": "code",
   "execution_count": 55,
   "id": "3822323f-ef47-4628-8e95-3dc0fbd2071f",
   "metadata": {},
   "outputs": [
    {
     "data": {
      "text/plain": [
       "array([[5, 5, 5, 5],\n",
       "       [5, 5, 5, 5],\n",
       "       [5, 5, 5, 5]])"
      ]
     },
     "execution_count": 55,
     "metadata": {},
     "output_type": "execute_result"
    }
   ],
   "source": [
    "arr1"
   ]
  },
  {
   "cell_type": "code",
   "execution_count": 56,
   "id": "0267f94a-583e-4a05-b492-a60019549ef6",
   "metadata": {},
   "outputs": [],
   "source": [
    "arr2=arr1+5"
   ]
  },
  {
   "cell_type": "code",
   "execution_count": 57,
   "id": "9ae525dd-2e2f-4cc4-9364-c52fe75661c0",
   "metadata": {},
   "outputs": [
    {
     "data": {
      "text/plain": [
       "array([[10, 10, 10, 10],\n",
       "       [10, 10, 10, 10],\n",
       "       [10, 10, 10, 10]])"
      ]
     },
     "execution_count": 57,
     "metadata": {},
     "output_type": "execute_result"
    }
   ],
   "source": [
    "arr2"
   ]
  },
  {
   "cell_type": "raw",
   "id": "a94746cb-0235-457c-989c-ad6abb3552d5",
   "metadata": {},
   "source": [
    "arr3=arr2+2"
   ]
  },
  {
   "cell_type": "code",
   "execution_count": 61,
   "id": "2f72afcc-290e-449b-ba76-8273f9f5b72e",
   "metadata": {},
   "outputs": [
    {
     "data": {
      "text/plain": [
       "array([[12, 12, 12, 12],\n",
       "       [12, 12, 12, 12],\n",
       "       [12, 12, 12, 12]])"
      ]
     },
     "execution_count": 61,
     "metadata": {},
     "output_type": "execute_result"
    }
   ],
   "source": [
    "arr3"
   ]
  },
  {
   "cell_type": "code",
   "execution_count": 63,
   "id": "7bac0a31-4478-4d99-a11c-9996b9528654",
   "metadata": {},
   "outputs": [
    {
     "data": {
      "text/plain": [
       "array([[24, 24, 24, 24],\n",
       "       [24, 24, 24, 24],\n",
       "       [24, 24, 24, 24]])"
      ]
     },
     "execution_count": 63,
     "metadata": {},
     "output_type": "execute_result"
    }
   ],
   "source": [
    "arr3*2  # multiplication "
   ]
  },
  {
   "cell_type": "code",
   "execution_count": 64,
   "id": "2288b7c1-e7b0-4173-9223-7e8a8b7b06f9",
   "metadata": {},
   "outputs": [
    {
     "data": {
      "text/plain": [
       "array([[11, 11, 11, 11],\n",
       "       [11, 11, 11, 11],\n",
       "       [11, 11, 11, 11]])"
      ]
     },
     "execution_count": 64,
     "metadata": {},
     "output_type": "execute_result"
    }
   ],
   "source": [
    "arr3-1"
   ]
  },
  {
   "cell_type": "code",
   "execution_count": 76,
   "id": "96b93c77-0274-4655-9800-0050396bf790",
   "metadata": {},
   "outputs": [
    {
     "data": {
      "text/plain": [
       "'int\\n  Number of rows in the output.\\nM : int, optional\\n  Number of columns in the output. If None, defaults to `N`.\\nk : int, optional\\n  Index of the diagonal: 0 (the default) refers to the main diagonal,\\n  a positive value refers to an upper diagonal, and a negative value\\n  to a lower diagonal.\\ndtype : data-type, optional\\n  Data-type of the returned array.'"
      ]
     },
     "execution_count": 76,
     "metadata": {},
     "output_type": "execute_result"
    }
   ],
   "source": [
    "# identity matrix\n",
    "identity=np.eye(3,3,dtype=int)  # Return a 2-D array with ones on the diagonal and zeros elsewhere.\n",
    "# syntax:np.eye(N, M=None, k=0, dtype=<class 'float'>, order='C', *, like=None)\n",
    "# N :\n",
    "\"\"\"int\n",
    "  Number of rows in the output.\n",
    "M : int, optional\n",
    "  Number of columns in the output. If None, defaults to `N`.\n",
    "k : int, optional\n",
    "  Index of the diagonal: 0 (the default) refers to the main diagonal,\n",
    "  a positive value refers to an upper diagonal, and a negative value\n",
    "  to a lower diagonal.\n",
    "dtype : data-type, optional\n",
    "  Data-type of the returned array.\"\"\"\n",
    "\n"
   ]
  },
  {
   "cell_type": "code",
   "execution_count": 77,
   "id": "edc448b4-c23b-4482-a77e-b67ae574b1d3",
   "metadata": {},
   "outputs": [
    {
     "data": {
      "text/plain": [
       "array([[1, 0, 0],\n",
       "       [0, 1, 0],\n",
       "       [0, 0, 1]])"
      ]
     },
     "execution_count": 77,
     "metadata": {},
     "output_type": "execute_result"
    }
   ],
   "source": [
    "identity"
   ]
  },
  {
   "cell_type": "code",
   "execution_count": 78,
   "id": "f10b8412-cf83-4f39-9d60-69daef11265a",
   "metadata": {},
   "outputs": [],
   "source": [
    "iden1=np.eye(5)"
   ]
  },
  {
   "cell_type": "code",
   "execution_count": 79,
   "id": "aa472bd4-16f2-4ead-bb16-58ac33f03858",
   "metadata": {},
   "outputs": [
    {
     "data": {
      "text/plain": [
       "array([[1., 0., 0., 0., 0.],\n",
       "       [0., 1., 0., 0., 0.],\n",
       "       [0., 0., 1., 0., 0.],\n",
       "       [0., 0., 0., 1., 0.],\n",
       "       [0., 0., 0., 0., 1.]])"
      ]
     },
     "execution_count": 79,
     "metadata": {},
     "output_type": "execute_result"
    }
   ],
   "source": [
    "iden1"
   ]
  },
  {
   "cell_type": "code",
   "execution_count": 94,
   "id": "8fcecceb-1040-4866-94a3-a7f242862b34",
   "metadata": {},
   "outputs": [],
   "source": [
    "# empty\n",
    "em=np.empty((3,3))  # Return a new array of given shape and type, without initializing entries. it means it returns any value of given shape"
   ]
  },
  {
   "cell_type": "code",
   "execution_count": 95,
   "id": "ad219d97-ac15-4762-be3f-e58f7f47da9b",
   "metadata": {},
   "outputs": [
    {
     "data": {
      "text/plain": [
       "array([[0.e+000, 0.e+000, 0.e+000],\n",
       "       [0.e+000, 0.e+000, 1.e-320],\n",
       "       [0.e+000, 0.e+000, 0.e+000]])"
      ]
     },
     "execution_count": 95,
     "metadata": {},
     "output_type": "execute_result"
    }
   ],
   "source": [
    "em"
   ]
  },
  {
   "cell_type": "code",
   "execution_count": 97,
   "id": "916b2443-4aca-43dc-9d70-316348f552f0",
   "metadata": {},
   "outputs": [
    {
     "data": {
      "text/plain": [
       "5"
      ]
     },
     "execution_count": 97,
     "metadata": {},
     "output_type": "execute_result"
    }
   ],
   "source": [
    "# optional >>> randomly\n",
    "import random \n",
    "random.choice((2,3,4,5))"
   ]
  },
  {
   "cell_type": "code",
   "execution_count": 100,
   "id": "5d82e3f7-0b5b-4f2b-ab8a-ec1dafd0a434",
   "metadata": {},
   "outputs": [
    {
     "data": {
      "text/plain": [
       "'i'"
      ]
     },
     "execution_count": 100,
     "metadata": {},
     "output_type": "execute_result"
    }
   ],
   "source": [
    "random.choice((\"niki\"))"
   ]
  },
  {
   "cell_type": "code",
   "execution_count": 102,
   "id": "a40229df-6045-4039-817d-46a36a3c357f",
   "metadata": {},
   "outputs": [
    {
     "data": {
      "text/plain": [
       "4.5"
      ]
     },
     "execution_count": 102,
     "metadata": {},
     "output_type": "execute_result"
    }
   ],
   "source": [
    "random.choice((1.1,2.3,4.5))"
   ]
  },
  {
   "cell_type": "code",
   "execution_count": 104,
   "id": "a8b816e3-80b7-4b27-bd7e-a53a96d3718d",
   "metadata": {},
   "outputs": [
    {
     "data": {
      "text/plain": [
       "8"
      ]
     },
     "execution_count": 104,
     "metadata": {},
     "output_type": "execute_result"
    }
   ],
   "source": [
    "random.randrange(1,10) # it returns random number in random range "
   ]
  },
  {
   "cell_type": "code",
   "execution_count": 108,
   "id": "9e885f19-34de-4c09-b186-6d2aa374b285",
   "metadata": {},
   "outputs": [],
   "source": [
    "# if you want to suffle the list then \n",
    "lis=[1,2,3,4,5,6,7,8,9,10]\n",
    "random.shuffle(lis)"
   ]
  },
  {
   "cell_type": "code",
   "execution_count": 109,
   "id": "d682817e-052a-47f8-84be-d1af295a21e9",
   "metadata": {},
   "outputs": [
    {
     "data": {
      "text/plain": [
       "[4, 6, 10, 8, 5, 3, 2, 1, 7, 9]"
      ]
     },
     "execution_count": 109,
     "metadata": {},
     "output_type": "execute_result"
    }
   ],
   "source": [
    "lis"
   ]
  },
  {
   "cell_type": "code",
   "execution_count": 110,
   "id": "500cf565-fcfd-4333-96a1-25ab6cfe8355",
   "metadata": {},
   "outputs": [
    {
     "data": {
      "text/plain": [
       "10"
      ]
     },
     "execution_count": 110,
     "metadata": {},
     "output_type": "execute_result"
    }
   ],
   "source": [
    "random.randrange(7,14)"
   ]
  },
  {
   "cell_type": "code",
   "execution_count": 111,
   "id": "d3635056-2f15-457f-acb7-189c28832b2e",
   "metadata": {},
   "outputs": [
    {
     "data": {
      "text/plain": [
       "9.973254164322086"
      ]
     },
     "execution_count": 111,
     "metadata": {},
     "output_type": "execute_result"
    }
   ],
   "source": [
    "random.uniform(7,14)"
   ]
  },
  {
   "cell_type": "code",
   "execution_count": 112,
   "id": "06c13d88-c6d8-4c0c-ba10-823d17bc36e3",
   "metadata": {},
   "outputs": [],
   "source": [
    "# random number related concept in numpy "
   ]
  },
  {
   "cell_type": "code",
   "execution_count": 114,
   "id": "84684465-f0ad-404a-8fc5-d6ebfb5d8219",
   "metadata": {},
   "outputs": [
    {
     "data": {
      "text/plain": [
       "array([], dtype=float64)"
      ]
     },
     "execution_count": 114,
     "metadata": {},
     "output_type": "execute_result"
    }
   ],
   "source": [
    "np.array([])"
   ]
  },
  {
   "cell_type": "code",
   "execution_count": 115,
   "id": "7c6f4da1-fde9-4f7b-b132-1bc80e8c0ca3",
   "metadata": {},
   "outputs": [
    {
     "data": {
      "text/plain": [
       "0.25147643450780455"
      ]
     },
     "execution_count": 115,
     "metadata": {},
     "output_type": "execute_result"
    }
   ],
   "source": [
    "np.random.random_sample()"
   ]
  },
  {
   "cell_type": "code",
   "execution_count": 117,
   "id": "ad721e3b-4811-4d33-bcda-cf47d4bda42c",
   "metadata": {},
   "outputs": [
    {
     "data": {
      "text/plain": [
       "array([0.42270899, 0.82365656, 0.87722629, 0.57948249, 0.21404265])"
      ]
     },
     "execution_count": 117,
     "metadata": {},
     "output_type": "execute_result"
    }
   ],
   "source": [
    "np.random.random_sample((5,)) # it returns 1D array of 5 values"
   ]
  },
  {
   "cell_type": "code",
   "execution_count": 147,
   "id": "589cc466-a5b6-40a5-8430-8e70aa673033",
   "metadata": {},
   "outputs": [
    {
     "data": {
      "text/plain": [
       "array([[0.0238925 , 0.79300861, 0.10682123],\n",
       "       [0.86233951, 0.9351369 , 0.61018146]])"
      ]
     },
     "execution_count": 147,
     "metadata": {},
     "output_type": "execute_result"
    }
   ],
   "source": [
    "np.random.rand(2,3) # it returns 2Darray of 2 X 3 size"
   ]
  },
  {
   "cell_type": "code",
   "execution_count": 122,
   "id": "2880a42d-96fc-4948-a71c-4969ca17994d",
   "metadata": {},
   "outputs": [
    {
     "data": {
      "text/plain": [
       "array([[ 0.1445628 ,  0.54740604, -0.10898215, -2.22632613],\n",
       "       [ 0.1756214 ,  0.06680214, -0.21806241,  0.02709715]])"
      ]
     },
     "execution_count": 122,
     "metadata": {},
     "output_type": "execute_result"
    }
   ],
   "source": [
    "# it returns standard normal distribution \n",
    "# randn() >>>> Return a sample (or samples) from the \"standard normal\" distribution.\n",
    "np.random.randn(2,4)"
   ]
  },
  {
   "cell_type": "code",
   "execution_count": 125,
   "id": "3ed4a2e4-ea0d-4fae-bd84-bee18d713eb7",
   "metadata": {},
   "outputs": [],
   "source": [
    "arr=np.random.randint(1,6,size=(3,4)) # here 1 and 6 is the range and (3,4) is the row and column >> it returns 3 X 4 matrix of range 1 to 6 "
   ]
  },
  {
   "cell_type": "code",
   "execution_count": 126,
   "id": "455dcdec-5df4-478f-90c2-981e81c474a8",
   "metadata": {},
   "outputs": [
    {
     "data": {
      "text/plain": [
       "array([[1, 3, 2, 1],\n",
       "       [3, 5, 1, 5],\n",
       "       [1, 5, 3, 2]])"
      ]
     },
     "execution_count": 126,
     "metadata": {},
     "output_type": "execute_result"
    }
   ],
   "source": [
    "arr"
   ]
  },
  {
   "cell_type": "code",
   "execution_count": 127,
   "id": "81b80ef9-c66d-47a5-89c1-a44cfceb0bc8",
   "metadata": {},
   "outputs": [
    {
     "data": {
      "text/plain": [
       "2"
      ]
     },
     "execution_count": 127,
     "metadata": {},
     "output_type": "execute_result"
    }
   ],
   "source": [
    "arr.ndim"
   ]
  },
  {
   "cell_type": "code",
   "execution_count": 129,
   "id": "abb7ca3e-99e4-4a97-a451-6ca01920417a",
   "metadata": {},
   "outputs": [
    {
     "data": {
      "text/plain": [
       "(3, 4)"
      ]
     },
     "execution_count": 129,
     "metadata": {},
     "output_type": "execute_result"
    }
   ],
   "source": [
    "arr.shape"
   ]
  },
  {
   "cell_type": "code",
   "execution_count": 130,
   "id": "d1cc663c-60d5-457b-aa6d-a435cd90fe7d",
   "metadata": {},
   "outputs": [
    {
     "data": {
      "text/plain": [
       "12"
      ]
     },
     "execution_count": 130,
     "metadata": {},
     "output_type": "execute_result"
    }
   ],
   "source": [
    "arr.size"
   ]
  },
  {
   "cell_type": "code",
   "execution_count": 131,
   "id": "d07c10f4-1c05-4ffc-a680-9236e497aade",
   "metadata": {},
   "outputs": [],
   "source": [
    "# reshaping the array\n",
    "a1=np.array([[1,2,3],[4,5,6]])"
   ]
  },
  {
   "cell_type": "code",
   "execution_count": 132,
   "id": "35b95a18-2694-4a54-8f1a-ef201dc7cd31",
   "metadata": {},
   "outputs": [
    {
     "data": {
      "text/plain": [
       "array([[1, 2, 3],\n",
       "       [4, 5, 6]])"
      ]
     },
     "execution_count": 132,
     "metadata": {},
     "output_type": "execute_result"
    }
   ],
   "source": [
    "a1"
   ]
  },
  {
   "cell_type": "code",
   "execution_count": 134,
   "id": "adadccff-6593-4e94-a7b8-001da66d6ce4",
   "metadata": {},
   "outputs": [
    {
     "data": {
      "text/plain": [
       "array([[1, 2, 3, 4, 5, 6]])"
      ]
     },
     "execution_count": 134,
     "metadata": {},
     "output_type": "execute_result"
    }
   ],
   "source": [
    "a1.reshape(1,6)"
   ]
  },
  {
   "cell_type": "code",
   "execution_count": 135,
   "id": "9f8973d0-2109-4bc5-94e8-9e8671f25b43",
   "metadata": {},
   "outputs": [],
   "source": [
    "# another ex:\n",
    "arr=np.random.randint(1,6,size=(3,4))"
   ]
  },
  {
   "cell_type": "code",
   "execution_count": 136,
   "id": "6a4656ce-44e0-4d49-b5ba-82e5744a8378",
   "metadata": {},
   "outputs": [
    {
     "data": {
      "text/plain": [
       "array([[2, 2, 5, 1],\n",
       "       [2, 5, 2, 5],\n",
       "       [3, 3, 5, 1]])"
      ]
     },
     "execution_count": 136,
     "metadata": {},
     "output_type": "execute_result"
    }
   ],
   "source": [
    "arr"
   ]
  },
  {
   "cell_type": "code",
   "execution_count": 143,
   "id": "71482dd8-5323-4fe4-96dc-b9a5d6bd93ee",
   "metadata": {},
   "outputs": [],
   "source": [
    "arr1=arr.reshape(2,6) # Returns an array containing the same data with a new shape."
   ]
  },
  {
   "cell_type": "code",
   "execution_count": 145,
   "id": "c9d2dae5-659a-454f-8a40-d5fcc0b228b4",
   "metadata": {},
   "outputs": [
    {
     "data": {
      "text/plain": [
       "array([[2, 2, 5, 1, 2, 5],\n",
       "       [2, 5, 3, 3, 5, 1]])"
      ]
     },
     "execution_count": 145,
     "metadata": {},
     "output_type": "execute_result"
    }
   ],
   "source": [
    "arr1 #  if array size ==reshape array size then possible  means arr size=12 so reshape size must be 12 "
   ]
  },
  {
   "cell_type": "code",
   "execution_count": 146,
   "id": "09494328-3e1c-40a3-bfb0-055aedd1c042",
   "metadata": {},
   "outputs": [
    {
     "ename": "ValueError",
     "evalue": "cannot reshape array of size 12 into shape (2,8)",
     "output_type": "error",
     "traceback": [
      "\u001b[1;31m---------------------------------------------------------------------------\u001b[0m",
      "\u001b[1;31mValueError\u001b[0m                                Traceback (most recent call last)",
      "Cell \u001b[1;32mIn[146], line 1\u001b[0m\n\u001b[1;32m----> 1\u001b[0m arr1\u001b[38;5;241m=\u001b[39marr\u001b[38;5;241m.\u001b[39mreshape(\u001b[38;5;241m2\u001b[39m,\u001b[38;5;241m8\u001b[39m)\n",
      "\u001b[1;31mValueError\u001b[0m: cannot reshape array of size 12 into shape (2,8)"
     ]
    }
   ],
   "source": [
    "arr1=arr.reshape(2,8) # if here we use 2,8 then total no of element is 16 but inside arr 12 element present thats why error"
   ]
  },
  {
   "cell_type": "code",
   "execution_count": 149,
   "id": "2a0d0295-c000-4573-86a1-03b717f4b875",
   "metadata": {},
   "outputs": [
    {
     "ename": "ValueError",
     "evalue": "cannot reshape array of size 12 into shape (2,2)",
     "output_type": "error",
     "traceback": [
      "\u001b[1;31m---------------------------------------------------------------------------\u001b[0m",
      "\u001b[1;31mValueError\u001b[0m                                Traceback (most recent call last)",
      "Cell \u001b[1;32mIn[149], line 1\u001b[0m\n\u001b[1;32m----> 1\u001b[0m arr\u001b[38;5;241m.\u001b[39mreshape(\u001b[38;5;241m2\u001b[39m,\u001b[38;5;241m2\u001b[39m)\n",
      "\u001b[1;31mValueError\u001b[0m: cannot reshape array of size 12 into shape (2,2)"
     ]
    }
   ],
   "source": [
    "arr.reshape(2,2) # here current array size is 4 but main array size is 12 so error"
   ]
  },
  {
   "cell_type": "code",
   "execution_count": 152,
   "id": "3e1e7d2e-a2aa-448f-8a68-d081505ce104",
   "metadata": {},
   "outputs": [
    {
     "data": {
      "text/plain": [
       "array([[2, 2, 5],\n",
       "       [1, 2, 5],\n",
       "       [2, 5, 3],\n",
       "       [3, 5, 1]])"
      ]
     },
     "execution_count": 152,
     "metadata": {},
     "output_type": "execute_result"
    }
   ],
   "source": [
    "# case when you do not khow in reshape what should be the raw and column count \n",
    "# then use any negative value for rows and column \n",
    "arr.reshape(4,-1)# here we dont know the column count "
   ]
  },
  {
   "cell_type": "code",
   "execution_count": 153,
   "id": "799af3bf-0306-4ad6-871c-3550c7a888aa",
   "metadata": {},
   "outputs": [
    {
     "data": {
      "text/plain": [
       "array([[2, 2, 5],\n",
       "       [1, 2, 5],\n",
       "       [2, 5, 3],\n",
       "       [3, 5, 1]])"
      ]
     },
     "execution_count": 153,
     "metadata": {},
     "output_type": "execute_result"
    }
   ],
   "source": [
    "arr.reshape(-1,3) # here we dont know the row count "
   ]
  },
  {
   "cell_type": "code",
   "execution_count": 155,
   "id": "fa310f6d-ebab-42a0-a998-c175fad0264c",
   "metadata": {},
   "outputs": [
    {
     "data": {
      "text/plain": [
       "array([[2, 2, 5, 1],\n",
       "       [2, 5, 2, 5],\n",
       "       [3, 3, 5, 1]])"
      ]
     },
     "execution_count": 155,
     "metadata": {},
     "output_type": "execute_result"
    }
   ],
   "source": [
    " # if you want to see the original array then \n",
    "arr.reshape(2,6).base # here you have to pass any argument "
   ]
  },
  {
   "cell_type": "code",
   "execution_count": 158,
   "id": "e85d1a80-47dd-4471-977b-f6d25ba18308",
   "metadata": {},
   "outputs": [
    {
     "data": {
      "text/plain": [
       "array([[2, 2, 5, 1],\n",
       "       [2, 5, 2, 5],\n",
       "       [3, 3, 5, 1]])"
      ]
     },
     "execution_count": 158,
     "metadata": {},
     "output_type": "execute_result"
    }
   ],
   "source": [
    "arr.reshape(-1,6).base # here argument can be anything"
   ]
  },
  {
   "cell_type": "code",
   "execution_count": 159,
   "id": "abfac2ff-0add-4c2f-b00f-eb2a2b2c8843",
   "metadata": {},
   "outputs": [
    {
     "data": {
      "text/plain": [
       "12"
      ]
     },
     "execution_count": 159,
     "metadata": {},
     "output_type": "execute_result"
    }
   ],
   "source": [
    "arr.size"
   ]
  },
  {
   "cell_type": "code",
   "execution_count": 160,
   "id": "ca96a015-b8b3-4639-ba41-db65a5241996",
   "metadata": {},
   "outputs": [
    {
     "data": {
      "text/plain": [
       "array([[[2, 2, 5],\n",
       "        [1, 2, 5]],\n",
       "\n",
       "       [[2, 5, 3],\n",
       "        [3, 5, 1]]])"
      ]
     },
     "execution_count": 160,
     "metadata": {},
     "output_type": "execute_result"
    }
   ],
   "source": [
    "# reshape it into more dimension \n",
    "arr.reshape(2,2,3)  # always remember multiplication must be equal to array size\n",
    "# (2 x 2 x 3)=12 is array size(true)"
   ]
  },
  {
   "cell_type": "code",
   "execution_count": 161,
   "id": "a9d0c0d5-6525-41d2-a174-7d847d385d65",
   "metadata": {},
   "outputs": [
    {
     "data": {
      "text/plain": [
       "array([[[2, 2],\n",
       "        [5, 1]],\n",
       "\n",
       "       [[2, 5],\n",
       "        [2, 5]],\n",
       "\n",
       "       [[3, 3],\n",
       "        [5, 1]]])"
      ]
     },
     "execution_count": 161,
     "metadata": {},
     "output_type": "execute_result"
    }
   ],
   "source": [
    "# another way \n",
    "arr.reshape(3,2,2)"
   ]
  },
  {
   "cell_type": "code",
   "execution_count": 163,
   "id": "d2194cea-98fa-4263-aaae-2caef43d2f6f",
   "metadata": {},
   "outputs": [
    {
     "data": {
      "text/plain": [
       "array([[[2, 2, 5]],\n",
       "\n",
       "       [[1, 2, 5]],\n",
       "\n",
       "       [[2, 5, 3]],\n",
       "\n",
       "       [[3, 5, 1]]])"
      ]
     },
     "execution_count": 163,
     "metadata": {},
     "output_type": "execute_result"
    }
   ],
   "source": [
    "#another way \n",
    "arr.reshape(4,1,3)"
   ]
  },
  {
   "cell_type": "code",
   "execution_count": 164,
   "id": "44237580-9f44-414e-8bfe-1155a9a6044e",
   "metadata": {},
   "outputs": [
    {
     "data": {
      "text/plain": [
       "array([[[[2, 2, 5],\n",
       "         [1, 2, 5]],\n",
       "\n",
       "        [[2, 5, 3],\n",
       "         [3, 5, 1]]]])"
      ]
     },
     "execution_count": 164,
     "metadata": {},
     "output_type": "execute_result"
    }
   ],
   "source": [
    "#another way \n",
    "arr.reshape(1,2,2,3)"
   ]
  },
  {
   "cell_type": "code",
   "execution_count": 165,
   "id": "e280d59d-1ce5-4057-a05f-9d518cead966",
   "metadata": {},
   "outputs": [
    {
     "data": {
      "text/plain": [
       "4"
      ]
     },
     "execution_count": 165,
     "metadata": {},
     "output_type": "execute_result"
    }
   ],
   "source": [
    "arr.reshape(1,2,2,3).ndim"
   ]
  },
  {
   "cell_type": "code",
   "execution_count": 167,
   "id": "d96ca7a4-ec21-4633-9eae-b7c74a4ecc08",
   "metadata": {},
   "outputs": [
    {
     "data": {
      "text/plain": [
       "array([[[2],\n",
       "        [2],\n",
       "        [5]],\n",
       "\n",
       "       [[1],\n",
       "        [2],\n",
       "        [5]],\n",
       "\n",
       "       [[2],\n",
       "        [5],\n",
       "        [3]],\n",
       "\n",
       "       [[3],\n",
       "        [5],\n",
       "        [1]]])"
      ]
     },
     "execution_count": 167,
     "metadata": {},
     "output_type": "execute_result"
    }
   ],
   "source": [
    "arr.reshape(4,3,1) # three rows and 1 column repeat it four times "
   ]
  },
  {
   "cell_type": "code",
   "execution_count": 2,
   "id": "8fcdb77b-8178-4fae-bc9d-b079713e1c7a",
   "metadata": {},
   "outputs": [],
   "source": [
    "# conditions on array \n",
    "arr1=np.random.randint(1,10,size=(5,6))"
   ]
  },
  {
   "cell_type": "code",
   "execution_count": 3,
   "id": "8fd6acf3-babe-4c8b-b800-321b17e4d746",
   "metadata": {},
   "outputs": [
    {
     "data": {
      "text/plain": [
       "array([[4, 6, 4, 3, 8, 6],\n",
       "       [5, 2, 2, 2, 5, 7],\n",
       "       [6, 2, 2, 1, 1, 4],\n",
       "       [9, 2, 9, 3, 3, 5],\n",
       "       [1, 3, 4, 9, 3, 5]])"
      ]
     },
     "execution_count": 3,
     "metadata": {},
     "output_type": "execute_result"
    }
   ],
   "source": [
    "arr1"
   ]
  },
  {
   "cell_type": "code",
   "execution_count": 7,
   "id": "fa3ce59a-44a7-4fae-a396-3095a6bf0866",
   "metadata": {},
   "outputs": [
    {
     "data": {
      "text/plain": [
       "(5, 6)"
      ]
     },
     "execution_count": 7,
     "metadata": {},
     "output_type": "execute_result"
    }
   ],
   "source": [
    "arr1.shape"
   ]
  },
  {
   "cell_type": "code",
   "execution_count": 8,
   "id": "a41acc38-b70f-4e2e-9d97-665bf6966997",
   "metadata": {},
   "outputs": [
    {
     "data": {
      "text/plain": [
       "30"
      ]
     },
     "execution_count": 8,
     "metadata": {},
     "output_type": "execute_result"
    }
   ],
   "source": [
    "arr1.size"
   ]
  },
  {
   "cell_type": "code",
   "execution_count": 9,
   "id": "d9c2a4bb-b213-4891-8770-85c5da21a72d",
   "metadata": {},
   "outputs": [
    {
     "data": {
      "text/plain": [
       "2"
      ]
     },
     "execution_count": 9,
     "metadata": {},
     "output_type": "execute_result"
    }
   ],
   "source": [
    "arr1.ndim"
   ]
  },
  {
   "cell_type": "code",
   "execution_count": 10,
   "id": "7dfc81c8-661f-4d52-93f7-81a4a5fdb899",
   "metadata": {},
   "outputs": [],
   "source": [
    " # now check the arr condition \n",
    "# first confition element >3\n",
    "arr2=arr1>3"
   ]
  },
  {
   "cell_type": "code",
   "execution_count": 11,
   "id": "408a4f0f-2a6c-457e-84b7-66c03a1dd82f",
   "metadata": {},
   "outputs": [
    {
     "data": {
      "text/plain": [
       "array([[ True,  True,  True, False,  True,  True],\n",
       "       [ True, False, False, False,  True,  True],\n",
       "       [ True, False, False, False, False,  True],\n",
       "       [ True, False,  True, False, False,  True],\n",
       "       [False, False,  True,  True, False,  True]])"
      ]
     },
     "execution_count": 11,
     "metadata": {},
     "output_type": "execute_result"
    }
   ],
   "source": [
    "arr2"
   ]
  },
  {
   "cell_type": "code",
   "execution_count": 12,
   "id": "74c892ec-5c3a-4ce1-9966-8ee30965f0df",
   "metadata": {},
   "outputs": [
    {
     "data": {
      "text/plain": [
       "array([4, 6, 4, 8, 6, 5, 5, 7, 6, 4, 9, 9, 5, 4, 9, 5])"
      ]
     },
     "execution_count": 12,
     "metadata": {},
     "output_type": "execute_result"
    }
   ],
   "source": [
    "arr1[arr1>3]"
   ]
  },
  {
   "cell_type": "code",
   "execution_count": 13,
   "id": "b9d809fa-f201-4e48-ab1e-499d5ec2b1d7",
   "metadata": {},
   "outputs": [
    {
     "data": {
      "text/plain": [
       "array([2, 2, 2, 2, 2, 1, 1, 2, 1])"
      ]
     },
     "execution_count": 13,
     "metadata": {},
     "output_type": "execute_result"
    }
   ],
   "source": [
    "arr1[arr1<3]"
   ]
  },
  {
   "cell_type": "code",
   "execution_count": 14,
   "id": "038fdc3a-062e-4e13-ad7a-dff734fbf846",
   "metadata": {},
   "outputs": [
    {
     "data": {
      "text/plain": [
       "array([[4, 6, 4, 3, 8, 6],\n",
       "       [5, 2, 2, 2, 5, 7],\n",
       "       [6, 2, 2, 1, 1, 4],\n",
       "       [9, 2, 9, 3, 3, 5],\n",
       "       [1, 3, 4, 9, 3, 5]])"
      ]
     },
     "execution_count": 14,
     "metadata": {},
     "output_type": "execute_result"
    }
   ],
   "source": [
    "arr1"
   ]
  },
  {
   "cell_type": "code",
   "execution_count": 15,
   "id": "2224f06e-4e88-4bf1-92be-d3d572f6fb02",
   "metadata": {},
   "outputs": [
    {
     "data": {
      "text/plain": [
       "array([4, 6, 4, 3, 8, 6])"
      ]
     },
     "execution_count": 15,
     "metadata": {},
     "output_type": "execute_result"
    }
   ],
   "source": [
    "# acessing element of an array\n",
    "arr1[0]"
   ]
  },
  {
   "cell_type": "code",
   "execution_count": 16,
   "id": "ab32edd0-22d5-4c2f-bedf-270be55b5deb",
   "metadata": {},
   "outputs": [
    {
     "data": {
      "text/plain": [
       "array([5, 2, 2, 2, 5, 7])"
      ]
     },
     "execution_count": 16,
     "metadata": {},
     "output_type": "execute_result"
    }
   ],
   "source": [
    "arr1[1]"
   ]
  },
  {
   "cell_type": "code",
   "execution_count": 18,
   "id": "df4dbc38-204e-4fa0-98c3-441fe517af47",
   "metadata": {},
   "outputs": [
    {
     "data": {
      "text/plain": [
       "array([9, 2, 9, 3, 3, 5])"
      ]
     },
     "execution_count": 18,
     "metadata": {},
     "output_type": "execute_result"
    }
   ],
   "source": [
    "arr1[3]"
   ]
  },
  {
   "cell_type": "code",
   "execution_count": 19,
   "id": "24e3c04d-a881-4519-9c6f-ee3aaaa12338",
   "metadata": {},
   "outputs": [
    {
     "data": {
      "text/plain": [
       "9"
      ]
     },
     "execution_count": 19,
     "metadata": {},
     "output_type": "execute_result"
    }
   ],
   "source": [
    "arr1[3][2]"
   ]
  },
  {
   "cell_type": "code",
   "execution_count": 20,
   "id": "ff3f0985-304e-4b79-8945-bff1b10c50b4",
   "metadata": {},
   "outputs": [
    {
     "data": {
      "text/plain": [
       "array([1, 3, 4, 9, 3, 5])"
      ]
     },
     "execution_count": 20,
     "metadata": {},
     "output_type": "execute_result"
    }
   ],
   "source": [
    "arr1[4]"
   ]
  },
  {
   "cell_type": "code",
   "execution_count": 21,
   "id": "62bd3450-a492-450b-9e91-0ba8071c59ea",
   "metadata": {},
   "outputs": [
    {
     "data": {
      "text/plain": [
       "3"
      ]
     },
     "execution_count": 21,
     "metadata": {},
     "output_type": "execute_result"
    }
   ],
   "source": [
    "arr1[4][4]"
   ]
  },
  {
   "cell_type": "code",
   "execution_count": 25,
   "id": "ef83c4c2-b6dc-4395-a4a1-585f9b4d90d2",
   "metadata": {},
   "outputs": [
    {
     "data": {
      "text/plain": [
       "array([[4, 6, 4, 3, 8, 6],\n",
       "       [5, 2, 2, 2, 5, 7],\n",
       "       [6, 2, 2, 1, 1, 4],\n",
       "       [9, 2, 9, 3, 3, 5]])"
      ]
     },
     "execution_count": 25,
     "metadata": {},
     "output_type": "execute_result"
    }
   ],
   "source": [
    "# you want to access 0th row to 3rd row\n",
    "arr1[0:4] # here 4 is exclusive"
   ]
  },
  {
   "cell_type": "code",
   "execution_count": 28,
   "id": "1a12d96b-f760-4928-8375-a5713ba1bd1e",
   "metadata": {},
   "outputs": [
    {
     "data": {
      "text/plain": [
       "array([[4, 6, 4, 3, 8, 6],\n",
       "       [6, 2, 2, 1, 1, 4]])"
      ]
     },
     "execution_count": 28,
     "metadata": {},
     "output_type": "execute_result"
    }
   ],
   "source": [
    "# if you want to jump as 0th row then 2nd row then 4th row then\n",
    "arr1[0:4:2]   # slicing the array"
   ]
  },
  {
   "cell_type": "code",
   "execution_count": 33,
   "id": "c27e3528-18ac-44f3-abc3-37bbf746da42",
   "metadata": {},
   "outputs": [
    {
     "data": {
      "text/plain": [
       "array([[4, 3],\n",
       "       [5, 2],\n",
       "       [6, 1]])"
      ]
     },
     "execution_count": 33,
     "metadata": {},
     "output_type": "execute_result"
    }
   ],
   "source": [
    "# if you want to access 0th to 2nd row and 0th column and 3rd column\n",
    "arr1[0:3,[0,3]] # when you want to access specific column then [column1,column2] here column1 is 0th and column2 is 3rd column "
   ]
  },
  {
   "cell_type": "code",
   "execution_count": 30,
   "id": "0fa14b2d-44d2-4db3-94d6-b0ae03f43b7b",
   "metadata": {},
   "outputs": [
    {
     "data": {
      "text/plain": [
       "array([[4, 6, 4, 3, 8, 6],\n",
       "       [5, 2, 2, 2, 5, 7],\n",
       "       [6, 2, 2, 1, 1, 4],\n",
       "       [9, 2, 9, 3, 3, 5],\n",
       "       [1, 3, 4, 9, 3, 5]])"
      ]
     },
     "execution_count": 30,
     "metadata": {},
     "output_type": "execute_result"
    }
   ],
   "source": [
    "# slicing of both rows and column \n",
    "arr1"
   ]
  },
  {
   "cell_type": "code",
   "execution_count": 32,
   "id": "cfac3f15-5de3-478c-870c-d3af3d4da8dd",
   "metadata": {},
   "outputs": [
    {
     "data": {
      "text/plain": [
       "array([[6, 4, 3],\n",
       "       [2, 2, 2],\n",
       "       [2, 2, 1],\n",
       "       [2, 9, 3]])"
      ]
     },
     "execution_count": 32,
     "metadata": {},
     "output_type": "execute_result"
    }
   ],
   "source": [
    "# want 0 to 3rd row and 1 to 3rd column\n",
    "arr1[0:4,1:4] "
   ]
  },
  {
   "cell_type": "code",
   "execution_count": 34,
   "id": "878e3727-de5d-4c1e-b888-acdad3825f7f",
   "metadata": {},
   "outputs": [
    {
     "data": {
      "text/plain": [
       "array([[2, 1],\n",
       "       [2, 3]])"
      ]
     },
     "execution_count": 34,
     "metadata": {},
     "output_type": "execute_result"
    }
   ],
   "source": [
    "arr1[2:4,[1,4]] "
   ]
  },
  {
   "cell_type": "code",
   "execution_count": 39,
   "id": "431fec85-e8c7-4f17-b5e3-46fa2c41beed",
   "metadata": {},
   "outputs": [],
   "source": [
    "# mathmatical operation between two arrays\n",
    "arr1=np.random.randint(1,3,(3,3)) # means in between 1 to 3 (exclusive) matrix will be filled \n",
    "arr2=np.random.randint(1,4,(3,3))"
   ]
  },
  {
   "cell_type": "code",
   "execution_count": 40,
   "id": "faaa51f8-1800-4608-ae6e-c70fa1bc6403",
   "metadata": {},
   "outputs": [
    {
     "data": {
      "text/plain": [
       "array([[1, 1, 2],\n",
       "       [2, 2, 2],\n",
       "       [2, 1, 1]])"
      ]
     },
     "execution_count": 40,
     "metadata": {},
     "output_type": "execute_result"
    }
   ],
   "source": [
    "arr1"
   ]
  },
  {
   "cell_type": "code",
   "execution_count": 41,
   "id": "719e8164-d067-4c74-aaa2-dbe4e136ca5c",
   "metadata": {},
   "outputs": [
    {
     "data": {
      "text/plain": [
       "array([[1, 3, 3],\n",
       "       [3, 1, 2],\n",
       "       [2, 3, 2]])"
      ]
     },
     "execution_count": 41,
     "metadata": {},
     "output_type": "execute_result"
    }
   ],
   "source": [
    "arr2"
   ]
  },
  {
   "cell_type": "code",
   "execution_count": 47,
   "id": "7ff14679-91f3-4587-b283-a4305cb216dc",
   "metadata": {},
   "outputs": [],
   "source": [
    "add=arr1+arr2  # index wise addition "
   ]
  },
  {
   "cell_type": "code",
   "execution_count": 44,
   "id": "47cae7a6-e9df-4929-8bc6-f107d6b14d0e",
   "metadata": {},
   "outputs": [
    {
     "data": {
      "text/plain": [
       "array([[2, 4, 5],\n",
       "       [5, 3, 4],\n",
       "       [4, 4, 3]])"
      ]
     },
     "execution_count": 44,
     "metadata": {},
     "output_type": "execute_result"
    }
   ],
   "source": [
    "add"
   ]
  },
  {
   "cell_type": "code",
   "execution_count": 54,
   "id": "09edaf3b-8922-4553-9856-00cbd02ef6cc",
   "metadata": {},
   "outputs": [],
   "source": [
    "mul=arr1*arr2  #index wise multiplication not matrix multiplication"
   ]
  },
  {
   "cell_type": "code",
   "execution_count": 55,
   "id": "ef1c60aa-5fec-4702-bf62-0db7024de75d",
   "metadata": {},
   "outputs": [
    {
     "data": {
      "text/plain": [
       "array([[1, 3, 6],\n",
       "       [6, 2, 4],\n",
       "       [4, 3, 2]])"
      ]
     },
     "execution_count": 55,
     "metadata": {},
     "output_type": "execute_result"
    }
   ],
   "source": [
    "mul"
   ]
  },
  {
   "cell_type": "code",
   "execution_count": 50,
   "id": "88eb72c3-5e17-4331-b323-bdfa10f448b6",
   "metadata": {},
   "outputs": [],
   "source": [
    "sub=arr2-arr1"
   ]
  },
  {
   "cell_type": "code",
   "execution_count": 51,
   "id": "22e018af-3a39-4bba-b2ca-ef20b63681c9",
   "metadata": {},
   "outputs": [
    {
     "data": {
      "text/plain": [
       "array([[ 0,  2,  1],\n",
       "       [ 1, -1,  0],\n",
       "       [ 0,  2,  1]])"
      ]
     },
     "execution_count": 51,
     "metadata": {},
     "output_type": "execute_result"
    }
   ],
   "source": [
    "sub"
   ]
  },
  {
   "cell_type": "code",
   "execution_count": 52,
   "id": "f114168d-e2bf-4e4f-9bb0-d49b4a8f7c89",
   "metadata": {},
   "outputs": [],
   "source": [
    "sub1=arr1-arr2"
   ]
  },
  {
   "cell_type": "code",
   "execution_count": 53,
   "id": "35ff4e8e-17ba-497f-b8c6-a753de293600",
   "metadata": {},
   "outputs": [
    {
     "data": {
      "text/plain": [
       "array([[ 0, -2, -1],\n",
       "       [-1,  1,  0],\n",
       "       [ 0, -2, -1]])"
      ]
     },
     "execution_count": 53,
     "metadata": {},
     "output_type": "execute_result"
    }
   ],
   "source": [
    "sub1"
   ]
  },
  {
   "cell_type": "code",
   "execution_count": 56,
   "id": "1de091c9-e00f-4085-83e5-fd4cacacaffa",
   "metadata": {},
   "outputs": [
    {
     "data": {
      "text/plain": [
       "array([[1.        , 0.33333333, 0.66666667],\n",
       "       [0.66666667, 2.        , 1.        ],\n",
       "       [1.        , 0.33333333, 0.5       ]])"
      ]
     },
     "execution_count": 56,
     "metadata": {},
     "output_type": "execute_result"
    }
   ],
   "source": [
    "# index wise division \n",
    "arr1/arr2"
   ]
  },
  {
   "cell_type": "code",
   "execution_count": 57,
   "id": "c99c9533-4a1b-4e28-b157-3463824f57e7",
   "metadata": {},
   "outputs": [
    {
     "name": "stderr",
     "output_type": "stream",
     "text": [
      "C:\\Users\\kalya\\AppData\\Local\\Temp\\ipykernel_12928\\2960180225.py:2: RuntimeWarning: divide by zero encountered in divide\n",
      "  arr1/0\n"
     ]
    },
    {
     "data": {
      "text/plain": [
       "array([[inf, inf, inf],\n",
       "       [inf, inf, inf],\n",
       "       [inf, inf, inf]])"
      ]
     },
     "execution_count": 57,
     "metadata": {},
     "output_type": "execute_result"
    }
   ],
   "source": [
    "# divide by zero \n",
    "arr1/0"
   ]
  },
  {
   "cell_type": "code",
   "execution_count": 58,
   "id": "8cdbfcc8-8117-4b46-804e-b14bb0ad8757",
   "metadata": {},
   "outputs": [
    {
     "data": {
      "text/plain": [
       "array([[ 8, 10,  9],\n",
       "       [12, 14, 14],\n",
       "       [ 7, 10, 10]])"
      ]
     },
     "execution_count": 58,
     "metadata": {},
     "output_type": "execute_result"
    }
   ],
   "source": [
    "# matrix multiplicationn : specialiased from 2-D array \n",
    "# it different from matrix index wise multiplication\n",
    "# for matrix chain multiplication we use \" @ \"\n",
    "arr1 @ arr2"
   ]
  },
  {
   "cell_type": "code",
   "execution_count": 59,
   "id": "d6aaf574-e866-4441-9a8a-da6b7dc566d3",
   "metadata": {},
   "outputs": [
    {
     "data": {
      "text/plain": [
       "array([[1, 3, 6],\n",
       "       [6, 2, 4],\n",
       "       [4, 3, 2]])"
      ]
     },
     "execution_count": 59,
     "metadata": {},
     "output_type": "execute_result"
    }
   ],
   "source": [
    "# index multiplication \n",
    "arr1 * arr2"
   ]
  },
  {
   "cell_type": "code",
   "execution_count": 60,
   "id": "e6eef4d7-8827-43b6-a8e0-d264c1644be9",
   "metadata": {},
   "outputs": [],
   "source": [
    "# condition for matrix multiplication is no of column is equal to no of row of another matrix \n",
    "# 3 X 4 and 4 X 3 ,here 4 and 4 is equal \n",
    "# and the result matrix will be 3 X 3 means if a X b and b X a are two matrix then result matrix will be a X c"
   ]
  },
  {
   "cell_type": "code",
   "execution_count": 61,
   "id": "796d4f6e-4120-4d01-850e-0bd901dfb86c",
   "metadata": {},
   "outputs": [],
   "source": [
    "# ANOTHER CONCEPT BROADCASTING\n",
    "arr=np.zeros((3,4))"
   ]
  },
  {
   "cell_type": "code",
   "execution_count": 62,
   "id": "458c58d0-52dd-41f2-9c45-7762dee34fcb",
   "metadata": {},
   "outputs": [
    {
     "data": {
      "text/plain": [
       "array([[0., 0., 0., 0.],\n",
       "       [0., 0., 0., 0.],\n",
       "       [0., 0., 0., 0.]])"
      ]
     },
     "execution_count": 62,
     "metadata": {},
     "output_type": "execute_result"
    }
   ],
   "source": [
    "arr"
   ]
  },
  {
   "cell_type": "code",
   "execution_count": 63,
   "id": "5f96c454-bcbb-45d7-8587-ebce21a92017",
   "metadata": {},
   "outputs": [
    {
     "data": {
      "text/plain": [
       "array([[5., 5., 5., 5.],\n",
       "       [5., 5., 5., 5.],\n",
       "       [5., 5., 5., 5.]])"
      ]
     },
     "execution_count": 63,
     "metadata": {},
     "output_type": "execute_result"
    }
   ],
   "source": [
    "arr+5"
   ]
  },
  {
   "cell_type": "code",
   "execution_count": 64,
   "id": "e2aa070b-a9c8-429b-b369-43ef9b6e8286",
   "metadata": {},
   "outputs": [
    {
     "data": {
      "text/plain": [
       "array([[1., 2., 3., 4.],\n",
       "       [1., 2., 3., 4.],\n",
       "       [1., 2., 3., 4.]])"
      ]
     },
     "execution_count": 64,
     "metadata": {},
     "output_type": "execute_result"
    }
   ],
   "source": [
    "arr+[1,2,3,4]"
   ]
  },
  {
   "cell_type": "code",
   "execution_count": 65,
   "id": "fdc86257-d9e7-447f-afcf-8107d44726de",
   "metadata": {},
   "outputs": [],
   "source": [
    "a=np.array([1,2,3,4])"
   ]
  },
  {
   "cell_type": "code",
   "execution_count": 66,
   "id": "1a653999-9f43-4cb1-8747-f59a4c38e3d7",
   "metadata": {},
   "outputs": [
    {
     "data": {
      "text/plain": [
       "array([1, 2, 3, 4])"
      ]
     },
     "execution_count": 66,
     "metadata": {},
     "output_type": "execute_result"
    }
   ],
   "source": [
    "a"
   ]
  },
  {
   "cell_type": "code",
   "execution_count": 67,
   "id": "ea5e5827-6b81-4a6f-8637-088726e163cc",
   "metadata": {},
   "outputs": [
    {
     "data": {
      "text/plain": [
       "array([[1., 2., 3., 4.],\n",
       "       [1., 2., 3., 4.],\n",
       "       [1., 2., 3., 4.]])"
      ]
     },
     "execution_count": 67,
     "metadata": {},
     "output_type": "execute_result"
    }
   ],
   "source": [
    "arr+a"
   ]
  },
  {
   "cell_type": "code",
   "execution_count": 72,
   "id": "3c9d5418-8f0e-4282-a336-5cffeb38095c",
   "metadata": {},
   "outputs": [],
   "source": [
    "# another concept is TRANSPOSE  >> IT converts rows to column and column to rows\n",
    "# it can transpose the 2-D arrays on the other hand it has no effect on 1-D array\n",
    "# byusing \" T \" we transpose the data \n",
    "arr2=np.random.randint(1,5,(3,4))\n"
   ]
  },
  {
   "cell_type": "code",
   "execution_count": 73,
   "id": "060aadec-c4ed-4e9c-b763-8bd96a6e9a79",
   "metadata": {},
   "outputs": [
    {
     "data": {
      "text/plain": [
       "array([[2, 3, 4, 3],\n",
       "       [1, 3, 2, 1],\n",
       "       [3, 1, 2, 3]])"
      ]
     },
     "execution_count": 73,
     "metadata": {},
     "output_type": "execute_result"
    }
   ],
   "source": [
    "arr2"
   ]
  },
  {
   "cell_type": "code",
   "execution_count": 74,
   "id": "be858d92-9fe0-4ce7-83f2-9737769d0317",
   "metadata": {},
   "outputs": [
    {
     "data": {
      "text/plain": [
       "array([[2, 1, 3],\n",
       "       [3, 3, 1],\n",
       "       [4, 2, 2],\n",
       "       [3, 1, 3]])"
      ]
     },
     "execution_count": 74,
     "metadata": {},
     "output_type": "execute_result"
    }
   ],
   "source": [
    "arr2.T"
   ]
  },
  {
   "cell_type": "code",
   "execution_count": 75,
   "id": "27fcaa3c-c924-450c-879e-4b019f9360da",
   "metadata": {},
   "outputs": [],
   "source": [
    "a=np.array([[1,2,3,4],[2,5,6,7],[11,12,13,14]])"
   ]
  },
  {
   "cell_type": "code",
   "execution_count": 76,
   "id": "aa28a326-000a-4d8a-9a7d-e16849d8dc51",
   "metadata": {},
   "outputs": [
    {
     "data": {
      "text/plain": [
       "array([[ 1,  2,  3,  4],\n",
       "       [ 2,  5,  6,  7],\n",
       "       [11, 12, 13, 14]])"
      ]
     },
     "execution_count": 76,
     "metadata": {},
     "output_type": "execute_result"
    }
   ],
   "source": [
    "a"
   ]
  },
  {
   "cell_type": "code",
   "execution_count": 77,
   "id": "4a46b3a0-ea8e-4db2-a008-5a845e122e16",
   "metadata": {},
   "outputs": [
    {
     "data": {
      "text/plain": [
       "array([[ 1,  2, 11],\n",
       "       [ 2,  5, 12],\n",
       "       [ 3,  6, 13],\n",
       "       [ 4,  7, 14]])"
      ]
     },
     "execution_count": 77,
     "metadata": {},
     "output_type": "execute_result"
    }
   ],
   "source": [
    "a.T"
   ]
  },
  {
   "cell_type": "code",
   "execution_count": null,
   "id": "e71487cf-1000-46ca-976f-a2d8b72ba708",
   "metadata": {},
   "outputs": [],
   "source": []
  }
 ],
 "metadata": {
  "kernelspec": {
   "display_name": "Python 3 (ipykernel)",
   "language": "python",
   "name": "python3"
  },
  "language_info": {
   "codemirror_mode": {
    "name": "ipython",
    "version": 3
   },
   "file_extension": ".py",
   "mimetype": "text/x-python",
   "name": "python",
   "nbconvert_exporter": "python",
   "pygments_lexer": "ipython3",
   "version": "3.11.7"
  }
 },
 "nbformat": 4,
 "nbformat_minor": 5
}
